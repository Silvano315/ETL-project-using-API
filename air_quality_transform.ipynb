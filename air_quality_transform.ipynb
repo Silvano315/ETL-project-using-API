{
 "cells": [
  {
   "cell_type": "markdown",
   "metadata": {},
   "source": [
    "# ETL Project: Transform step"
   ]
  },
  {
   "cell_type": "markdown",
   "metadata": {},
   "source": [
    "## 1. Import Libraries"
   ]
  },
  {
   "cell_type": "code",
   "execution_count": 24,
   "metadata": {},
   "outputs": [],
   "source": [
    "import pandas as pd\n",
    "import numpy as np\n",
    "import matplotlib.pyplot as plt\n",
    "import seaborn as sns\n",
    "import plotly.express as px\n",
    "import plotly.graph_objects as go\n",
    "import plotly.figure_factory as ff\n",
    "from datetime import datetime"
   ]
  },
  {
   "cell_type": "markdown",
   "metadata": {},
   "source": [
    "## 2. Load Json Dataset"
   ]
  },
  {
   "cell_type": "code",
   "execution_count": 25,
   "metadata": {},
   "outputs": [
    {
     "data": {
      "text/html": [
       "<div>\n",
       "<style scoped>\n",
       "    .dataframe tbody tr th:only-of-type {\n",
       "        vertical-align: middle;\n",
       "    }\n",
       "\n",
       "    .dataframe tbody tr th {\n",
       "        vertical-align: top;\n",
       "    }\n",
       "\n",
       "    .dataframe thead th {\n",
       "        text-align: right;\n",
       "    }\n",
       "</style>\n",
       "<table border=\"1\" class=\"dataframe\">\n",
       "  <thead>\n",
       "    <tr style=\"text-align: right;\">\n",
       "      <th></th>\n",
       "      <th>city_name</th>\n",
       "      <th>country_code</th>\n",
       "      <th>lat</th>\n",
       "      <th>lon</th>\n",
       "      <th>state_code</th>\n",
       "      <th>timezone</th>\n",
       "      <th>aqi</th>\n",
       "      <th>co</th>\n",
       "      <th>datetime</th>\n",
       "      <th>no2</th>\n",
       "      <th>o3</th>\n",
       "      <th>pm10</th>\n",
       "      <th>pm25</th>\n",
       "      <th>so2</th>\n",
       "      <th>timestamp_local</th>\n",
       "      <th>timestamp_utc</th>\n",
       "      <th>ts</th>\n",
       "    </tr>\n",
       "  </thead>\n",
       "  <tbody>\n",
       "    <tr>\n",
       "      <th>0</th>\n",
       "      <td>Milan</td>\n",
       "      <td>IT</td>\n",
       "      <td>45.464</td>\n",
       "      <td>9.188</td>\n",
       "      <td>9</td>\n",
       "      <td>Europe/Rome</td>\n",
       "      <td>49</td>\n",
       "      <td>54.9</td>\n",
       "      <td>2024-09-06:15</td>\n",
       "      <td>2.0</td>\n",
       "      <td>107.0</td>\n",
       "      <td>13.0</td>\n",
       "      <td>9.00</td>\n",
       "      <td>3.0</td>\n",
       "      <td>2024-09-06T17:00:00</td>\n",
       "      <td>2024-09-06T15:00:00</td>\n",
       "      <td>1725634800</td>\n",
       "    </tr>\n",
       "    <tr>\n",
       "      <th>1</th>\n",
       "      <td>Milan</td>\n",
       "      <td>IT</td>\n",
       "      <td>45.464</td>\n",
       "      <td>9.188</td>\n",
       "      <td>9</td>\n",
       "      <td>Europe/Rome</td>\n",
       "      <td>49</td>\n",
       "      <td>55.1</td>\n",
       "      <td>2024-09-06:14</td>\n",
       "      <td>2.0</td>\n",
       "      <td>105.3</td>\n",
       "      <td>12.7</td>\n",
       "      <td>8.67</td>\n",
       "      <td>3.3</td>\n",
       "      <td>2024-09-06T16:00:00</td>\n",
       "      <td>2024-09-06T14:00:00</td>\n",
       "      <td>1725631200</td>\n",
       "    </tr>\n",
       "    <tr>\n",
       "      <th>2</th>\n",
       "      <td>Milan</td>\n",
       "      <td>IT</td>\n",
       "      <td>45.464</td>\n",
       "      <td>9.188</td>\n",
       "      <td>9</td>\n",
       "      <td>Europe/Rome</td>\n",
       "      <td>48</td>\n",
       "      <td>55.2</td>\n",
       "      <td>2024-09-06:13</td>\n",
       "      <td>2.0</td>\n",
       "      <td>103.7</td>\n",
       "      <td>12.3</td>\n",
       "      <td>8.33</td>\n",
       "      <td>3.7</td>\n",
       "      <td>2024-09-06T15:00:00</td>\n",
       "      <td>2024-09-06T13:00:00</td>\n",
       "      <td>1725627600</td>\n",
       "    </tr>\n",
       "    <tr>\n",
       "      <th>3</th>\n",
       "      <td>Milan</td>\n",
       "      <td>IT</td>\n",
       "      <td>45.464</td>\n",
       "      <td>9.188</td>\n",
       "      <td>9</td>\n",
       "      <td>Europe/Rome</td>\n",
       "      <td>47</td>\n",
       "      <td>55.4</td>\n",
       "      <td>2024-09-06:12</td>\n",
       "      <td>2.0</td>\n",
       "      <td>102.0</td>\n",
       "      <td>12.0</td>\n",
       "      <td>8.00</td>\n",
       "      <td>4.0</td>\n",
       "      <td>2024-09-06T14:00:00</td>\n",
       "      <td>2024-09-06T12:00:00</td>\n",
       "      <td>1725624000</td>\n",
       "    </tr>\n",
       "    <tr>\n",
       "      <th>4</th>\n",
       "      <td>Milan</td>\n",
       "      <td>IT</td>\n",
       "      <td>45.464</td>\n",
       "      <td>9.188</td>\n",
       "      <td>9</td>\n",
       "      <td>Europe/Rome</td>\n",
       "      <td>45</td>\n",
       "      <td>56.4</td>\n",
       "      <td>2024-09-06:11</td>\n",
       "      <td>2.3</td>\n",
       "      <td>97.7</td>\n",
       "      <td>12.0</td>\n",
       "      <td>8.00</td>\n",
       "      <td>4.3</td>\n",
       "      <td>2024-09-06T13:00:00</td>\n",
       "      <td>2024-09-06T11:00:00</td>\n",
       "      <td>1725620400</td>\n",
       "    </tr>\n",
       "  </tbody>\n",
       "</table>\n",
       "</div>"
      ],
      "text/plain": [
       "  city_name country_code     lat    lon  state_code     timezone  aqi    co  \\\n",
       "0     Milan           IT  45.464  9.188           9  Europe/Rome   49  54.9   \n",
       "1     Milan           IT  45.464  9.188           9  Europe/Rome   49  55.1   \n",
       "2     Milan           IT  45.464  9.188           9  Europe/Rome   48  55.2   \n",
       "3     Milan           IT  45.464  9.188           9  Europe/Rome   47  55.4   \n",
       "4     Milan           IT  45.464  9.188           9  Europe/Rome   45  56.4   \n",
       "\n",
       "        datetime  no2     o3  pm10  pm25  so2      timestamp_local  \\\n",
       "0  2024-09-06:15  2.0  107.0  13.0  9.00  3.0  2024-09-06T17:00:00   \n",
       "1  2024-09-06:14  2.0  105.3  12.7  8.67  3.3  2024-09-06T16:00:00   \n",
       "2  2024-09-06:13  2.0  103.7  12.3  8.33  3.7  2024-09-06T15:00:00   \n",
       "3  2024-09-06:12  2.0  102.0  12.0  8.00  4.0  2024-09-06T14:00:00   \n",
       "4  2024-09-06:11  2.3   97.7  12.0  8.00  4.3  2024-09-06T13:00:00   \n",
       "\n",
       "         timestamp_utc          ts  \n",
       "0  2024-09-06T15:00:00  1725634800  \n",
       "1  2024-09-06T14:00:00  1725631200  \n",
       "2  2024-09-06T13:00:00  1725627600  \n",
       "3  2024-09-06T12:00:00  1725624000  \n",
       "4  2024-09-06T11:00:00  1725620400  "
      ]
     },
     "execution_count": 25,
     "metadata": {},
     "output_type": "execute_result"
    }
   ],
   "source": [
    "# Dataset extraction \n",
    "\n",
    "file_path = 'Data/Milan_Air_Quality.json'\n",
    "\n",
    "df = pd.read_json(file_path)\n",
    "\n",
    "if 'data' in df.columns:\n",
    "    data = pd.json_normalize(df['data'])\n",
    "    df.drop(columns='data', inplace=True)\n",
    "    df = pd.concat([df, data], axis=1)\n",
    "\n",
    "df.head()"
   ]
  },
  {
   "cell_type": "code",
   "execution_count": 8,
   "metadata": {},
   "outputs": [
    {
     "name": "stdout",
     "output_type": "stream",
     "text": [
      "<class 'pandas.core.frame.DataFrame'>\n",
      "RangeIndex: 72 entries, 0 to 71\n",
      "Data columns (total 17 columns):\n",
      " #   Column           Non-Null Count  Dtype  \n",
      "---  ------           --------------  -----  \n",
      " 0   city_name        72 non-null     object \n",
      " 1   country_code     72 non-null     object \n",
      " 2   lat              72 non-null     float64\n",
      " 3   lon              72 non-null     float64\n",
      " 4   state_code       72 non-null     int64  \n",
      " 5   timezone         72 non-null     object \n",
      " 6   aqi              72 non-null     int64  \n",
      " 7   co               72 non-null     float64\n",
      " 8   datetime         72 non-null     object \n",
      " 9   no2              72 non-null     float64\n",
      " 10  o3               72 non-null     float64\n",
      " 11  pm10             72 non-null     float64\n",
      " 12  pm25             72 non-null     float64\n",
      " 13  so2              72 non-null     float64\n",
      " 14  timestamp_local  72 non-null     object \n",
      " 15  timestamp_utc    72 non-null     object \n",
      " 16  ts               72 non-null     int64  \n",
      "dtypes: float64(8), int64(3), object(6)\n",
      "memory usage: 9.7+ KB\n"
     ]
    },
    {
     "data": {
      "text/plain": [
       "(None,\n",
       "           lat     lon  state_code        aqi          co        no2  \\\n",
       " count  72.000  72.000        72.0  72.000000   72.000000  72.000000   \n",
       " mean   45.464   9.188         9.0  62.527778   74.686111  10.486111   \n",
       " std     0.000   0.000         0.0  18.670586   15.124836   6.835972   \n",
       " min    45.464   9.188         9.0  15.000000   56.600000   1.000000   \n",
       " 25%    45.464   9.188         9.0  55.750000   61.900000   4.000000   \n",
       " 50%    45.464   9.188         9.0  64.000000   70.400000  10.150000   \n",
       " 75%    45.464   9.188         9.0  75.000000   85.950000  15.300000   \n",
       " max    45.464   9.188         9.0  98.000000  106.200000  25.000000   \n",
       " \n",
       "                o3       pm10       pm25        so2            ts  \n",
       " count   72.000000  72.000000  72.000000  72.000000  7.200000e+01  \n",
       " mean    71.563889  23.980556  16.467639   7.823611  1.724128e+09  \n",
       " std     42.250851   9.566471   6.585158   2.509054  7.534242e+04  \n",
       " min     17.000000   5.000000   3.000000   4.000000  1.724000e+09  \n",
       " 25%     31.675000  17.050000  11.670000   6.000000  1.724064e+09  \n",
       " 50%     66.350000  25.500000  17.000000   7.150000  1.724128e+09  \n",
       " 75%     98.325000  32.000000  22.752500   9.000000  1.724192e+09  \n",
       " max    158.000000  37.000000  26.000000  16.000000  1.724256e+09  )"
      ]
     },
     "execution_count": 8,
     "metadata": {},
     "output_type": "execute_result"
    }
   ],
   "source": [
    "# Statistics and Info\n",
    "\n",
    "df.info(), df.describe()"
   ]
  },
  {
   "cell_type": "markdown",
   "metadata": {},
   "source": [
    "## 2. Data Cleaning"
   ]
  },
  {
   "cell_type": "code",
   "execution_count": 3,
   "metadata": {},
   "outputs": [
    {
     "name": "stdout",
     "output_type": "stream",
     "text": [
      "DataFrame Shape before checking missing values: (72, 17)\n",
      "\n",
      "No missing values in this DataFrame.\n"
     ]
    }
   ],
   "source": [
    "# Check for missing values\n",
    "\n",
    "print(f\"DataFrame Shape before checking missing values: {df.shape}\")\n",
    "\n",
    "missing_values = df.isnull().sum()\n",
    "\n",
    "if missing_values.any():\n",
    "    print(\"\\BE CAREFULL!! There are missing values in the following columns:\")\n",
    "    print(missing_values[missing_values > 0])\n",
    "else:\n",
    "    print(\"\\nNo missing values in this DataFrame.\")"
   ]
  },
  {
   "cell_type": "code",
   "execution_count": 4,
   "metadata": {},
   "outputs": [
    {
     "name": "stdout",
     "output_type": "stream",
     "text": [
      "\n",
      "No duplicates found in this DataFrame.\n"
     ]
    }
   ],
   "source": [
    "# Duplicates removal\n",
    "\n",
    "initial_shape = df.shape\n",
    "df = df.drop_duplicates()\n",
    "final_shape = df.shape\n",
    "\n",
    "if initial_shape != final_shape:\n",
    "    print(f\"\\nDuplicated rows removed. New DataFrame shape: {final_shape}\")\n",
    "else:\n",
    "    print(\"\\nNo duplicates found in this DataFrame.\")"
   ]
  },
  {
   "cell_type": "code",
   "execution_count": 5,
   "metadata": {},
   "outputs": [
    {
     "name": "stdout",
     "output_type": "stream",
     "text": [
      "\n",
      "The columns 'timestamp_local' and 'timestamp_utc' have been successfully converted to datetime format.\n"
     ]
    },
    {
     "data": {
      "text/html": [
       "<div>\n",
       "<style scoped>\n",
       "    .dataframe tbody tr th:only-of-type {\n",
       "        vertical-align: middle;\n",
       "    }\n",
       "\n",
       "    .dataframe tbody tr th {\n",
       "        vertical-align: top;\n",
       "    }\n",
       "\n",
       "    .dataframe thead th {\n",
       "        text-align: right;\n",
       "    }\n",
       "</style>\n",
       "<table border=\"1\" class=\"dataframe\">\n",
       "  <thead>\n",
       "    <tr style=\"text-align: right;\">\n",
       "      <th></th>\n",
       "      <th>city_name</th>\n",
       "      <th>country_code</th>\n",
       "      <th>lat</th>\n",
       "      <th>lon</th>\n",
       "      <th>state_code</th>\n",
       "      <th>timezone</th>\n",
       "      <th>aqi</th>\n",
       "      <th>co</th>\n",
       "      <th>datetime</th>\n",
       "      <th>no2</th>\n",
       "      <th>o3</th>\n",
       "      <th>pm10</th>\n",
       "      <th>pm25</th>\n",
       "      <th>so2</th>\n",
       "      <th>timestamp_local</th>\n",
       "      <th>timestamp_utc</th>\n",
       "      <th>ts</th>\n",
       "    </tr>\n",
       "  </thead>\n",
       "  <tbody>\n",
       "    <tr>\n",
       "      <th>0</th>\n",
       "      <td>Milan</td>\n",
       "      <td>IT</td>\n",
       "      <td>45.464</td>\n",
       "      <td>9.188</td>\n",
       "      <td>9</td>\n",
       "      <td>Europe/Rome</td>\n",
       "      <td>84</td>\n",
       "      <td>70.4</td>\n",
       "      <td>2024-08-21:16</td>\n",
       "      <td>3.7</td>\n",
       "      <td>147.3</td>\n",
       "      <td>16.3</td>\n",
       "      <td>11.67</td>\n",
       "      <td>8.0</td>\n",
       "      <td>2024-08-21 18:00:00</td>\n",
       "      <td>2024-08-21 16:00:00</td>\n",
       "      <td>1724256000</td>\n",
       "    </tr>\n",
       "    <tr>\n",
       "      <th>1</th>\n",
       "      <td>Milan</td>\n",
       "      <td>IT</td>\n",
       "      <td>45.464</td>\n",
       "      <td>9.188</td>\n",
       "      <td>9</td>\n",
       "      <td>Europe/Rome</td>\n",
       "      <td>98</td>\n",
       "      <td>70.0</td>\n",
       "      <td>2024-08-21:15</td>\n",
       "      <td>2.0</td>\n",
       "      <td>158.0</td>\n",
       "      <td>14.0</td>\n",
       "      <td>10.00</td>\n",
       "      <td>8.0</td>\n",
       "      <td>2024-08-21 17:00:00</td>\n",
       "      <td>2024-08-21 15:00:00</td>\n",
       "      <td>1724252400</td>\n",
       "    </tr>\n",
       "    <tr>\n",
       "      <th>2</th>\n",
       "      <td>Milan</td>\n",
       "      <td>IT</td>\n",
       "      <td>45.464</td>\n",
       "      <td>9.188</td>\n",
       "      <td>9</td>\n",
       "      <td>Europe/Rome</td>\n",
       "      <td>95</td>\n",
       "      <td>69.8</td>\n",
       "      <td>2024-08-21:14</td>\n",
       "      <td>2.0</td>\n",
       "      <td>156.0</td>\n",
       "      <td>13.0</td>\n",
       "      <td>9.33</td>\n",
       "      <td>8.7</td>\n",
       "      <td>2024-08-21 16:00:00</td>\n",
       "      <td>2024-08-21 14:00:00</td>\n",
       "      <td>1724248800</td>\n",
       "    </tr>\n",
       "    <tr>\n",
       "      <th>3</th>\n",
       "      <td>Milan</td>\n",
       "      <td>IT</td>\n",
       "      <td>45.464</td>\n",
       "      <td>9.188</td>\n",
       "      <td>9</td>\n",
       "      <td>Europe/Rome</td>\n",
       "      <td>92</td>\n",
       "      <td>69.6</td>\n",
       "      <td>2024-08-21:13</td>\n",
       "      <td>2.0</td>\n",
       "      <td>154.0</td>\n",
       "      <td>12.0</td>\n",
       "      <td>8.67</td>\n",
       "      <td>9.3</td>\n",
       "      <td>2024-08-21 15:00:00</td>\n",
       "      <td>2024-08-21 13:00:00</td>\n",
       "      <td>1724245200</td>\n",
       "    </tr>\n",
       "    <tr>\n",
       "      <th>4</th>\n",
       "      <td>Milan</td>\n",
       "      <td>IT</td>\n",
       "      <td>45.464</td>\n",
       "      <td>9.188</td>\n",
       "      <td>9</td>\n",
       "      <td>Europe/Rome</td>\n",
       "      <td>90</td>\n",
       "      <td>69.4</td>\n",
       "      <td>2024-08-21:12</td>\n",
       "      <td>2.0</td>\n",
       "      <td>152.0</td>\n",
       "      <td>11.0</td>\n",
       "      <td>8.00</td>\n",
       "      <td>10.0</td>\n",
       "      <td>2024-08-21 14:00:00</td>\n",
       "      <td>2024-08-21 12:00:00</td>\n",
       "      <td>1724241600</td>\n",
       "    </tr>\n",
       "  </tbody>\n",
       "</table>\n",
       "</div>"
      ],
      "text/plain": [
       "  city_name country_code     lat    lon  state_code     timezone  aqi    co  \\\n",
       "0     Milan           IT  45.464  9.188           9  Europe/Rome   84  70.4   \n",
       "1     Milan           IT  45.464  9.188           9  Europe/Rome   98  70.0   \n",
       "2     Milan           IT  45.464  9.188           9  Europe/Rome   95  69.8   \n",
       "3     Milan           IT  45.464  9.188           9  Europe/Rome   92  69.6   \n",
       "4     Milan           IT  45.464  9.188           9  Europe/Rome   90  69.4   \n",
       "\n",
       "        datetime  no2     o3  pm10   pm25   so2     timestamp_local  \\\n",
       "0  2024-08-21:16  3.7  147.3  16.3  11.67   8.0 2024-08-21 18:00:00   \n",
       "1  2024-08-21:15  2.0  158.0  14.0  10.00   8.0 2024-08-21 17:00:00   \n",
       "2  2024-08-21:14  2.0  156.0  13.0   9.33   8.7 2024-08-21 16:00:00   \n",
       "3  2024-08-21:13  2.0  154.0  12.0   8.67   9.3 2024-08-21 15:00:00   \n",
       "4  2024-08-21:12  2.0  152.0  11.0   8.00  10.0 2024-08-21 14:00:00   \n",
       "\n",
       "        timestamp_utc          ts  \n",
       "0 2024-08-21 16:00:00  1724256000  \n",
       "1 2024-08-21 15:00:00  1724252400  \n",
       "2 2024-08-21 14:00:00  1724248800  \n",
       "3 2024-08-21 13:00:00  1724245200  \n",
       "4 2024-08-21 12:00:00  1724241600  "
      ]
     },
     "execution_count": 5,
     "metadata": {},
     "output_type": "execute_result"
    }
   ],
   "source": [
    "\n",
    "# Date/Hour column conversion to datetime format\n",
    "\n",
    "df['timestamp_local'] = pd.to_datetime(df['timestamp_local'])\n",
    "df['timestamp_utc'] = pd.to_datetime(df['timestamp_utc'])\n",
    "\n",
    "# Check datetime columns conversion\n",
    "if pd.api.types.is_datetime64_any_dtype(df['timestamp_local']) and pd.api.types.is_datetime64_any_dtype(df['timestamp_utc']):\n",
    "    print(\"\\nThe columns 'timestamp_local' and 'timestamp_utc' have been successfully converted to datetime format.\")\n",
    "else:\n",
    "    print(\"\\nERROR: There was a problem converting the datetime columns.\")\n",
    "df.head()"
   ]
  },
  {
   "cell_type": "code",
   "execution_count": 6,
   "metadata": {},
   "outputs": [
    {
     "data": {
      "text/html": [
       "<div>\n",
       "<style scoped>\n",
       "    .dataframe tbody tr th:only-of-type {\n",
       "        vertical-align: middle;\n",
       "    }\n",
       "\n",
       "    .dataframe tbody tr th {\n",
       "        vertical-align: top;\n",
       "    }\n",
       "\n",
       "    .dataframe thead th {\n",
       "        text-align: right;\n",
       "    }\n",
       "</style>\n",
       "<table border=\"1\" class=\"dataframe\">\n",
       "  <thead>\n",
       "    <tr style=\"text-align: right;\">\n",
       "      <th></th>\n",
       "      <th>aqi</th>\n",
       "      <th>co</th>\n",
       "      <th>no2</th>\n",
       "      <th>o3</th>\n",
       "      <th>pm10</th>\n",
       "      <th>pm25</th>\n",
       "      <th>so2</th>\n",
       "      <th>timestamp_local</th>\n",
       "      <th>timestamp_utc</th>\n",
       "      <th>ts</th>\n",
       "    </tr>\n",
       "  </thead>\n",
       "  <tbody>\n",
       "    <tr>\n",
       "      <th>0</th>\n",
       "      <td>84</td>\n",
       "      <td>70.4</td>\n",
       "      <td>3.7</td>\n",
       "      <td>147.3</td>\n",
       "      <td>16.3</td>\n",
       "      <td>11.67</td>\n",
       "      <td>8.0</td>\n",
       "      <td>2024-08-21 18:00:00</td>\n",
       "      <td>2024-08-21 16:00:00</td>\n",
       "      <td>1724256000</td>\n",
       "    </tr>\n",
       "    <tr>\n",
       "      <th>1</th>\n",
       "      <td>98</td>\n",
       "      <td>70.0</td>\n",
       "      <td>2.0</td>\n",
       "      <td>158.0</td>\n",
       "      <td>14.0</td>\n",
       "      <td>10.00</td>\n",
       "      <td>8.0</td>\n",
       "      <td>2024-08-21 17:00:00</td>\n",
       "      <td>2024-08-21 15:00:00</td>\n",
       "      <td>1724252400</td>\n",
       "    </tr>\n",
       "    <tr>\n",
       "      <th>2</th>\n",
       "      <td>95</td>\n",
       "      <td>69.8</td>\n",
       "      <td>2.0</td>\n",
       "      <td>156.0</td>\n",
       "      <td>13.0</td>\n",
       "      <td>9.33</td>\n",
       "      <td>8.7</td>\n",
       "      <td>2024-08-21 16:00:00</td>\n",
       "      <td>2024-08-21 14:00:00</td>\n",
       "      <td>1724248800</td>\n",
       "    </tr>\n",
       "    <tr>\n",
       "      <th>3</th>\n",
       "      <td>92</td>\n",
       "      <td>69.6</td>\n",
       "      <td>2.0</td>\n",
       "      <td>154.0</td>\n",
       "      <td>12.0</td>\n",
       "      <td>8.67</td>\n",
       "      <td>9.3</td>\n",
       "      <td>2024-08-21 15:00:00</td>\n",
       "      <td>2024-08-21 13:00:00</td>\n",
       "      <td>1724245200</td>\n",
       "    </tr>\n",
       "    <tr>\n",
       "      <th>4</th>\n",
       "      <td>90</td>\n",
       "      <td>69.4</td>\n",
       "      <td>2.0</td>\n",
       "      <td>152.0</td>\n",
       "      <td>11.0</td>\n",
       "      <td>8.00</td>\n",
       "      <td>10.0</td>\n",
       "      <td>2024-08-21 14:00:00</td>\n",
       "      <td>2024-08-21 12:00:00</td>\n",
       "      <td>1724241600</td>\n",
       "    </tr>\n",
       "  </tbody>\n",
       "</table>\n",
       "</div>"
      ],
      "text/plain": [
       "   aqi    co  no2     o3  pm10   pm25   so2     timestamp_local  \\\n",
       "0   84  70.4  3.7  147.3  16.3  11.67   8.0 2024-08-21 18:00:00   \n",
       "1   98  70.0  2.0  158.0  14.0  10.00   8.0 2024-08-21 17:00:00   \n",
       "2   95  69.8  2.0  156.0  13.0   9.33   8.7 2024-08-21 16:00:00   \n",
       "3   92  69.6  2.0  154.0  12.0   8.67   9.3 2024-08-21 15:00:00   \n",
       "4   90  69.4  2.0  152.0  11.0   8.00  10.0 2024-08-21 14:00:00   \n",
       "\n",
       "        timestamp_utc          ts  \n",
       "0 2024-08-21 16:00:00  1724256000  \n",
       "1 2024-08-21 15:00:00  1724252400  \n",
       "2 2024-08-21 14:00:00  1724248800  \n",
       "3 2024-08-21 13:00:00  1724245200  \n",
       "4 2024-08-21 12:00:00  1724241600  "
      ]
     },
     "execution_count": 6,
     "metadata": {},
     "output_type": "execute_result"
    }
   ],
   "source": [
    "# Drop feature with single value\n",
    "\n",
    "for col in df.columns:\n",
    "\n",
    "    if df[col].nunique() == 1:\n",
    "        df.drop(columns=[col], inplace=True)\n",
    "\n",
    "df.drop(columns='datetime', inplace=True)\n",
    "\n",
    "df.head()"
   ]
  },
  {
   "cell_type": "markdown",
   "metadata": {},
   "source": [
    "## 3. Exploration Data Analysis"
   ]
  },
  {
   "cell_type": "code",
   "execution_count": 7,
   "metadata": {},
   "outputs": [
    {
     "data": {
      "application/vnd.plotly.v1+json": {
       "config": {
        "plotlyServerURL": "https://plot.ly"
       },
       "data": [
        {
         "alignmentgroup": "True",
         "bingroup": "x",
         "hovertemplate": "aqi=%{x}<br>count=%{y}<extra></extra>",
         "legendgroup": "",
         "marker": {
          "color": "#636efa",
          "pattern": {
           "shape": ""
          }
         },
         "name": "",
         "nbinsx": 50,
         "offsetgroup": "",
         "orientation": "v",
         "showlegend": false,
         "type": "histogram",
         "x": [
          84,
          98,
          95,
          92,
          90,
          82,
          73,
          65,
          57,
          64,
          72,
          72,
          73,
          74,
          74,
          75,
          76,
          72,
          67,
          63,
          61,
          59,
          56,
          55,
          54,
          55,
          55,
          56,
          56,
          64,
          71,
          78,
          77,
          77,
          76,
          75,
          74,
          74,
          76,
          78,
          80,
          80,
          80,
          80,
          75,
          70,
          65,
          64,
          64,
          63,
          58,
          53,
          46,
          37,
          29,
          22,
          18,
          15,
          17,
          21,
          25,
          29,
          39,
          49,
          54,
          56,
          59,
          61,
          62,
          62,
          63,
          61
         ],
         "xaxis": "x",
         "yaxis": "y"
        }
       ],
       "layout": {
        "annotations": [
         {
          "showarrow": false,
          "text": "Mean",
          "x": 62.52777777777778,
          "xanchor": "left",
          "xref": "x",
          "y": 1,
          "yanchor": "top",
          "yref": "y domain"
         },
         {
          "showarrow": false,
          "text": "+1 STD",
          "x": 81.19836338249733,
          "xanchor": "left",
          "xref": "x",
          "y": 1,
          "yanchor": "top",
          "yref": "y domain"
         },
         {
          "showarrow": false,
          "text": "-1 STD",
          "x": 43.85719217305822,
          "xanchor": "left",
          "xref": "x",
          "y": 1,
          "yanchor": "top",
          "yref": "y domain"
         }
        ],
        "barmode": "relative",
        "legend": {
         "tracegroupgap": 0
        },
        "shapes": [
         {
          "line": {
           "color": "green",
           "dash": "dash"
          },
          "type": "line",
          "x0": 62.52777777777778,
          "x1": 62.52777777777778,
          "xref": "x",
          "y0": 0,
          "y1": 1,
          "yref": "y domain"
         },
         {
          "line": {
           "color": "red",
           "dash": "dash"
          },
          "type": "line",
          "x0": 81.19836338249733,
          "x1": 81.19836338249733,
          "xref": "x",
          "y0": 0,
          "y1": 1,
          "yref": "y domain"
         },
         {
          "line": {
           "color": "red",
           "dash": "dash"
          },
          "type": "line",
          "x0": 43.85719217305822,
          "x1": 43.85719217305822,
          "xref": "x",
          "y0": 0,
          "y1": 1,
          "yref": "y domain"
         }
        ],
        "template": {
         "data": {
          "bar": [
           {
            "error_x": {
             "color": "#2a3f5f"
            },
            "error_y": {
             "color": "#2a3f5f"
            },
            "marker": {
             "line": {
              "color": "#E5ECF6",
              "width": 0.5
             },
             "pattern": {
              "fillmode": "overlay",
              "size": 10,
              "solidity": 0.2
             }
            },
            "type": "bar"
           }
          ],
          "barpolar": [
           {
            "marker": {
             "line": {
              "color": "#E5ECF6",
              "width": 0.5
             },
             "pattern": {
              "fillmode": "overlay",
              "size": 10,
              "solidity": 0.2
             }
            },
            "type": "barpolar"
           }
          ],
          "carpet": [
           {
            "aaxis": {
             "endlinecolor": "#2a3f5f",
             "gridcolor": "white",
             "linecolor": "white",
             "minorgridcolor": "white",
             "startlinecolor": "#2a3f5f"
            },
            "baxis": {
             "endlinecolor": "#2a3f5f",
             "gridcolor": "white",
             "linecolor": "white",
             "minorgridcolor": "white",
             "startlinecolor": "#2a3f5f"
            },
            "type": "carpet"
           }
          ],
          "choropleth": [
           {
            "colorbar": {
             "outlinewidth": 0,
             "ticks": ""
            },
            "type": "choropleth"
           }
          ],
          "contour": [
           {
            "colorbar": {
             "outlinewidth": 0,
             "ticks": ""
            },
            "colorscale": [
             [
              0,
              "#0d0887"
             ],
             [
              0.1111111111111111,
              "#46039f"
             ],
             [
              0.2222222222222222,
              "#7201a8"
             ],
             [
              0.3333333333333333,
              "#9c179e"
             ],
             [
              0.4444444444444444,
              "#bd3786"
             ],
             [
              0.5555555555555556,
              "#d8576b"
             ],
             [
              0.6666666666666666,
              "#ed7953"
             ],
             [
              0.7777777777777778,
              "#fb9f3a"
             ],
             [
              0.8888888888888888,
              "#fdca26"
             ],
             [
              1,
              "#f0f921"
             ]
            ],
            "type": "contour"
           }
          ],
          "contourcarpet": [
           {
            "colorbar": {
             "outlinewidth": 0,
             "ticks": ""
            },
            "type": "contourcarpet"
           }
          ],
          "heatmap": [
           {
            "colorbar": {
             "outlinewidth": 0,
             "ticks": ""
            },
            "colorscale": [
             [
              0,
              "#0d0887"
             ],
             [
              0.1111111111111111,
              "#46039f"
             ],
             [
              0.2222222222222222,
              "#7201a8"
             ],
             [
              0.3333333333333333,
              "#9c179e"
             ],
             [
              0.4444444444444444,
              "#bd3786"
             ],
             [
              0.5555555555555556,
              "#d8576b"
             ],
             [
              0.6666666666666666,
              "#ed7953"
             ],
             [
              0.7777777777777778,
              "#fb9f3a"
             ],
             [
              0.8888888888888888,
              "#fdca26"
             ],
             [
              1,
              "#f0f921"
             ]
            ],
            "type": "heatmap"
           }
          ],
          "heatmapgl": [
           {
            "colorbar": {
             "outlinewidth": 0,
             "ticks": ""
            },
            "colorscale": [
             [
              0,
              "#0d0887"
             ],
             [
              0.1111111111111111,
              "#46039f"
             ],
             [
              0.2222222222222222,
              "#7201a8"
             ],
             [
              0.3333333333333333,
              "#9c179e"
             ],
             [
              0.4444444444444444,
              "#bd3786"
             ],
             [
              0.5555555555555556,
              "#d8576b"
             ],
             [
              0.6666666666666666,
              "#ed7953"
             ],
             [
              0.7777777777777778,
              "#fb9f3a"
             ],
             [
              0.8888888888888888,
              "#fdca26"
             ],
             [
              1,
              "#f0f921"
             ]
            ],
            "type": "heatmapgl"
           }
          ],
          "histogram": [
           {
            "marker": {
             "pattern": {
              "fillmode": "overlay",
              "size": 10,
              "solidity": 0.2
             }
            },
            "type": "histogram"
           }
          ],
          "histogram2d": [
           {
            "colorbar": {
             "outlinewidth": 0,
             "ticks": ""
            },
            "colorscale": [
             [
              0,
              "#0d0887"
             ],
             [
              0.1111111111111111,
              "#46039f"
             ],
             [
              0.2222222222222222,
              "#7201a8"
             ],
             [
              0.3333333333333333,
              "#9c179e"
             ],
             [
              0.4444444444444444,
              "#bd3786"
             ],
             [
              0.5555555555555556,
              "#d8576b"
             ],
             [
              0.6666666666666666,
              "#ed7953"
             ],
             [
              0.7777777777777778,
              "#fb9f3a"
             ],
             [
              0.8888888888888888,
              "#fdca26"
             ],
             [
              1,
              "#f0f921"
             ]
            ],
            "type": "histogram2d"
           }
          ],
          "histogram2dcontour": [
           {
            "colorbar": {
             "outlinewidth": 0,
             "ticks": ""
            },
            "colorscale": [
             [
              0,
              "#0d0887"
             ],
             [
              0.1111111111111111,
              "#46039f"
             ],
             [
              0.2222222222222222,
              "#7201a8"
             ],
             [
              0.3333333333333333,
              "#9c179e"
             ],
             [
              0.4444444444444444,
              "#bd3786"
             ],
             [
              0.5555555555555556,
              "#d8576b"
             ],
             [
              0.6666666666666666,
              "#ed7953"
             ],
             [
              0.7777777777777778,
              "#fb9f3a"
             ],
             [
              0.8888888888888888,
              "#fdca26"
             ],
             [
              1,
              "#f0f921"
             ]
            ],
            "type": "histogram2dcontour"
           }
          ],
          "mesh3d": [
           {
            "colorbar": {
             "outlinewidth": 0,
             "ticks": ""
            },
            "type": "mesh3d"
           }
          ],
          "parcoords": [
           {
            "line": {
             "colorbar": {
              "outlinewidth": 0,
              "ticks": ""
             }
            },
            "type": "parcoords"
           }
          ],
          "pie": [
           {
            "automargin": true,
            "type": "pie"
           }
          ],
          "scatter": [
           {
            "fillpattern": {
             "fillmode": "overlay",
             "size": 10,
             "solidity": 0.2
            },
            "type": "scatter"
           }
          ],
          "scatter3d": [
           {
            "line": {
             "colorbar": {
              "outlinewidth": 0,
              "ticks": ""
             }
            },
            "marker": {
             "colorbar": {
              "outlinewidth": 0,
              "ticks": ""
             }
            },
            "type": "scatter3d"
           }
          ],
          "scattercarpet": [
           {
            "marker": {
             "colorbar": {
              "outlinewidth": 0,
              "ticks": ""
             }
            },
            "type": "scattercarpet"
           }
          ],
          "scattergeo": [
           {
            "marker": {
             "colorbar": {
              "outlinewidth": 0,
              "ticks": ""
             }
            },
            "type": "scattergeo"
           }
          ],
          "scattergl": [
           {
            "marker": {
             "colorbar": {
              "outlinewidth": 0,
              "ticks": ""
             }
            },
            "type": "scattergl"
           }
          ],
          "scattermapbox": [
           {
            "marker": {
             "colorbar": {
              "outlinewidth": 0,
              "ticks": ""
             }
            },
            "type": "scattermapbox"
           }
          ],
          "scatterpolar": [
           {
            "marker": {
             "colorbar": {
              "outlinewidth": 0,
              "ticks": ""
             }
            },
            "type": "scatterpolar"
           }
          ],
          "scatterpolargl": [
           {
            "marker": {
             "colorbar": {
              "outlinewidth": 0,
              "ticks": ""
             }
            },
            "type": "scatterpolargl"
           }
          ],
          "scatterternary": [
           {
            "marker": {
             "colorbar": {
              "outlinewidth": 0,
              "ticks": ""
             }
            },
            "type": "scatterternary"
           }
          ],
          "surface": [
           {
            "colorbar": {
             "outlinewidth": 0,
             "ticks": ""
            },
            "colorscale": [
             [
              0,
              "#0d0887"
             ],
             [
              0.1111111111111111,
              "#46039f"
             ],
             [
              0.2222222222222222,
              "#7201a8"
             ],
             [
              0.3333333333333333,
              "#9c179e"
             ],
             [
              0.4444444444444444,
              "#bd3786"
             ],
             [
              0.5555555555555556,
              "#d8576b"
             ],
             [
              0.6666666666666666,
              "#ed7953"
             ],
             [
              0.7777777777777778,
              "#fb9f3a"
             ],
             [
              0.8888888888888888,
              "#fdca26"
             ],
             [
              1,
              "#f0f921"
             ]
            ],
            "type": "surface"
           }
          ],
          "table": [
           {
            "cells": {
             "fill": {
              "color": "#EBF0F8"
             },
             "line": {
              "color": "white"
             }
            },
            "header": {
             "fill": {
              "color": "#C8D4E3"
             },
             "line": {
              "color": "white"
             }
            },
            "type": "table"
           }
          ]
         },
         "layout": {
          "annotationdefaults": {
           "arrowcolor": "#2a3f5f",
           "arrowhead": 0,
           "arrowwidth": 1
          },
          "autotypenumbers": "strict",
          "coloraxis": {
           "colorbar": {
            "outlinewidth": 0,
            "ticks": ""
           }
          },
          "colorscale": {
           "diverging": [
            [
             0,
             "#8e0152"
            ],
            [
             0.1,
             "#c51b7d"
            ],
            [
             0.2,
             "#de77ae"
            ],
            [
             0.3,
             "#f1b6da"
            ],
            [
             0.4,
             "#fde0ef"
            ],
            [
             0.5,
             "#f7f7f7"
            ],
            [
             0.6,
             "#e6f5d0"
            ],
            [
             0.7,
             "#b8e186"
            ],
            [
             0.8,
             "#7fbc41"
            ],
            [
             0.9,
             "#4d9221"
            ],
            [
             1,
             "#276419"
            ]
           ],
           "sequential": [
            [
             0,
             "#0d0887"
            ],
            [
             0.1111111111111111,
             "#46039f"
            ],
            [
             0.2222222222222222,
             "#7201a8"
            ],
            [
             0.3333333333333333,
             "#9c179e"
            ],
            [
             0.4444444444444444,
             "#bd3786"
            ],
            [
             0.5555555555555556,
             "#d8576b"
            ],
            [
             0.6666666666666666,
             "#ed7953"
            ],
            [
             0.7777777777777778,
             "#fb9f3a"
            ],
            [
             0.8888888888888888,
             "#fdca26"
            ],
            [
             1,
             "#f0f921"
            ]
           ],
           "sequentialminus": [
            [
             0,
             "#0d0887"
            ],
            [
             0.1111111111111111,
             "#46039f"
            ],
            [
             0.2222222222222222,
             "#7201a8"
            ],
            [
             0.3333333333333333,
             "#9c179e"
            ],
            [
             0.4444444444444444,
             "#bd3786"
            ],
            [
             0.5555555555555556,
             "#d8576b"
            ],
            [
             0.6666666666666666,
             "#ed7953"
            ],
            [
             0.7777777777777778,
             "#fb9f3a"
            ],
            [
             0.8888888888888888,
             "#fdca26"
            ],
            [
             1,
             "#f0f921"
            ]
           ]
          },
          "colorway": [
           "#636efa",
           "#EF553B",
           "#00cc96",
           "#ab63fa",
           "#FFA15A",
           "#19d3f3",
           "#FF6692",
           "#B6E880",
           "#FF97FF",
           "#FECB52"
          ],
          "font": {
           "color": "#2a3f5f"
          },
          "geo": {
           "bgcolor": "white",
           "lakecolor": "white",
           "landcolor": "#E5ECF6",
           "showlakes": true,
           "showland": true,
           "subunitcolor": "white"
          },
          "hoverlabel": {
           "align": "left"
          },
          "hovermode": "closest",
          "mapbox": {
           "style": "light"
          },
          "paper_bgcolor": "white",
          "plot_bgcolor": "#E5ECF6",
          "polar": {
           "angularaxis": {
            "gridcolor": "white",
            "linecolor": "white",
            "ticks": ""
           },
           "bgcolor": "#E5ECF6",
           "radialaxis": {
            "gridcolor": "white",
            "linecolor": "white",
            "ticks": ""
           }
          },
          "scene": {
           "xaxis": {
            "backgroundcolor": "#E5ECF6",
            "gridcolor": "white",
            "gridwidth": 2,
            "linecolor": "white",
            "showbackground": true,
            "ticks": "",
            "zerolinecolor": "white"
           },
           "yaxis": {
            "backgroundcolor": "#E5ECF6",
            "gridcolor": "white",
            "gridwidth": 2,
            "linecolor": "white",
            "showbackground": true,
            "ticks": "",
            "zerolinecolor": "white"
           },
           "zaxis": {
            "backgroundcolor": "#E5ECF6",
            "gridcolor": "white",
            "gridwidth": 2,
            "linecolor": "white",
            "showbackground": true,
            "ticks": "",
            "zerolinecolor": "white"
           }
          },
          "shapedefaults": {
           "line": {
            "color": "#2a3f5f"
           }
          },
          "ternary": {
           "aaxis": {
            "gridcolor": "white",
            "linecolor": "white",
            "ticks": ""
           },
           "baxis": {
            "gridcolor": "white",
            "linecolor": "white",
            "ticks": ""
           },
           "bgcolor": "#E5ECF6",
           "caxis": {
            "gridcolor": "white",
            "linecolor": "white",
            "ticks": ""
           }
          },
          "title": {
           "x": 0.05
          },
          "xaxis": {
           "automargin": true,
           "gridcolor": "white",
           "linecolor": "white",
           "ticks": "",
           "title": {
            "standoff": 15
           },
           "zerolinecolor": "white",
           "zerolinewidth": 2
          },
          "yaxis": {
           "automargin": true,
           "gridcolor": "white",
           "linecolor": "white",
           "ticks": "",
           "title": {
            "standoff": 15
           },
           "zerolinecolor": "white",
           "zerolinewidth": 2
          }
         }
        },
        "title": {
         "text": "Distribution of Aqi with Mean and STD"
        },
        "xaxis": {
         "anchor": "y",
         "domain": [
          0,
          1
         ],
         "title": {
          "text": "aqi"
         }
        },
        "yaxis": {
         "anchor": "x",
         "domain": [
          0,
          1
         ],
         "title": {
          "text": "count"
         }
        }
       }
      }
     },
     "metadata": {},
     "output_type": "display_data"
    }
   ],
   "source": [
    "# 1. Histogram with Mean and Standard Deviation\n",
    "\n",
    "# 'aqi', 'co', 'no2', 'o3', 'pm10', 'pm25', 'so2','timestamp_local', 'timestamp_utc', 'ts'\n",
    "\n",
    "column = 'aqi'\n",
    "\n",
    "mean_value = df[column].mean()\n",
    "std_value = df[column].std()\n",
    "\n",
    "fig_histogram = px.histogram(df, x=column, nbins=50, title=f'Distribution of {column.capitalize()} with Mean and STD')\n",
    "fig_histogram.add_vline(x=mean_value, line_dash=\"dash\", line_color=\"green\", annotation_text=\"Mean\")\n",
    "fig_histogram.add_vline(x=mean_value + std_value, line_dash=\"dash\", line_color=\"red\", annotation_text=\"+1 STD\")\n",
    "fig_histogram.add_vline(x=mean_value - std_value, line_dash=\"dash\", line_color=\"red\", annotation_text=\"-1 STD\")\n",
    "fig_histogram.show()"
   ]
  },
  {
   "cell_type": "code",
   "execution_count": 11,
   "metadata": {},
   "outputs": [
    {
     "data": {
      "application/vnd.plotly.v1+json": {
       "config": {
        "plotlyServerURL": "https://plot.ly"
       },
       "data": [
        {
         "alignmentgroup": "True",
         "hovertemplate": "aqi=%{x}<extra></extra>",
         "legendgroup": "",
         "marker": {
          "color": "#636efa"
         },
         "name": "",
         "notched": false,
         "offsetgroup": "",
         "orientation": "h",
         "showlegend": false,
         "type": "box",
         "x": [
          84,
          98,
          95,
          92,
          90,
          82,
          73,
          65,
          57,
          64,
          72,
          72,
          73,
          74,
          74,
          75,
          76,
          72,
          67,
          63,
          61,
          59,
          56,
          55,
          54,
          55,
          55,
          56,
          56,
          64,
          71,
          78,
          77,
          77,
          76,
          75,
          74,
          74,
          76,
          78,
          80,
          80,
          80,
          80,
          75,
          70,
          65,
          64,
          64,
          63,
          58,
          53,
          46,
          37,
          29,
          22,
          18,
          15,
          17,
          21,
          25,
          29,
          39,
          49,
          54,
          56,
          59,
          61,
          62,
          62,
          63,
          61
         ],
         "x0": " ",
         "xaxis": "x",
         "y0": " ",
         "yaxis": "y"
        }
       ],
       "layout": {
        "boxmode": "group",
        "legend": {
         "tracegroupgap": 0
        },
        "template": {
         "data": {
          "bar": [
           {
            "error_x": {
             "color": "#2a3f5f"
            },
            "error_y": {
             "color": "#2a3f5f"
            },
            "marker": {
             "line": {
              "color": "#E5ECF6",
              "width": 0.5
             },
             "pattern": {
              "fillmode": "overlay",
              "size": 10,
              "solidity": 0.2
             }
            },
            "type": "bar"
           }
          ],
          "barpolar": [
           {
            "marker": {
             "line": {
              "color": "#E5ECF6",
              "width": 0.5
             },
             "pattern": {
              "fillmode": "overlay",
              "size": 10,
              "solidity": 0.2
             }
            },
            "type": "barpolar"
           }
          ],
          "carpet": [
           {
            "aaxis": {
             "endlinecolor": "#2a3f5f",
             "gridcolor": "white",
             "linecolor": "white",
             "minorgridcolor": "white",
             "startlinecolor": "#2a3f5f"
            },
            "baxis": {
             "endlinecolor": "#2a3f5f",
             "gridcolor": "white",
             "linecolor": "white",
             "minorgridcolor": "white",
             "startlinecolor": "#2a3f5f"
            },
            "type": "carpet"
           }
          ],
          "choropleth": [
           {
            "colorbar": {
             "outlinewidth": 0,
             "ticks": ""
            },
            "type": "choropleth"
           }
          ],
          "contour": [
           {
            "colorbar": {
             "outlinewidth": 0,
             "ticks": ""
            },
            "colorscale": [
             [
              0,
              "#0d0887"
             ],
             [
              0.1111111111111111,
              "#46039f"
             ],
             [
              0.2222222222222222,
              "#7201a8"
             ],
             [
              0.3333333333333333,
              "#9c179e"
             ],
             [
              0.4444444444444444,
              "#bd3786"
             ],
             [
              0.5555555555555556,
              "#d8576b"
             ],
             [
              0.6666666666666666,
              "#ed7953"
             ],
             [
              0.7777777777777778,
              "#fb9f3a"
             ],
             [
              0.8888888888888888,
              "#fdca26"
             ],
             [
              1,
              "#f0f921"
             ]
            ],
            "type": "contour"
           }
          ],
          "contourcarpet": [
           {
            "colorbar": {
             "outlinewidth": 0,
             "ticks": ""
            },
            "type": "contourcarpet"
           }
          ],
          "heatmap": [
           {
            "colorbar": {
             "outlinewidth": 0,
             "ticks": ""
            },
            "colorscale": [
             [
              0,
              "#0d0887"
             ],
             [
              0.1111111111111111,
              "#46039f"
             ],
             [
              0.2222222222222222,
              "#7201a8"
             ],
             [
              0.3333333333333333,
              "#9c179e"
             ],
             [
              0.4444444444444444,
              "#bd3786"
             ],
             [
              0.5555555555555556,
              "#d8576b"
             ],
             [
              0.6666666666666666,
              "#ed7953"
             ],
             [
              0.7777777777777778,
              "#fb9f3a"
             ],
             [
              0.8888888888888888,
              "#fdca26"
             ],
             [
              1,
              "#f0f921"
             ]
            ],
            "type": "heatmap"
           }
          ],
          "heatmapgl": [
           {
            "colorbar": {
             "outlinewidth": 0,
             "ticks": ""
            },
            "colorscale": [
             [
              0,
              "#0d0887"
             ],
             [
              0.1111111111111111,
              "#46039f"
             ],
             [
              0.2222222222222222,
              "#7201a8"
             ],
             [
              0.3333333333333333,
              "#9c179e"
             ],
             [
              0.4444444444444444,
              "#bd3786"
             ],
             [
              0.5555555555555556,
              "#d8576b"
             ],
             [
              0.6666666666666666,
              "#ed7953"
             ],
             [
              0.7777777777777778,
              "#fb9f3a"
             ],
             [
              0.8888888888888888,
              "#fdca26"
             ],
             [
              1,
              "#f0f921"
             ]
            ],
            "type": "heatmapgl"
           }
          ],
          "histogram": [
           {
            "marker": {
             "pattern": {
              "fillmode": "overlay",
              "size": 10,
              "solidity": 0.2
             }
            },
            "type": "histogram"
           }
          ],
          "histogram2d": [
           {
            "colorbar": {
             "outlinewidth": 0,
             "ticks": ""
            },
            "colorscale": [
             [
              0,
              "#0d0887"
             ],
             [
              0.1111111111111111,
              "#46039f"
             ],
             [
              0.2222222222222222,
              "#7201a8"
             ],
             [
              0.3333333333333333,
              "#9c179e"
             ],
             [
              0.4444444444444444,
              "#bd3786"
             ],
             [
              0.5555555555555556,
              "#d8576b"
             ],
             [
              0.6666666666666666,
              "#ed7953"
             ],
             [
              0.7777777777777778,
              "#fb9f3a"
             ],
             [
              0.8888888888888888,
              "#fdca26"
             ],
             [
              1,
              "#f0f921"
             ]
            ],
            "type": "histogram2d"
           }
          ],
          "histogram2dcontour": [
           {
            "colorbar": {
             "outlinewidth": 0,
             "ticks": ""
            },
            "colorscale": [
             [
              0,
              "#0d0887"
             ],
             [
              0.1111111111111111,
              "#46039f"
             ],
             [
              0.2222222222222222,
              "#7201a8"
             ],
             [
              0.3333333333333333,
              "#9c179e"
             ],
             [
              0.4444444444444444,
              "#bd3786"
             ],
             [
              0.5555555555555556,
              "#d8576b"
             ],
             [
              0.6666666666666666,
              "#ed7953"
             ],
             [
              0.7777777777777778,
              "#fb9f3a"
             ],
             [
              0.8888888888888888,
              "#fdca26"
             ],
             [
              1,
              "#f0f921"
             ]
            ],
            "type": "histogram2dcontour"
           }
          ],
          "mesh3d": [
           {
            "colorbar": {
             "outlinewidth": 0,
             "ticks": ""
            },
            "type": "mesh3d"
           }
          ],
          "parcoords": [
           {
            "line": {
             "colorbar": {
              "outlinewidth": 0,
              "ticks": ""
             }
            },
            "type": "parcoords"
           }
          ],
          "pie": [
           {
            "automargin": true,
            "type": "pie"
           }
          ],
          "scatter": [
           {
            "fillpattern": {
             "fillmode": "overlay",
             "size": 10,
             "solidity": 0.2
            },
            "type": "scatter"
           }
          ],
          "scatter3d": [
           {
            "line": {
             "colorbar": {
              "outlinewidth": 0,
              "ticks": ""
             }
            },
            "marker": {
             "colorbar": {
              "outlinewidth": 0,
              "ticks": ""
             }
            },
            "type": "scatter3d"
           }
          ],
          "scattercarpet": [
           {
            "marker": {
             "colorbar": {
              "outlinewidth": 0,
              "ticks": ""
             }
            },
            "type": "scattercarpet"
           }
          ],
          "scattergeo": [
           {
            "marker": {
             "colorbar": {
              "outlinewidth": 0,
              "ticks": ""
             }
            },
            "type": "scattergeo"
           }
          ],
          "scattergl": [
           {
            "marker": {
             "colorbar": {
              "outlinewidth": 0,
              "ticks": ""
             }
            },
            "type": "scattergl"
           }
          ],
          "scattermapbox": [
           {
            "marker": {
             "colorbar": {
              "outlinewidth": 0,
              "ticks": ""
             }
            },
            "type": "scattermapbox"
           }
          ],
          "scatterpolar": [
           {
            "marker": {
             "colorbar": {
              "outlinewidth": 0,
              "ticks": ""
             }
            },
            "type": "scatterpolar"
           }
          ],
          "scatterpolargl": [
           {
            "marker": {
             "colorbar": {
              "outlinewidth": 0,
              "ticks": ""
             }
            },
            "type": "scatterpolargl"
           }
          ],
          "scatterternary": [
           {
            "marker": {
             "colorbar": {
              "outlinewidth": 0,
              "ticks": ""
             }
            },
            "type": "scatterternary"
           }
          ],
          "surface": [
           {
            "colorbar": {
             "outlinewidth": 0,
             "ticks": ""
            },
            "colorscale": [
             [
              0,
              "#0d0887"
             ],
             [
              0.1111111111111111,
              "#46039f"
             ],
             [
              0.2222222222222222,
              "#7201a8"
             ],
             [
              0.3333333333333333,
              "#9c179e"
             ],
             [
              0.4444444444444444,
              "#bd3786"
             ],
             [
              0.5555555555555556,
              "#d8576b"
             ],
             [
              0.6666666666666666,
              "#ed7953"
             ],
             [
              0.7777777777777778,
              "#fb9f3a"
             ],
             [
              0.8888888888888888,
              "#fdca26"
             ],
             [
              1,
              "#f0f921"
             ]
            ],
            "type": "surface"
           }
          ],
          "table": [
           {
            "cells": {
             "fill": {
              "color": "#EBF0F8"
             },
             "line": {
              "color": "white"
             }
            },
            "header": {
             "fill": {
              "color": "#C8D4E3"
             },
             "line": {
              "color": "white"
             }
            },
            "type": "table"
           }
          ]
         },
         "layout": {
          "annotationdefaults": {
           "arrowcolor": "#2a3f5f",
           "arrowhead": 0,
           "arrowwidth": 1
          },
          "autotypenumbers": "strict",
          "coloraxis": {
           "colorbar": {
            "outlinewidth": 0,
            "ticks": ""
           }
          },
          "colorscale": {
           "diverging": [
            [
             0,
             "#8e0152"
            ],
            [
             0.1,
             "#c51b7d"
            ],
            [
             0.2,
             "#de77ae"
            ],
            [
             0.3,
             "#f1b6da"
            ],
            [
             0.4,
             "#fde0ef"
            ],
            [
             0.5,
             "#f7f7f7"
            ],
            [
             0.6,
             "#e6f5d0"
            ],
            [
             0.7,
             "#b8e186"
            ],
            [
             0.8,
             "#7fbc41"
            ],
            [
             0.9,
             "#4d9221"
            ],
            [
             1,
             "#276419"
            ]
           ],
           "sequential": [
            [
             0,
             "#0d0887"
            ],
            [
             0.1111111111111111,
             "#46039f"
            ],
            [
             0.2222222222222222,
             "#7201a8"
            ],
            [
             0.3333333333333333,
             "#9c179e"
            ],
            [
             0.4444444444444444,
             "#bd3786"
            ],
            [
             0.5555555555555556,
             "#d8576b"
            ],
            [
             0.6666666666666666,
             "#ed7953"
            ],
            [
             0.7777777777777778,
             "#fb9f3a"
            ],
            [
             0.8888888888888888,
             "#fdca26"
            ],
            [
             1,
             "#f0f921"
            ]
           ],
           "sequentialminus": [
            [
             0,
             "#0d0887"
            ],
            [
             0.1111111111111111,
             "#46039f"
            ],
            [
             0.2222222222222222,
             "#7201a8"
            ],
            [
             0.3333333333333333,
             "#9c179e"
            ],
            [
             0.4444444444444444,
             "#bd3786"
            ],
            [
             0.5555555555555556,
             "#d8576b"
            ],
            [
             0.6666666666666666,
             "#ed7953"
            ],
            [
             0.7777777777777778,
             "#fb9f3a"
            ],
            [
             0.8888888888888888,
             "#fdca26"
            ],
            [
             1,
             "#f0f921"
            ]
           ]
          },
          "colorway": [
           "#636efa",
           "#EF553B",
           "#00cc96",
           "#ab63fa",
           "#FFA15A",
           "#19d3f3",
           "#FF6692",
           "#B6E880",
           "#FF97FF",
           "#FECB52"
          ],
          "font": {
           "color": "#2a3f5f"
          },
          "geo": {
           "bgcolor": "white",
           "lakecolor": "white",
           "landcolor": "#E5ECF6",
           "showlakes": true,
           "showland": true,
           "subunitcolor": "white"
          },
          "hoverlabel": {
           "align": "left"
          },
          "hovermode": "closest",
          "mapbox": {
           "style": "light"
          },
          "paper_bgcolor": "white",
          "plot_bgcolor": "#E5ECF6",
          "polar": {
           "angularaxis": {
            "gridcolor": "white",
            "linecolor": "white",
            "ticks": ""
           },
           "bgcolor": "#E5ECF6",
           "radialaxis": {
            "gridcolor": "white",
            "linecolor": "white",
            "ticks": ""
           }
          },
          "scene": {
           "xaxis": {
            "backgroundcolor": "#E5ECF6",
            "gridcolor": "white",
            "gridwidth": 2,
            "linecolor": "white",
            "showbackground": true,
            "ticks": "",
            "zerolinecolor": "white"
           },
           "yaxis": {
            "backgroundcolor": "#E5ECF6",
            "gridcolor": "white",
            "gridwidth": 2,
            "linecolor": "white",
            "showbackground": true,
            "ticks": "",
            "zerolinecolor": "white"
           },
           "zaxis": {
            "backgroundcolor": "#E5ECF6",
            "gridcolor": "white",
            "gridwidth": 2,
            "linecolor": "white",
            "showbackground": true,
            "ticks": "",
            "zerolinecolor": "white"
           }
          },
          "shapedefaults": {
           "line": {
            "color": "#2a3f5f"
           }
          },
          "ternary": {
           "aaxis": {
            "gridcolor": "white",
            "linecolor": "white",
            "ticks": ""
           },
           "baxis": {
            "gridcolor": "white",
            "linecolor": "white",
            "ticks": ""
           },
           "bgcolor": "#E5ECF6",
           "caxis": {
            "gridcolor": "white",
            "linecolor": "white",
            "ticks": ""
           }
          },
          "title": {
           "x": 0.05
          },
          "xaxis": {
           "automargin": true,
           "gridcolor": "white",
           "linecolor": "white",
           "ticks": "",
           "title": {
            "standoff": 15
           },
           "zerolinecolor": "white",
           "zerolinewidth": 2
          },
          "yaxis": {
           "automargin": true,
           "gridcolor": "white",
           "linecolor": "white",
           "ticks": "",
           "title": {
            "standoff": 15
           },
           "zerolinecolor": "white",
           "zerolinewidth": 2
          }
         }
        },
        "title": {
         "text": "Box Plot of Aqi by Category"
        },
        "xaxis": {
         "anchor": "y",
         "domain": [
          0,
          1
         ],
         "title": {
          "text": "aqi"
         }
        },
        "yaxis": {
         "anchor": "x",
         "domain": [
          0,
          1
         ]
        }
       }
      }
     },
     "metadata": {},
     "output_type": "display_data"
    }
   ],
   "source": [
    "# Box Plot\n",
    "\n",
    "column = 'aqi'\n",
    "\n",
    "fig_box = px.box(df, x=column, title=f'Box Plot of {column.capitalize()} by Category')\n",
    "fig_box.show()"
   ]
  },
  {
   "cell_type": "code",
   "execution_count": 29,
   "metadata": {},
   "outputs": [
    {
     "data": {
      "application/vnd.plotly.v1+json": {
       "config": {
        "plotlyServerURL": "https://plot.ly"
       },
       "data": [
        {
         "coloraxis": "coloraxis",
         "hovertemplate": "x: %{x}<br>y: %{y}<br>color: %{z}<extra></extra>",
         "name": "0",
         "texttemplate": "%{z}",
         "type": "heatmap",
         "x": [
          "aqi",
          "co",
          "no2",
          "o3",
          "pm10",
          "pm25",
          "so2",
          "timestamp_local",
          "timestamp_utc",
          "ts"
         ],
         "xaxis": "x",
         "y": [
          "aqi",
          "co",
          "no2",
          "o3",
          "pm10",
          "pm25",
          "so2",
          "timestamp_local",
          "timestamp_utc",
          "ts"
         ],
         "yaxis": "y",
         "z": [
          [
           1,
           0.5,
           0.17,
           0.31,
           0.64,
           0.66,
           0.36,
           0.59,
           0.59,
           0.59
          ],
          [
           0.5,
           1,
           0.75,
           -0.49,
           0.61,
           0.65,
           0,
           0.47,
           0.47,
           0.47
          ],
          [
           0.17,
           0.75,
           1,
           -0.83,
           0.55,
           0.57,
           -0.17,
           -0.1,
           -0.1,
           -0.1
          ],
          [
           0.31,
           -0.49,
           -0.83,
           1,
           -0.26,
           -0.28,
           0.43,
           0.42,
           0.42,
           0.42
          ],
          [
           0.64,
           0.61,
           0.55,
           -0.26,
           1,
           0.99,
           0.14,
           0.13,
           0.13,
           0.13
          ],
          [
           0.66,
           0.65,
           0.57,
           -0.28,
           0.99,
           1,
           0.13,
           0.17,
           0.17,
           0.17
          ],
          [
           0.36,
           0,
           -0.17,
           0.43,
           0.14,
           0.13,
           1,
           0.27,
           0.27,
           0.27
          ],
          [
           0.59,
           0.47,
           -0.1,
           0.42,
           0.13,
           0.17,
           0.27,
           1,
           1,
           1
          ],
          [
           0.59,
           0.47,
           -0.1,
           0.42,
           0.13,
           0.17,
           0.27,
           1,
           1,
           1
          ],
          [
           0.59,
           0.47,
           -0.1,
           0.42,
           0.13,
           0.17,
           0.27,
           1,
           1,
           1
          ]
         ]
        }
       ],
       "layout": {
        "coloraxis": {
         "colorscale": [
          [
           0,
           "#000004"
          ],
          [
           0.1111111111111111,
           "#180f3d"
          ],
          [
           0.2222222222222222,
           "#440f76"
          ],
          [
           0.3333333333333333,
           "#721f81"
          ],
          [
           0.4444444444444444,
           "#9e2f7f"
          ],
          [
           0.5555555555555556,
           "#cd4071"
          ],
          [
           0.6666666666666666,
           "#f1605d"
          ],
          [
           0.7777777777777778,
           "#fd9668"
          ],
          [
           0.8888888888888888,
           "#feca8d"
          ],
          [
           1,
           "#fcfdbf"
          ]
         ]
        },
        "template": {
         "data": {
          "bar": [
           {
            "error_x": {
             "color": "#2a3f5f"
            },
            "error_y": {
             "color": "#2a3f5f"
            },
            "marker": {
             "line": {
              "color": "#E5ECF6",
              "width": 0.5
             },
             "pattern": {
              "fillmode": "overlay",
              "size": 10,
              "solidity": 0.2
             }
            },
            "type": "bar"
           }
          ],
          "barpolar": [
           {
            "marker": {
             "line": {
              "color": "#E5ECF6",
              "width": 0.5
             },
             "pattern": {
              "fillmode": "overlay",
              "size": 10,
              "solidity": 0.2
             }
            },
            "type": "barpolar"
           }
          ],
          "carpet": [
           {
            "aaxis": {
             "endlinecolor": "#2a3f5f",
             "gridcolor": "white",
             "linecolor": "white",
             "minorgridcolor": "white",
             "startlinecolor": "#2a3f5f"
            },
            "baxis": {
             "endlinecolor": "#2a3f5f",
             "gridcolor": "white",
             "linecolor": "white",
             "minorgridcolor": "white",
             "startlinecolor": "#2a3f5f"
            },
            "type": "carpet"
           }
          ],
          "choropleth": [
           {
            "colorbar": {
             "outlinewidth": 0,
             "ticks": ""
            },
            "type": "choropleth"
           }
          ],
          "contour": [
           {
            "colorbar": {
             "outlinewidth": 0,
             "ticks": ""
            },
            "colorscale": [
             [
              0,
              "#0d0887"
             ],
             [
              0.1111111111111111,
              "#46039f"
             ],
             [
              0.2222222222222222,
              "#7201a8"
             ],
             [
              0.3333333333333333,
              "#9c179e"
             ],
             [
              0.4444444444444444,
              "#bd3786"
             ],
             [
              0.5555555555555556,
              "#d8576b"
             ],
             [
              0.6666666666666666,
              "#ed7953"
             ],
             [
              0.7777777777777778,
              "#fb9f3a"
             ],
             [
              0.8888888888888888,
              "#fdca26"
             ],
             [
              1,
              "#f0f921"
             ]
            ],
            "type": "contour"
           }
          ],
          "contourcarpet": [
           {
            "colorbar": {
             "outlinewidth": 0,
             "ticks": ""
            },
            "type": "contourcarpet"
           }
          ],
          "heatmap": [
           {
            "colorbar": {
             "outlinewidth": 0,
             "ticks": ""
            },
            "colorscale": [
             [
              0,
              "#0d0887"
             ],
             [
              0.1111111111111111,
              "#46039f"
             ],
             [
              0.2222222222222222,
              "#7201a8"
             ],
             [
              0.3333333333333333,
              "#9c179e"
             ],
             [
              0.4444444444444444,
              "#bd3786"
             ],
             [
              0.5555555555555556,
              "#d8576b"
             ],
             [
              0.6666666666666666,
              "#ed7953"
             ],
             [
              0.7777777777777778,
              "#fb9f3a"
             ],
             [
              0.8888888888888888,
              "#fdca26"
             ],
             [
              1,
              "#f0f921"
             ]
            ],
            "type": "heatmap"
           }
          ],
          "heatmapgl": [
           {
            "colorbar": {
             "outlinewidth": 0,
             "ticks": ""
            },
            "colorscale": [
             [
              0,
              "#0d0887"
             ],
             [
              0.1111111111111111,
              "#46039f"
             ],
             [
              0.2222222222222222,
              "#7201a8"
             ],
             [
              0.3333333333333333,
              "#9c179e"
             ],
             [
              0.4444444444444444,
              "#bd3786"
             ],
             [
              0.5555555555555556,
              "#d8576b"
             ],
             [
              0.6666666666666666,
              "#ed7953"
             ],
             [
              0.7777777777777778,
              "#fb9f3a"
             ],
             [
              0.8888888888888888,
              "#fdca26"
             ],
             [
              1,
              "#f0f921"
             ]
            ],
            "type": "heatmapgl"
           }
          ],
          "histogram": [
           {
            "marker": {
             "pattern": {
              "fillmode": "overlay",
              "size": 10,
              "solidity": 0.2
             }
            },
            "type": "histogram"
           }
          ],
          "histogram2d": [
           {
            "colorbar": {
             "outlinewidth": 0,
             "ticks": ""
            },
            "colorscale": [
             [
              0,
              "#0d0887"
             ],
             [
              0.1111111111111111,
              "#46039f"
             ],
             [
              0.2222222222222222,
              "#7201a8"
             ],
             [
              0.3333333333333333,
              "#9c179e"
             ],
             [
              0.4444444444444444,
              "#bd3786"
             ],
             [
              0.5555555555555556,
              "#d8576b"
             ],
             [
              0.6666666666666666,
              "#ed7953"
             ],
             [
              0.7777777777777778,
              "#fb9f3a"
             ],
             [
              0.8888888888888888,
              "#fdca26"
             ],
             [
              1,
              "#f0f921"
             ]
            ],
            "type": "histogram2d"
           }
          ],
          "histogram2dcontour": [
           {
            "colorbar": {
             "outlinewidth": 0,
             "ticks": ""
            },
            "colorscale": [
             [
              0,
              "#0d0887"
             ],
             [
              0.1111111111111111,
              "#46039f"
             ],
             [
              0.2222222222222222,
              "#7201a8"
             ],
             [
              0.3333333333333333,
              "#9c179e"
             ],
             [
              0.4444444444444444,
              "#bd3786"
             ],
             [
              0.5555555555555556,
              "#d8576b"
             ],
             [
              0.6666666666666666,
              "#ed7953"
             ],
             [
              0.7777777777777778,
              "#fb9f3a"
             ],
             [
              0.8888888888888888,
              "#fdca26"
             ],
             [
              1,
              "#f0f921"
             ]
            ],
            "type": "histogram2dcontour"
           }
          ],
          "mesh3d": [
           {
            "colorbar": {
             "outlinewidth": 0,
             "ticks": ""
            },
            "type": "mesh3d"
           }
          ],
          "parcoords": [
           {
            "line": {
             "colorbar": {
              "outlinewidth": 0,
              "ticks": ""
             }
            },
            "type": "parcoords"
           }
          ],
          "pie": [
           {
            "automargin": true,
            "type": "pie"
           }
          ],
          "scatter": [
           {
            "fillpattern": {
             "fillmode": "overlay",
             "size": 10,
             "solidity": 0.2
            },
            "type": "scatter"
           }
          ],
          "scatter3d": [
           {
            "line": {
             "colorbar": {
              "outlinewidth": 0,
              "ticks": ""
             }
            },
            "marker": {
             "colorbar": {
              "outlinewidth": 0,
              "ticks": ""
             }
            },
            "type": "scatter3d"
           }
          ],
          "scattercarpet": [
           {
            "marker": {
             "colorbar": {
              "outlinewidth": 0,
              "ticks": ""
             }
            },
            "type": "scattercarpet"
           }
          ],
          "scattergeo": [
           {
            "marker": {
             "colorbar": {
              "outlinewidth": 0,
              "ticks": ""
             }
            },
            "type": "scattergeo"
           }
          ],
          "scattergl": [
           {
            "marker": {
             "colorbar": {
              "outlinewidth": 0,
              "ticks": ""
             }
            },
            "type": "scattergl"
           }
          ],
          "scattermapbox": [
           {
            "marker": {
             "colorbar": {
              "outlinewidth": 0,
              "ticks": ""
             }
            },
            "type": "scattermapbox"
           }
          ],
          "scatterpolar": [
           {
            "marker": {
             "colorbar": {
              "outlinewidth": 0,
              "ticks": ""
             }
            },
            "type": "scatterpolar"
           }
          ],
          "scatterpolargl": [
           {
            "marker": {
             "colorbar": {
              "outlinewidth": 0,
              "ticks": ""
             }
            },
            "type": "scatterpolargl"
           }
          ],
          "scatterternary": [
           {
            "marker": {
             "colorbar": {
              "outlinewidth": 0,
              "ticks": ""
             }
            },
            "type": "scatterternary"
           }
          ],
          "surface": [
           {
            "colorbar": {
             "outlinewidth": 0,
             "ticks": ""
            },
            "colorscale": [
             [
              0,
              "#0d0887"
             ],
             [
              0.1111111111111111,
              "#46039f"
             ],
             [
              0.2222222222222222,
              "#7201a8"
             ],
             [
              0.3333333333333333,
              "#9c179e"
             ],
             [
              0.4444444444444444,
              "#bd3786"
             ],
             [
              0.5555555555555556,
              "#d8576b"
             ],
             [
              0.6666666666666666,
              "#ed7953"
             ],
             [
              0.7777777777777778,
              "#fb9f3a"
             ],
             [
              0.8888888888888888,
              "#fdca26"
             ],
             [
              1,
              "#f0f921"
             ]
            ],
            "type": "surface"
           }
          ],
          "table": [
           {
            "cells": {
             "fill": {
              "color": "#EBF0F8"
             },
             "line": {
              "color": "white"
             }
            },
            "header": {
             "fill": {
              "color": "#C8D4E3"
             },
             "line": {
              "color": "white"
             }
            },
            "type": "table"
           }
          ]
         },
         "layout": {
          "annotationdefaults": {
           "arrowcolor": "#2a3f5f",
           "arrowhead": 0,
           "arrowwidth": 1
          },
          "autotypenumbers": "strict",
          "coloraxis": {
           "colorbar": {
            "outlinewidth": 0,
            "ticks": ""
           }
          },
          "colorscale": {
           "diverging": [
            [
             0,
             "#8e0152"
            ],
            [
             0.1,
             "#c51b7d"
            ],
            [
             0.2,
             "#de77ae"
            ],
            [
             0.3,
             "#f1b6da"
            ],
            [
             0.4,
             "#fde0ef"
            ],
            [
             0.5,
             "#f7f7f7"
            ],
            [
             0.6,
             "#e6f5d0"
            ],
            [
             0.7,
             "#b8e186"
            ],
            [
             0.8,
             "#7fbc41"
            ],
            [
             0.9,
             "#4d9221"
            ],
            [
             1,
             "#276419"
            ]
           ],
           "sequential": [
            [
             0,
             "#0d0887"
            ],
            [
             0.1111111111111111,
             "#46039f"
            ],
            [
             0.2222222222222222,
             "#7201a8"
            ],
            [
             0.3333333333333333,
             "#9c179e"
            ],
            [
             0.4444444444444444,
             "#bd3786"
            ],
            [
             0.5555555555555556,
             "#d8576b"
            ],
            [
             0.6666666666666666,
             "#ed7953"
            ],
            [
             0.7777777777777778,
             "#fb9f3a"
            ],
            [
             0.8888888888888888,
             "#fdca26"
            ],
            [
             1,
             "#f0f921"
            ]
           ],
           "sequentialminus": [
            [
             0,
             "#0d0887"
            ],
            [
             0.1111111111111111,
             "#46039f"
            ],
            [
             0.2222222222222222,
             "#7201a8"
            ],
            [
             0.3333333333333333,
             "#9c179e"
            ],
            [
             0.4444444444444444,
             "#bd3786"
            ],
            [
             0.5555555555555556,
             "#d8576b"
            ],
            [
             0.6666666666666666,
             "#ed7953"
            ],
            [
             0.7777777777777778,
             "#fb9f3a"
            ],
            [
             0.8888888888888888,
             "#fdca26"
            ],
            [
             1,
             "#f0f921"
            ]
           ]
          },
          "colorway": [
           "#636efa",
           "#EF553B",
           "#00cc96",
           "#ab63fa",
           "#FFA15A",
           "#19d3f3",
           "#FF6692",
           "#B6E880",
           "#FF97FF",
           "#FECB52"
          ],
          "font": {
           "color": "#2a3f5f"
          },
          "geo": {
           "bgcolor": "white",
           "lakecolor": "white",
           "landcolor": "#E5ECF6",
           "showlakes": true,
           "showland": true,
           "subunitcolor": "white"
          },
          "hoverlabel": {
           "align": "left"
          },
          "hovermode": "closest",
          "mapbox": {
           "style": "light"
          },
          "paper_bgcolor": "white",
          "plot_bgcolor": "#E5ECF6",
          "polar": {
           "angularaxis": {
            "gridcolor": "white",
            "linecolor": "white",
            "ticks": ""
           },
           "bgcolor": "#E5ECF6",
           "radialaxis": {
            "gridcolor": "white",
            "linecolor": "white",
            "ticks": ""
           }
          },
          "scene": {
           "xaxis": {
            "backgroundcolor": "#E5ECF6",
            "gridcolor": "white",
            "gridwidth": 2,
            "linecolor": "white",
            "showbackground": true,
            "ticks": "",
            "zerolinecolor": "white"
           },
           "yaxis": {
            "backgroundcolor": "#E5ECF6",
            "gridcolor": "white",
            "gridwidth": 2,
            "linecolor": "white",
            "showbackground": true,
            "ticks": "",
            "zerolinecolor": "white"
           },
           "zaxis": {
            "backgroundcolor": "#E5ECF6",
            "gridcolor": "white",
            "gridwidth": 2,
            "linecolor": "white",
            "showbackground": true,
            "ticks": "",
            "zerolinecolor": "white"
           }
          },
          "shapedefaults": {
           "line": {
            "color": "#2a3f5f"
           }
          },
          "ternary": {
           "aaxis": {
            "gridcolor": "white",
            "linecolor": "white",
            "ticks": ""
           },
           "baxis": {
            "gridcolor": "white",
            "linecolor": "white",
            "ticks": ""
           },
           "bgcolor": "#E5ECF6",
           "caxis": {
            "gridcolor": "white",
            "linecolor": "white",
            "ticks": ""
           }
          },
          "title": {
           "x": 0.05
          },
          "xaxis": {
           "automargin": true,
           "gridcolor": "white",
           "linecolor": "white",
           "ticks": "",
           "title": {
            "standoff": 15
           },
           "zerolinecolor": "white",
           "zerolinewidth": 2
          },
          "yaxis": {
           "automargin": true,
           "gridcolor": "white",
           "linecolor": "white",
           "ticks": "",
           "title": {
            "standoff": 15
           },
           "zerolinecolor": "white",
           "zerolinewidth": 2
          }
         }
        },
        "title": {
         "text": "Correlation Matrix Heatmap"
        },
        "xaxis": {
         "anchor": "y",
         "domain": [
          0,
          1
         ]
        },
        "yaxis": {
         "anchor": "x",
         "autorange": "reversed",
         "domain": [
          0,
          1
         ]
        }
       }
      }
     },
     "metadata": {},
     "output_type": "display_data"
    }
   ],
   "source": [
    "# Correlation Matrix Heatmap\n",
    "\n",
    "correlation_matrix = df.corr()\n",
    "fig_heatmap = px.imshow(round(correlation_matrix,2), title='Correlation Matrix Heatmap', color_continuous_scale='Magma',\n",
    "                         aspect='auto', text_auto=True)\n",
    "fig_heatmap.show()"
   ]
  },
  {
   "cell_type": "code",
   "execution_count": 54,
   "metadata": {},
   "outputs": [
    {
     "data": {
      "application/vnd.plotly.v1+json": {
       "config": {
        "plotlyServerURL": "https://plot.ly"
       },
       "data": [
        {
         "fillpattern": {
          "shape": ""
         },
         "hovertemplate": "timestamp_local=%{x}<br>o3=%{y}<extra></extra>",
         "legendgroup": "",
         "line": {
          "color": "#636efa"
         },
         "marker": {
          "symbol": "circle"
         },
         "mode": "lines",
         "name": "",
         "orientation": "v",
         "showlegend": false,
         "stackgroup": "1",
         "type": "scatter",
         "x": [
          "2024-08-21T18:00:00",
          "2024-08-21T17:00:00",
          "2024-08-21T16:00:00",
          "2024-08-21T15:00:00",
          "2024-08-21T14:00:00",
          "2024-08-21T13:00:00",
          "2024-08-21T12:00:00",
          "2024-08-21T11:00:00",
          "2024-08-21T10:00:00",
          "2024-08-21T09:00:00",
          "2024-08-21T08:00:00",
          "2024-08-21T07:00:00",
          "2024-08-21T06:00:00",
          "2024-08-21T05:00:00",
          "2024-08-21T04:00:00",
          "2024-08-21T03:00:00",
          "2024-08-21T02:00:00",
          "2024-08-21T01:00:00",
          "2024-08-21T00:00:00",
          "2024-08-20T23:00:00",
          "2024-08-20T22:00:00",
          "2024-08-20T21:00:00",
          "2024-08-20T20:00:00",
          "2024-08-20T19:00:00",
          "2024-08-20T18:00:00",
          "2024-08-20T17:00:00",
          "2024-08-20T16:00:00",
          "2024-08-20T15:00:00",
          "2024-08-20T14:00:00",
          "2024-08-20T13:00:00",
          "2024-08-20T12:00:00",
          "2024-08-20T11:00:00",
          "2024-08-20T10:00:00",
          "2024-08-20T09:00:00",
          "2024-08-20T08:00:00",
          "2024-08-20T07:00:00",
          "2024-08-20T06:00:00",
          "2024-08-20T05:00:00",
          "2024-08-20T04:00:00",
          "2024-08-20T03:00:00",
          "2024-08-20T02:00:00",
          "2024-08-20T01:00:00",
          "2024-08-20T00:00:00",
          "2024-08-19T23:00:00",
          "2024-08-19T22:00:00",
          "2024-08-19T21:00:00",
          "2024-08-19T20:00:00",
          "2024-08-19T19:00:00",
          "2024-08-19T18:00:00",
          "2024-08-19T17:00:00",
          "2024-08-19T16:00:00",
          "2024-08-19T15:00:00",
          "2024-08-19T14:00:00",
          "2024-08-19T13:00:00",
          "2024-08-19T12:00:00",
          "2024-08-19T11:00:00",
          "2024-08-19T10:00:00",
          "2024-08-19T09:00:00",
          "2024-08-19T08:00:00",
          "2024-08-19T07:00:00",
          "2024-08-19T06:00:00",
          "2024-08-19T05:00:00",
          "2024-08-19T04:00:00",
          "2024-08-19T03:00:00",
          "2024-08-19T02:00:00",
          "2024-08-19T01:00:00",
          "2024-08-19T00:00:00",
          "2024-08-18T23:00:00",
          "2024-08-18T22:00:00",
          "2024-08-18T21:00:00",
          "2024-08-18T20:00:00",
          "2024-08-18T19:00:00"
         ],
         "xaxis": "x",
         "y": [
          147.3,
          158,
          156,
          154,
          152,
          145.3,
          138.7,
          132,
          102.3,
          72.7,
          43,
          34.3,
          25.7,
          17,
          19.7,
          22.3,
          25,
          35,
          45,
          55,
          69,
          83,
          97,
          106,
          115,
          124,
          124.3,
          124.7,
          125,
          123.7,
          122.3,
          121,
          90.7,
          60.3,
          30,
          27.3,
          24.7,
          22,
          26.3,
          30.7,
          35,
          39.7,
          44.3,
          49,
          60,
          71,
          82,
          83.7,
          85.3,
          87,
          89.7,
          92.3,
          95,
          79.3,
          63.7,
          48,
          38.7,
          29.3,
          20,
          21.3,
          22.7,
          24,
          26.7,
          29.3,
          32,
          42,
          52,
          62,
          69.3,
          76.7,
          84,
          90.3
         ],
         "yaxis": "y"
        }
       ],
       "layout": {
        "legend": {
         "tracegroupgap": 0
        },
        "template": {
         "data": {
          "bar": [
           {
            "error_x": {
             "color": "#2a3f5f"
            },
            "error_y": {
             "color": "#2a3f5f"
            },
            "marker": {
             "line": {
              "color": "#E5ECF6",
              "width": 0.5
             },
             "pattern": {
              "fillmode": "overlay",
              "size": 10,
              "solidity": 0.2
             }
            },
            "type": "bar"
           }
          ],
          "barpolar": [
           {
            "marker": {
             "line": {
              "color": "#E5ECF6",
              "width": 0.5
             },
             "pattern": {
              "fillmode": "overlay",
              "size": 10,
              "solidity": 0.2
             }
            },
            "type": "barpolar"
           }
          ],
          "carpet": [
           {
            "aaxis": {
             "endlinecolor": "#2a3f5f",
             "gridcolor": "white",
             "linecolor": "white",
             "minorgridcolor": "white",
             "startlinecolor": "#2a3f5f"
            },
            "baxis": {
             "endlinecolor": "#2a3f5f",
             "gridcolor": "white",
             "linecolor": "white",
             "minorgridcolor": "white",
             "startlinecolor": "#2a3f5f"
            },
            "type": "carpet"
           }
          ],
          "choropleth": [
           {
            "colorbar": {
             "outlinewidth": 0,
             "ticks": ""
            },
            "type": "choropleth"
           }
          ],
          "contour": [
           {
            "colorbar": {
             "outlinewidth": 0,
             "ticks": ""
            },
            "colorscale": [
             [
              0,
              "#0d0887"
             ],
             [
              0.1111111111111111,
              "#46039f"
             ],
             [
              0.2222222222222222,
              "#7201a8"
             ],
             [
              0.3333333333333333,
              "#9c179e"
             ],
             [
              0.4444444444444444,
              "#bd3786"
             ],
             [
              0.5555555555555556,
              "#d8576b"
             ],
             [
              0.6666666666666666,
              "#ed7953"
             ],
             [
              0.7777777777777778,
              "#fb9f3a"
             ],
             [
              0.8888888888888888,
              "#fdca26"
             ],
             [
              1,
              "#f0f921"
             ]
            ],
            "type": "contour"
           }
          ],
          "contourcarpet": [
           {
            "colorbar": {
             "outlinewidth": 0,
             "ticks": ""
            },
            "type": "contourcarpet"
           }
          ],
          "heatmap": [
           {
            "colorbar": {
             "outlinewidth": 0,
             "ticks": ""
            },
            "colorscale": [
             [
              0,
              "#0d0887"
             ],
             [
              0.1111111111111111,
              "#46039f"
             ],
             [
              0.2222222222222222,
              "#7201a8"
             ],
             [
              0.3333333333333333,
              "#9c179e"
             ],
             [
              0.4444444444444444,
              "#bd3786"
             ],
             [
              0.5555555555555556,
              "#d8576b"
             ],
             [
              0.6666666666666666,
              "#ed7953"
             ],
             [
              0.7777777777777778,
              "#fb9f3a"
             ],
             [
              0.8888888888888888,
              "#fdca26"
             ],
             [
              1,
              "#f0f921"
             ]
            ],
            "type": "heatmap"
           }
          ],
          "heatmapgl": [
           {
            "colorbar": {
             "outlinewidth": 0,
             "ticks": ""
            },
            "colorscale": [
             [
              0,
              "#0d0887"
             ],
             [
              0.1111111111111111,
              "#46039f"
             ],
             [
              0.2222222222222222,
              "#7201a8"
             ],
             [
              0.3333333333333333,
              "#9c179e"
             ],
             [
              0.4444444444444444,
              "#bd3786"
             ],
             [
              0.5555555555555556,
              "#d8576b"
             ],
             [
              0.6666666666666666,
              "#ed7953"
             ],
             [
              0.7777777777777778,
              "#fb9f3a"
             ],
             [
              0.8888888888888888,
              "#fdca26"
             ],
             [
              1,
              "#f0f921"
             ]
            ],
            "type": "heatmapgl"
           }
          ],
          "histogram": [
           {
            "marker": {
             "pattern": {
              "fillmode": "overlay",
              "size": 10,
              "solidity": 0.2
             }
            },
            "type": "histogram"
           }
          ],
          "histogram2d": [
           {
            "colorbar": {
             "outlinewidth": 0,
             "ticks": ""
            },
            "colorscale": [
             [
              0,
              "#0d0887"
             ],
             [
              0.1111111111111111,
              "#46039f"
             ],
             [
              0.2222222222222222,
              "#7201a8"
             ],
             [
              0.3333333333333333,
              "#9c179e"
             ],
             [
              0.4444444444444444,
              "#bd3786"
             ],
             [
              0.5555555555555556,
              "#d8576b"
             ],
             [
              0.6666666666666666,
              "#ed7953"
             ],
             [
              0.7777777777777778,
              "#fb9f3a"
             ],
             [
              0.8888888888888888,
              "#fdca26"
             ],
             [
              1,
              "#f0f921"
             ]
            ],
            "type": "histogram2d"
           }
          ],
          "histogram2dcontour": [
           {
            "colorbar": {
             "outlinewidth": 0,
             "ticks": ""
            },
            "colorscale": [
             [
              0,
              "#0d0887"
             ],
             [
              0.1111111111111111,
              "#46039f"
             ],
             [
              0.2222222222222222,
              "#7201a8"
             ],
             [
              0.3333333333333333,
              "#9c179e"
             ],
             [
              0.4444444444444444,
              "#bd3786"
             ],
             [
              0.5555555555555556,
              "#d8576b"
             ],
             [
              0.6666666666666666,
              "#ed7953"
             ],
             [
              0.7777777777777778,
              "#fb9f3a"
             ],
             [
              0.8888888888888888,
              "#fdca26"
             ],
             [
              1,
              "#f0f921"
             ]
            ],
            "type": "histogram2dcontour"
           }
          ],
          "mesh3d": [
           {
            "colorbar": {
             "outlinewidth": 0,
             "ticks": ""
            },
            "type": "mesh3d"
           }
          ],
          "parcoords": [
           {
            "line": {
             "colorbar": {
              "outlinewidth": 0,
              "ticks": ""
             }
            },
            "type": "parcoords"
           }
          ],
          "pie": [
           {
            "automargin": true,
            "type": "pie"
           }
          ],
          "scatter": [
           {
            "fillpattern": {
             "fillmode": "overlay",
             "size": 10,
             "solidity": 0.2
            },
            "type": "scatter"
           }
          ],
          "scatter3d": [
           {
            "line": {
             "colorbar": {
              "outlinewidth": 0,
              "ticks": ""
             }
            },
            "marker": {
             "colorbar": {
              "outlinewidth": 0,
              "ticks": ""
             }
            },
            "type": "scatter3d"
           }
          ],
          "scattercarpet": [
           {
            "marker": {
             "colorbar": {
              "outlinewidth": 0,
              "ticks": ""
             }
            },
            "type": "scattercarpet"
           }
          ],
          "scattergeo": [
           {
            "marker": {
             "colorbar": {
              "outlinewidth": 0,
              "ticks": ""
             }
            },
            "type": "scattergeo"
           }
          ],
          "scattergl": [
           {
            "marker": {
             "colorbar": {
              "outlinewidth": 0,
              "ticks": ""
             }
            },
            "type": "scattergl"
           }
          ],
          "scattermapbox": [
           {
            "marker": {
             "colorbar": {
              "outlinewidth": 0,
              "ticks": ""
             }
            },
            "type": "scattermapbox"
           }
          ],
          "scatterpolar": [
           {
            "marker": {
             "colorbar": {
              "outlinewidth": 0,
              "ticks": ""
             }
            },
            "type": "scatterpolar"
           }
          ],
          "scatterpolargl": [
           {
            "marker": {
             "colorbar": {
              "outlinewidth": 0,
              "ticks": ""
             }
            },
            "type": "scatterpolargl"
           }
          ],
          "scatterternary": [
           {
            "marker": {
             "colorbar": {
              "outlinewidth": 0,
              "ticks": ""
             }
            },
            "type": "scatterternary"
           }
          ],
          "surface": [
           {
            "colorbar": {
             "outlinewidth": 0,
             "ticks": ""
            },
            "colorscale": [
             [
              0,
              "#0d0887"
             ],
             [
              0.1111111111111111,
              "#46039f"
             ],
             [
              0.2222222222222222,
              "#7201a8"
             ],
             [
              0.3333333333333333,
              "#9c179e"
             ],
             [
              0.4444444444444444,
              "#bd3786"
             ],
             [
              0.5555555555555556,
              "#d8576b"
             ],
             [
              0.6666666666666666,
              "#ed7953"
             ],
             [
              0.7777777777777778,
              "#fb9f3a"
             ],
             [
              0.8888888888888888,
              "#fdca26"
             ],
             [
              1,
              "#f0f921"
             ]
            ],
            "type": "surface"
           }
          ],
          "table": [
           {
            "cells": {
             "fill": {
              "color": "#EBF0F8"
             },
             "line": {
              "color": "white"
             }
            },
            "header": {
             "fill": {
              "color": "#C8D4E3"
             },
             "line": {
              "color": "white"
             }
            },
            "type": "table"
           }
          ]
         },
         "layout": {
          "annotationdefaults": {
           "arrowcolor": "#2a3f5f",
           "arrowhead": 0,
           "arrowwidth": 1
          },
          "autotypenumbers": "strict",
          "coloraxis": {
           "colorbar": {
            "outlinewidth": 0,
            "ticks": ""
           }
          },
          "colorscale": {
           "diverging": [
            [
             0,
             "#8e0152"
            ],
            [
             0.1,
             "#c51b7d"
            ],
            [
             0.2,
             "#de77ae"
            ],
            [
             0.3,
             "#f1b6da"
            ],
            [
             0.4,
             "#fde0ef"
            ],
            [
             0.5,
             "#f7f7f7"
            ],
            [
             0.6,
             "#e6f5d0"
            ],
            [
             0.7,
             "#b8e186"
            ],
            [
             0.8,
             "#7fbc41"
            ],
            [
             0.9,
             "#4d9221"
            ],
            [
             1,
             "#276419"
            ]
           ],
           "sequential": [
            [
             0,
             "#0d0887"
            ],
            [
             0.1111111111111111,
             "#46039f"
            ],
            [
             0.2222222222222222,
             "#7201a8"
            ],
            [
             0.3333333333333333,
             "#9c179e"
            ],
            [
             0.4444444444444444,
             "#bd3786"
            ],
            [
             0.5555555555555556,
             "#d8576b"
            ],
            [
             0.6666666666666666,
             "#ed7953"
            ],
            [
             0.7777777777777778,
             "#fb9f3a"
            ],
            [
             0.8888888888888888,
             "#fdca26"
            ],
            [
             1,
             "#f0f921"
            ]
           ],
           "sequentialminus": [
            [
             0,
             "#0d0887"
            ],
            [
             0.1111111111111111,
             "#46039f"
            ],
            [
             0.2222222222222222,
             "#7201a8"
            ],
            [
             0.3333333333333333,
             "#9c179e"
            ],
            [
             0.4444444444444444,
             "#bd3786"
            ],
            [
             0.5555555555555556,
             "#d8576b"
            ],
            [
             0.6666666666666666,
             "#ed7953"
            ],
            [
             0.7777777777777778,
             "#fb9f3a"
            ],
            [
             0.8888888888888888,
             "#fdca26"
            ],
            [
             1,
             "#f0f921"
            ]
           ]
          },
          "colorway": [
           "#636efa",
           "#EF553B",
           "#00cc96",
           "#ab63fa",
           "#FFA15A",
           "#19d3f3",
           "#FF6692",
           "#B6E880",
           "#FF97FF",
           "#FECB52"
          ],
          "font": {
           "color": "#2a3f5f"
          },
          "geo": {
           "bgcolor": "white",
           "lakecolor": "white",
           "landcolor": "#E5ECF6",
           "showlakes": true,
           "showland": true,
           "subunitcolor": "white"
          },
          "hoverlabel": {
           "align": "left"
          },
          "hovermode": "closest",
          "mapbox": {
           "style": "light"
          },
          "paper_bgcolor": "white",
          "plot_bgcolor": "#E5ECF6",
          "polar": {
           "angularaxis": {
            "gridcolor": "white",
            "linecolor": "white",
            "ticks": ""
           },
           "bgcolor": "#E5ECF6",
           "radialaxis": {
            "gridcolor": "white",
            "linecolor": "white",
            "ticks": ""
           }
          },
          "scene": {
           "xaxis": {
            "backgroundcolor": "#E5ECF6",
            "gridcolor": "white",
            "gridwidth": 2,
            "linecolor": "white",
            "showbackground": true,
            "ticks": "",
            "zerolinecolor": "white"
           },
           "yaxis": {
            "backgroundcolor": "#E5ECF6",
            "gridcolor": "white",
            "gridwidth": 2,
            "linecolor": "white",
            "showbackground": true,
            "ticks": "",
            "zerolinecolor": "white"
           },
           "zaxis": {
            "backgroundcolor": "#E5ECF6",
            "gridcolor": "white",
            "gridwidth": 2,
            "linecolor": "white",
            "showbackground": true,
            "ticks": "",
            "zerolinecolor": "white"
           }
          },
          "shapedefaults": {
           "line": {
            "color": "#2a3f5f"
           }
          },
          "ternary": {
           "aaxis": {
            "gridcolor": "white",
            "linecolor": "white",
            "ticks": ""
           },
           "baxis": {
            "gridcolor": "white",
            "linecolor": "white",
            "ticks": ""
           },
           "bgcolor": "#E5ECF6",
           "caxis": {
            "gridcolor": "white",
            "linecolor": "white",
            "ticks": ""
           }
          },
          "title": {
           "x": 0.05
          },
          "xaxis": {
           "automargin": true,
           "gridcolor": "white",
           "linecolor": "white",
           "ticks": "",
           "title": {
            "standoff": 15
           },
           "zerolinecolor": "white",
           "zerolinewidth": 2
          },
          "yaxis": {
           "automargin": true,
           "gridcolor": "white",
           "linecolor": "white",
           "ticks": "",
           "title": {
            "standoff": 15
           },
           "zerolinecolor": "white",
           "zerolinewidth": 2
          }
         }
        },
        "title": {
         "text": "Time Series of o3 with Rangeslider"
        },
        "xaxis": {
         "anchor": "y",
         "domain": [
          0,
          1
         ],
         "minor": {
          "showgrid": true,
          "ticks": "inside"
         },
         "rangeslider": {
          "visible": true
         },
         "title": {
          "text": "timestamp_local"
         }
        },
        "yaxis": {
         "anchor": "x",
         "domain": [
          0,
          1
         ],
         "title": {
          "text": "o3"
         }
        }
       }
      }
     },
     "metadata": {},
     "output_type": "display_data"
    }
   ],
   "source": [
    "# Time Series Plot\n",
    "\n",
    "feature_to_viz = 'o3'\n",
    "\n",
    "# you can use px.bar, px.line\n",
    "fig_time_series = px.area(df, x='timestamp_local', y=feature_to_viz, title=f'Time Series of {feature_to_viz} with Rangeslider')\n",
    "fig_time_series.update_xaxes(minor=dict(ticks=\"inside\", showgrid=True))\n",
    "fig_time_series.update_xaxes(rangeslider_visible=True)\n",
    "fig_time_series.show()"
   ]
  },
  {
   "cell_type": "code",
   "execution_count": 25,
   "metadata": {},
   "outputs": [
    {
     "data": {
      "application/vnd.plotly.v1+json": {
       "config": {
        "plotlyServerURL": "https://plot.ly"
       },
       "data": [
        {
         "hovertemplate": "pm10=%{x}<br>pm25=%{y}<extra></extra>",
         "legendgroup": "",
         "marker": {
          "color": "#636efa",
          "symbol": "circle"
         },
         "mode": "markers",
         "name": "",
         "orientation": "v",
         "showlegend": false,
         "type": "scatter",
         "x": [
          16.3,
          14,
          13,
          12,
          11,
          13.3,
          15.7,
          18,
          22.7,
          27.3,
          32,
          32,
          32,
          32,
          32.7,
          33.3,
          34,
          31.3,
          28.7,
          26,
          24.7,
          23.3,
          22,
          21,
          20,
          19,
          20,
          21,
          22,
          27,
          32,
          37,
          36,
          35,
          34,
          34,
          34,
          34,
          35,
          36,
          37,
          37,
          37,
          37,
          34,
          31,
          28,
          27.7,
          27.3,
          27,
          23,
          19,
          15,
          11.7,
          8.3,
          5,
          5,
          5,
          5,
          6.7,
          8.3,
          10,
          13.7,
          17.3,
          21,
          22.3,
          23.7,
          25,
          26.7,
          28.3,
          30,
          29.3
         ],
         "xaxis": "x",
         "y": [
          11.67,
          10,
          9.33,
          8.67,
          8,
          9.33,
          10.67,
          12,
          15.33,
          18.67,
          22,
          22.33,
          22.67,
          23,
          23.33,
          23.67,
          24,
          22,
          20,
          18,
          17,
          16,
          15,
          14.33,
          13.67,
          13,
          13.67,
          14.33,
          15,
          18.33,
          21.67,
          25,
          24.67,
          24.33,
          24,
          23.67,
          23.33,
          23,
          24,
          25,
          26,
          26,
          26,
          26,
          23.67,
          21.33,
          19,
          18.67,
          18.33,
          18,
          15.67,
          13.33,
          11,
          8.33,
          5.67,
          3,
          3.33,
          3.67,
          4,
          5,
          6,
          7,
          9.33,
          11.67,
          14,
          15,
          16,
          17,
          17.33,
          17.67,
          18,
          17
         ],
         "yaxis": "y"
        }
       ],
       "layout": {
        "legend": {
         "tracegroupgap": 0
        },
        "template": {
         "data": {
          "bar": [
           {
            "error_x": {
             "color": "#2a3f5f"
            },
            "error_y": {
             "color": "#2a3f5f"
            },
            "marker": {
             "line": {
              "color": "#E5ECF6",
              "width": 0.5
             },
             "pattern": {
              "fillmode": "overlay",
              "size": 10,
              "solidity": 0.2
             }
            },
            "type": "bar"
           }
          ],
          "barpolar": [
           {
            "marker": {
             "line": {
              "color": "#E5ECF6",
              "width": 0.5
             },
             "pattern": {
              "fillmode": "overlay",
              "size": 10,
              "solidity": 0.2
             }
            },
            "type": "barpolar"
           }
          ],
          "carpet": [
           {
            "aaxis": {
             "endlinecolor": "#2a3f5f",
             "gridcolor": "white",
             "linecolor": "white",
             "minorgridcolor": "white",
             "startlinecolor": "#2a3f5f"
            },
            "baxis": {
             "endlinecolor": "#2a3f5f",
             "gridcolor": "white",
             "linecolor": "white",
             "minorgridcolor": "white",
             "startlinecolor": "#2a3f5f"
            },
            "type": "carpet"
           }
          ],
          "choropleth": [
           {
            "colorbar": {
             "outlinewidth": 0,
             "ticks": ""
            },
            "type": "choropleth"
           }
          ],
          "contour": [
           {
            "colorbar": {
             "outlinewidth": 0,
             "ticks": ""
            },
            "colorscale": [
             [
              0,
              "#0d0887"
             ],
             [
              0.1111111111111111,
              "#46039f"
             ],
             [
              0.2222222222222222,
              "#7201a8"
             ],
             [
              0.3333333333333333,
              "#9c179e"
             ],
             [
              0.4444444444444444,
              "#bd3786"
             ],
             [
              0.5555555555555556,
              "#d8576b"
             ],
             [
              0.6666666666666666,
              "#ed7953"
             ],
             [
              0.7777777777777778,
              "#fb9f3a"
             ],
             [
              0.8888888888888888,
              "#fdca26"
             ],
             [
              1,
              "#f0f921"
             ]
            ],
            "type": "contour"
           }
          ],
          "contourcarpet": [
           {
            "colorbar": {
             "outlinewidth": 0,
             "ticks": ""
            },
            "type": "contourcarpet"
           }
          ],
          "heatmap": [
           {
            "colorbar": {
             "outlinewidth": 0,
             "ticks": ""
            },
            "colorscale": [
             [
              0,
              "#0d0887"
             ],
             [
              0.1111111111111111,
              "#46039f"
             ],
             [
              0.2222222222222222,
              "#7201a8"
             ],
             [
              0.3333333333333333,
              "#9c179e"
             ],
             [
              0.4444444444444444,
              "#bd3786"
             ],
             [
              0.5555555555555556,
              "#d8576b"
             ],
             [
              0.6666666666666666,
              "#ed7953"
             ],
             [
              0.7777777777777778,
              "#fb9f3a"
             ],
             [
              0.8888888888888888,
              "#fdca26"
             ],
             [
              1,
              "#f0f921"
             ]
            ],
            "type": "heatmap"
           }
          ],
          "heatmapgl": [
           {
            "colorbar": {
             "outlinewidth": 0,
             "ticks": ""
            },
            "colorscale": [
             [
              0,
              "#0d0887"
             ],
             [
              0.1111111111111111,
              "#46039f"
             ],
             [
              0.2222222222222222,
              "#7201a8"
             ],
             [
              0.3333333333333333,
              "#9c179e"
             ],
             [
              0.4444444444444444,
              "#bd3786"
             ],
             [
              0.5555555555555556,
              "#d8576b"
             ],
             [
              0.6666666666666666,
              "#ed7953"
             ],
             [
              0.7777777777777778,
              "#fb9f3a"
             ],
             [
              0.8888888888888888,
              "#fdca26"
             ],
             [
              1,
              "#f0f921"
             ]
            ],
            "type": "heatmapgl"
           }
          ],
          "histogram": [
           {
            "marker": {
             "pattern": {
              "fillmode": "overlay",
              "size": 10,
              "solidity": 0.2
             }
            },
            "type": "histogram"
           }
          ],
          "histogram2d": [
           {
            "colorbar": {
             "outlinewidth": 0,
             "ticks": ""
            },
            "colorscale": [
             [
              0,
              "#0d0887"
             ],
             [
              0.1111111111111111,
              "#46039f"
             ],
             [
              0.2222222222222222,
              "#7201a8"
             ],
             [
              0.3333333333333333,
              "#9c179e"
             ],
             [
              0.4444444444444444,
              "#bd3786"
             ],
             [
              0.5555555555555556,
              "#d8576b"
             ],
             [
              0.6666666666666666,
              "#ed7953"
             ],
             [
              0.7777777777777778,
              "#fb9f3a"
             ],
             [
              0.8888888888888888,
              "#fdca26"
             ],
             [
              1,
              "#f0f921"
             ]
            ],
            "type": "histogram2d"
           }
          ],
          "histogram2dcontour": [
           {
            "colorbar": {
             "outlinewidth": 0,
             "ticks": ""
            },
            "colorscale": [
             [
              0,
              "#0d0887"
             ],
             [
              0.1111111111111111,
              "#46039f"
             ],
             [
              0.2222222222222222,
              "#7201a8"
             ],
             [
              0.3333333333333333,
              "#9c179e"
             ],
             [
              0.4444444444444444,
              "#bd3786"
             ],
             [
              0.5555555555555556,
              "#d8576b"
             ],
             [
              0.6666666666666666,
              "#ed7953"
             ],
             [
              0.7777777777777778,
              "#fb9f3a"
             ],
             [
              0.8888888888888888,
              "#fdca26"
             ],
             [
              1,
              "#f0f921"
             ]
            ],
            "type": "histogram2dcontour"
           }
          ],
          "mesh3d": [
           {
            "colorbar": {
             "outlinewidth": 0,
             "ticks": ""
            },
            "type": "mesh3d"
           }
          ],
          "parcoords": [
           {
            "line": {
             "colorbar": {
              "outlinewidth": 0,
              "ticks": ""
             }
            },
            "type": "parcoords"
           }
          ],
          "pie": [
           {
            "automargin": true,
            "type": "pie"
           }
          ],
          "scatter": [
           {
            "fillpattern": {
             "fillmode": "overlay",
             "size": 10,
             "solidity": 0.2
            },
            "type": "scatter"
           }
          ],
          "scatter3d": [
           {
            "line": {
             "colorbar": {
              "outlinewidth": 0,
              "ticks": ""
             }
            },
            "marker": {
             "colorbar": {
              "outlinewidth": 0,
              "ticks": ""
             }
            },
            "type": "scatter3d"
           }
          ],
          "scattercarpet": [
           {
            "marker": {
             "colorbar": {
              "outlinewidth": 0,
              "ticks": ""
             }
            },
            "type": "scattercarpet"
           }
          ],
          "scattergeo": [
           {
            "marker": {
             "colorbar": {
              "outlinewidth": 0,
              "ticks": ""
             }
            },
            "type": "scattergeo"
           }
          ],
          "scattergl": [
           {
            "marker": {
             "colorbar": {
              "outlinewidth": 0,
              "ticks": ""
             }
            },
            "type": "scattergl"
           }
          ],
          "scattermapbox": [
           {
            "marker": {
             "colorbar": {
              "outlinewidth": 0,
              "ticks": ""
             }
            },
            "type": "scattermapbox"
           }
          ],
          "scatterpolar": [
           {
            "marker": {
             "colorbar": {
              "outlinewidth": 0,
              "ticks": ""
             }
            },
            "type": "scatterpolar"
           }
          ],
          "scatterpolargl": [
           {
            "marker": {
             "colorbar": {
              "outlinewidth": 0,
              "ticks": ""
             }
            },
            "type": "scatterpolargl"
           }
          ],
          "scatterternary": [
           {
            "marker": {
             "colorbar": {
              "outlinewidth": 0,
              "ticks": ""
             }
            },
            "type": "scatterternary"
           }
          ],
          "surface": [
           {
            "colorbar": {
             "outlinewidth": 0,
             "ticks": ""
            },
            "colorscale": [
             [
              0,
              "#0d0887"
             ],
             [
              0.1111111111111111,
              "#46039f"
             ],
             [
              0.2222222222222222,
              "#7201a8"
             ],
             [
              0.3333333333333333,
              "#9c179e"
             ],
             [
              0.4444444444444444,
              "#bd3786"
             ],
             [
              0.5555555555555556,
              "#d8576b"
             ],
             [
              0.6666666666666666,
              "#ed7953"
             ],
             [
              0.7777777777777778,
              "#fb9f3a"
             ],
             [
              0.8888888888888888,
              "#fdca26"
             ],
             [
              1,
              "#f0f921"
             ]
            ],
            "type": "surface"
           }
          ],
          "table": [
           {
            "cells": {
             "fill": {
              "color": "#EBF0F8"
             },
             "line": {
              "color": "white"
             }
            },
            "header": {
             "fill": {
              "color": "#C8D4E3"
             },
             "line": {
              "color": "white"
             }
            },
            "type": "table"
           }
          ]
         },
         "layout": {
          "annotationdefaults": {
           "arrowcolor": "#2a3f5f",
           "arrowhead": 0,
           "arrowwidth": 1
          },
          "autotypenumbers": "strict",
          "coloraxis": {
           "colorbar": {
            "outlinewidth": 0,
            "ticks": ""
           }
          },
          "colorscale": {
           "diverging": [
            [
             0,
             "#8e0152"
            ],
            [
             0.1,
             "#c51b7d"
            ],
            [
             0.2,
             "#de77ae"
            ],
            [
             0.3,
             "#f1b6da"
            ],
            [
             0.4,
             "#fde0ef"
            ],
            [
             0.5,
             "#f7f7f7"
            ],
            [
             0.6,
             "#e6f5d0"
            ],
            [
             0.7,
             "#b8e186"
            ],
            [
             0.8,
             "#7fbc41"
            ],
            [
             0.9,
             "#4d9221"
            ],
            [
             1,
             "#276419"
            ]
           ],
           "sequential": [
            [
             0,
             "#0d0887"
            ],
            [
             0.1111111111111111,
             "#46039f"
            ],
            [
             0.2222222222222222,
             "#7201a8"
            ],
            [
             0.3333333333333333,
             "#9c179e"
            ],
            [
             0.4444444444444444,
             "#bd3786"
            ],
            [
             0.5555555555555556,
             "#d8576b"
            ],
            [
             0.6666666666666666,
             "#ed7953"
            ],
            [
             0.7777777777777778,
             "#fb9f3a"
            ],
            [
             0.8888888888888888,
             "#fdca26"
            ],
            [
             1,
             "#f0f921"
            ]
           ],
           "sequentialminus": [
            [
             0,
             "#0d0887"
            ],
            [
             0.1111111111111111,
             "#46039f"
            ],
            [
             0.2222222222222222,
             "#7201a8"
            ],
            [
             0.3333333333333333,
             "#9c179e"
            ],
            [
             0.4444444444444444,
             "#bd3786"
            ],
            [
             0.5555555555555556,
             "#d8576b"
            ],
            [
             0.6666666666666666,
             "#ed7953"
            ],
            [
             0.7777777777777778,
             "#fb9f3a"
            ],
            [
             0.8888888888888888,
             "#fdca26"
            ],
            [
             1,
             "#f0f921"
            ]
           ]
          },
          "colorway": [
           "#636efa",
           "#EF553B",
           "#00cc96",
           "#ab63fa",
           "#FFA15A",
           "#19d3f3",
           "#FF6692",
           "#B6E880",
           "#FF97FF",
           "#FECB52"
          ],
          "font": {
           "color": "#2a3f5f"
          },
          "geo": {
           "bgcolor": "white",
           "lakecolor": "white",
           "landcolor": "#E5ECF6",
           "showlakes": true,
           "showland": true,
           "subunitcolor": "white"
          },
          "hoverlabel": {
           "align": "left"
          },
          "hovermode": "closest",
          "mapbox": {
           "style": "light"
          },
          "paper_bgcolor": "white",
          "plot_bgcolor": "#E5ECF6",
          "polar": {
           "angularaxis": {
            "gridcolor": "white",
            "linecolor": "white",
            "ticks": ""
           },
           "bgcolor": "#E5ECF6",
           "radialaxis": {
            "gridcolor": "white",
            "linecolor": "white",
            "ticks": ""
           }
          },
          "scene": {
           "xaxis": {
            "backgroundcolor": "#E5ECF6",
            "gridcolor": "white",
            "gridwidth": 2,
            "linecolor": "white",
            "showbackground": true,
            "ticks": "",
            "zerolinecolor": "white"
           },
           "yaxis": {
            "backgroundcolor": "#E5ECF6",
            "gridcolor": "white",
            "gridwidth": 2,
            "linecolor": "white",
            "showbackground": true,
            "ticks": "",
            "zerolinecolor": "white"
           },
           "zaxis": {
            "backgroundcolor": "#E5ECF6",
            "gridcolor": "white",
            "gridwidth": 2,
            "linecolor": "white",
            "showbackground": true,
            "ticks": "",
            "zerolinecolor": "white"
           }
          },
          "shapedefaults": {
           "line": {
            "color": "#2a3f5f"
           }
          },
          "ternary": {
           "aaxis": {
            "gridcolor": "white",
            "linecolor": "white",
            "ticks": ""
           },
           "baxis": {
            "gridcolor": "white",
            "linecolor": "white",
            "ticks": ""
           },
           "bgcolor": "#E5ECF6",
           "caxis": {
            "gridcolor": "white",
            "linecolor": "white",
            "ticks": ""
           }
          },
          "title": {
           "x": 0.05
          },
          "xaxis": {
           "automargin": true,
           "gridcolor": "white",
           "linecolor": "white",
           "ticks": "",
           "title": {
            "standoff": 15
           },
           "zerolinecolor": "white",
           "zerolinewidth": 2
          },
          "yaxis": {
           "automargin": true,
           "gridcolor": "white",
           "linecolor": "white",
           "ticks": "",
           "title": {
            "standoff": 15
           },
           "zerolinecolor": "white",
           "zerolinewidth": 2
          }
         }
        },
        "title": {
         "text": "Scatter Plot with Regression Line"
        },
        "xaxis": {
         "anchor": "y",
         "domain": [
          0,
          1
         ],
         "title": {
          "text": "pm10"
         }
        },
        "yaxis": {
         "anchor": "x",
         "domain": [
          0,
          1
         ],
         "title": {
          "text": "pm25"
         }
        }
       }
      }
     },
     "metadata": {},
     "output_type": "display_data"
    }
   ],
   "source": [
    "#Scatter Plot with Regression Line\n",
    "\n",
    "fig_scatter = px.scatter(df, x='pm10', y='pm25', title='Scatter Plot with Regression Line'\n",
    "                         #,trendline='ols'\n",
    "                         )\n",
    "fig_scatter.show()"
   ]
  },
  {
   "cell_type": "code",
   "execution_count": 9,
   "metadata": {},
   "outputs": [
    {
     "data": {
      "application/vnd.plotly.v1+json": {
       "config": {
        "plotlyServerURL": "https://plot.ly"
       },
       "data": [
        {
         "autobinx": false,
         "histnorm": "probability density",
         "legendgroup": "aqi",
         "marker": {
          "color": "rgb(31, 119, 180)"
         },
         "name": "aqi",
         "opacity": 0.7,
         "type": "histogram",
         "visible": true,
         "x": [
          84,
          98,
          95,
          92,
          90,
          82,
          73,
          65,
          57,
          64,
          72,
          72,
          73,
          74,
          74,
          75,
          76,
          72,
          67,
          63,
          61,
          59,
          56,
          55,
          54,
          55,
          55,
          56,
          56,
          64,
          71,
          78,
          77,
          77,
          76,
          75,
          74,
          74,
          76,
          78,
          80,
          80,
          80,
          80,
          75,
          70,
          65,
          64,
          64,
          63,
          58,
          53,
          46,
          37,
          29,
          22,
          18,
          15,
          17,
          21,
          25,
          29,
          39,
          49,
          54,
          56,
          59,
          61,
          62,
          62,
          63,
          61
         ],
         "xaxis": "x",
         "xbins": {
          "end": 98,
          "size": 1,
          "start": 15
         },
         "yaxis": "y"
        },
        {
         "legendgroup": "aqi",
         "marker": {
          "color": "rgb(31, 119, 180)"
         },
         "mode": "lines",
         "name": "aqi",
         "showlegend": false,
         "type": "scatter",
         "visible": true,
         "x": [
          15,
          15.166,
          15.332,
          15.498,
          15.664,
          15.83,
          15.996,
          16.162,
          16.328,
          16.494,
          16.66,
          16.826,
          16.992,
          17.158,
          17.323999999999998,
          17.490000000000002,
          17.656,
          17.822,
          17.988,
          18.154,
          18.32,
          18.486,
          18.652,
          18.818,
          18.984,
          19.15,
          19.316,
          19.482,
          19.648,
          19.814,
          19.98,
          20.146,
          20.312,
          20.478,
          20.644,
          20.81,
          20.976,
          21.142,
          21.308,
          21.474,
          21.64,
          21.806,
          21.972,
          22.137999999999998,
          22.304000000000002,
          22.47,
          22.636,
          22.802,
          22.968,
          23.134,
          23.3,
          23.466,
          23.631999999999998,
          23.798000000000002,
          23.964,
          24.130000000000003,
          24.296,
          24.462,
          24.628,
          24.794,
          24.96,
          25.125999999999998,
          25.292,
          25.458,
          25.624000000000002,
          25.79,
          25.956,
          26.122,
          26.288,
          26.454,
          26.619999999999997,
          26.786,
          26.951999999999998,
          27.118000000000002,
          27.284,
          27.45,
          27.616,
          27.782,
          27.948,
          28.114,
          28.28,
          28.445999999999998,
          28.612000000000002,
          28.778,
          28.944000000000003,
          29.11,
          29.276,
          29.442,
          29.608,
          29.774,
          29.939999999999998,
          30.106,
          30.272,
          30.438000000000002,
          30.604,
          30.77,
          30.936,
          31.102,
          31.268,
          31.434,
          31.6,
          31.766,
          31.932,
          32.098,
          32.263999999999996,
          32.43,
          32.596000000000004,
          32.762,
          32.928,
          33.094,
          33.260000000000005,
          33.426,
          33.592,
          33.757999999999996,
          33.924,
          34.09,
          34.256,
          34.422,
          34.588,
          34.754000000000005,
          34.92,
          35.086,
          35.251999999999995,
          35.418,
          35.584,
          35.75,
          35.916,
          36.082,
          36.248000000000005,
          36.414,
          36.58,
          36.745999999999995,
          36.912,
          37.078,
          37.244,
          37.41,
          37.576,
          37.742000000000004,
          37.908,
          38.074,
          38.239999999999995,
          38.406,
          38.572,
          38.738,
          38.903999999999996,
          39.07,
          39.236000000000004,
          39.402,
          39.568,
          39.734,
          39.9,
          40.066,
          40.232,
          40.397999999999996,
          40.564,
          40.730000000000004,
          40.896,
          41.062,
          41.228,
          41.394,
          41.56,
          41.726,
          41.891999999999996,
          42.058,
          42.224000000000004,
          42.39,
          42.556,
          42.722,
          42.888000000000005,
          43.054,
          43.22,
          43.385999999999996,
          43.552,
          43.718,
          43.884,
          44.05,
          44.216,
          44.382000000000005,
          44.548,
          44.714,
          44.879999999999995,
          45.046,
          45.212,
          45.378,
          45.544,
          45.71,
          45.876000000000005,
          46.042,
          46.208,
          46.373999999999995,
          46.54,
          46.706,
          46.872,
          47.038,
          47.204,
          47.37,
          47.536,
          47.702,
          47.868,
          48.034,
          48.2,
          48.366,
          48.532,
          48.698,
          48.864,
          49.03,
          49.196,
          49.362,
          49.528,
          49.694,
          49.86,
          50.026,
          50.192,
          50.358,
          50.524,
          50.69,
          50.856,
          51.022,
          51.188,
          51.354,
          51.52,
          51.686,
          51.852,
          52.018,
          52.184,
          52.35,
          52.516,
          52.682,
          52.848,
          53.014,
          53.18,
          53.346,
          53.512,
          53.678,
          53.844,
          54.01,
          54.176,
          54.342,
          54.508,
          54.674,
          54.84,
          55.006,
          55.172,
          55.338,
          55.504,
          55.67,
          55.836,
          56.002,
          56.168,
          56.334,
          56.5,
          56.666,
          56.832,
          56.998,
          57.164,
          57.33,
          57.496,
          57.662,
          57.828,
          57.994,
          58.16,
          58.326,
          58.492,
          58.658,
          58.824,
          58.99,
          59.156,
          59.322,
          59.488,
          59.654,
          59.82,
          59.986,
          60.152,
          60.318,
          60.484,
          60.65,
          60.816,
          60.982,
          61.148,
          61.314,
          61.48,
          61.646,
          61.812,
          61.978,
          62.144,
          62.31,
          62.476,
          62.642,
          62.808,
          62.974,
          63.14,
          63.306,
          63.472,
          63.638,
          63.804,
          63.97,
          64.136,
          64.30199999999999,
          64.468,
          64.634,
          64.8,
          64.96600000000001,
          65.132,
          65.298,
          65.464,
          65.63,
          65.79599999999999,
          65.962,
          66.128,
          66.294,
          66.46000000000001,
          66.626,
          66.792,
          66.958,
          67.124,
          67.28999999999999,
          67.456,
          67.622,
          67.788,
          67.95400000000001,
          68.12,
          68.286,
          68.452,
          68.618,
          68.78399999999999,
          68.95,
          69.116,
          69.282,
          69.44800000000001,
          69.614,
          69.78,
          69.946,
          70.112,
          70.27799999999999,
          70.444,
          70.61,
          70.77600000000001,
          70.94200000000001,
          71.108,
          71.274,
          71.44,
          71.606,
          71.77199999999999,
          71.938,
          72.104,
          72.27000000000001,
          72.436,
          72.602,
          72.768,
          72.934,
          73.1,
          73.26599999999999,
          73.432,
          73.598,
          73.76400000000001,
          73.93,
          74.096,
          74.262,
          74.428,
          74.594,
          74.75999999999999,
          74.926,
          75.092,
          75.25800000000001,
          75.424,
          75.59,
          75.756,
          75.922,
          76.088,
          76.25399999999999,
          76.42,
          76.586,
          76.75200000000001,
          76.918,
          77.084,
          77.25,
          77.416,
          77.582,
          77.74799999999999,
          77.914,
          78.08,
          78.24600000000001,
          78.412,
          78.578,
          78.744,
          78.91,
          79.076,
          79.242,
          79.408,
          79.574,
          79.74,
          79.906,
          80.072,
          80.238,
          80.404,
          80.57,
          80.736,
          80.902,
          81.068,
          81.234,
          81.4,
          81.566,
          81.732,
          81.898,
          82.064,
          82.23,
          82.396,
          82.562,
          82.728,
          82.894,
          83.06,
          83.226,
          83.392,
          83.558,
          83.724,
          83.89,
          84.056,
          84.222,
          84.388,
          84.554,
          84.72,
          84.886,
          85.052,
          85.218,
          85.384,
          85.55,
          85.716,
          85.882,
          86.048,
          86.214,
          86.38,
          86.546,
          86.712,
          86.878,
          87.044,
          87.21,
          87.376,
          87.542,
          87.708,
          87.874,
          88.04,
          88.206,
          88.372,
          88.538,
          88.704,
          88.87,
          89.036,
          89.202,
          89.368,
          89.534,
          89.7,
          89.866,
          90.032,
          90.198,
          90.364,
          90.53,
          90.696,
          90.862,
          91.028,
          91.194,
          91.36,
          91.526,
          91.692,
          91.858,
          92.024,
          92.19,
          92.356,
          92.522,
          92.688,
          92.854,
          93.02,
          93.186,
          93.352,
          93.518,
          93.684,
          93.85,
          94.016,
          94.182,
          94.348,
          94.514,
          94.68,
          94.846,
          95.012,
          95.178,
          95.344,
          95.51,
          95.676,
          95.842,
          96.008,
          96.174,
          96.34,
          96.506,
          96.672,
          96.838,
          97.004,
          97.17,
          97.336,
          97.502,
          97.668,
          97.834
         ],
         "xaxis": "x",
         "y": [
          0.0036550180713328085,
          0.003701010854456287,
          0.003746429589499987,
          0.003791245298244974,
          0.003835429512325143,
          0.003878954313179752,
          0.00392179237113142,
          0.003963916983511167,
          0.004005302111754813,
          0.004045922417398004,
          0.004085753296900221,
          0.004124770915231573,
          0.004162952238159607,
          0.004200275063177057,
          0.004236718049015323,
          0.0042722607436924045,
          0.004306883611048059,
          0.004340568055723271,
          0.004373296446545225,
          0.004405052138283506,
          0.004435819491747527,
          0.004465583892199791,
          0.004494331766063929,
          0.004522050595911132,
          0.004548728933713016,
          0.004574356412353442,
          0.004598923755396393,
          0.0046224227851113355,
          0.004644846428761931,
          0.004666188723168249,
          0.004686444817556922,
          0.004705610974717713,
          0.0047236845704891495,
          0.004740664091599674,
          0.004756549131894652,
          0.004771340386983199,
          0.004785039647342363,
          0.0047976497899195145,
          0.004809174768277124,
          0.004819619601327017,
          0.004828990360704289,
          0.004837294156833594,
          0.004844539123743177,
          0.0048507344026843735,
          0.004855890124616434,
          0.004860017391618558,
          0.004863128257292809,
          0.00486523570622322,
          0.004866353632557812,
          0.00486649681778143,
          0.004865680907748455,
          0.004863922389045205,
          0.0048612385647525585,
          0.004857647529679796,
          0.0048531681451409615,
          0.004847820013345166,
          0.004841623451472174,
          0.004834599465504431,
          0.004826769723886173,
          0.004818156531079806,
          0.004808782801088917,
          0.004798672031016387,
          0.004787848274725017,
          0.004776336116666863,
          0.004764160645946071,
          0.004751347430678534,
          0.0047379224927099825,
          0.004723912282752321,
          0.004709343655996137,
          0.004694243848255131,
          0.0046786404526961475,
          0.004662561397206014,
          0.004646034922444118,
          0.004629089560626896,
          0.004611754115087899,
          0.004594057640654209,
          0.004576029424877118,
          0.004557698970151994,
          0.004539095976759164,
          0.0045202503268543985,
          0.004501192069434405,
          0.004481951406299273,
          0.004462558679030445,
          0.004443044356999192,
          0.004423439026417045,
          0.004403773380435937,
          0.00438407821030205,
          0.004364384397563709,
          0.004344722907329675,
          0.004325124782570408,
          0.004305621139451032,
          0.004286243163680598,
          0.0042670221078585195,
          0.004247989289794902,
          0.004229176091777632,
          0.00421061396075506,
          0.004192334409399185,
          0.004174369018010311,
          0.004156749437220235,
          0.004139507391447235,
          0.004122674683052235,
          0.004106283197141901,
          0.00409036490696071,
          0.004074951879810488,
          0.00406007628343255,
          0.004045770392784067,
          0.004032066597137315,
          0.004018997407427238,
          0.004006595463769902,
          0.003994893543071824,
          0.00398392456664739,
          0.003973721607759479,
          0.003964317898996174,
          0.003955746839394532,
          0.003948042001220833,
          0.003941237136315234,
          0.003935366181907701,
          0.003930463265811191,
          0.003926562710897542,
          0.00392369903876126,
          0.0039219069724764155,
          0.003921221438352327,
          0.003921677566594327,
          0.003923310690777049,
          0.003926156346038997,
          0.003930250265908964,
          0.003935628377677,
          0.003942326796225,
          0.003950381816234968,
          0.00395982990269612,
          0.003970707679635597,
          0.0039830519170014934,
          0.003996899515631239,
          0.004012287490242968,
          0.004029252950392641,
          0.004047833079344898,
          0.004068065110811459,
          0.004089986303516847,
          0.004113633913557574,
          0.004139045164527556,
          0.00416625721538949,
          0.004195307126079173,
          0.004226231820837075,
          0.004259068049269364,
          0.004293852345148329,
          0.004330620982970408,
          0.004369409932298146,
          0.0044102548099210544,
          0.004453190829878659,
          0.0044982527513978505,
          0.004545474824805296,
          0.004594890735484419,
          0.004646533545955221,
          0.004700435636164004,
          0.0047566286420786955,
          0.004815143392694108,
          0.004876009845559984,
          0.004939257020953034,
          0.00500491293482224,
          0.00507300453064492,
          0.005143557610338483,
          0.005216596764380446,
          0.005292145301296412,
          0.005370225176682483,
          0.005450856921935009,
          0.005534059572866755,
          0.005619850598394069,
          0.005708245829484882,
          0.00579925938856203,
          0.0058929036195606785,
          0.005989189018842169,
          0.006088124167169854,
          0.006189715662954926,
          0.006293968056982207,
          0.006400883788827376,
          0.0065104631251775335,
          0.006622704100267337,
          0.006737602458642141,
          0.0068551516004586015,
          0.00697534252953092,
          0.007098163804328666,
          0.007223601492128574,
          0.007351639126518811,
          0.007482257668449679,
          0.007615435471019247,
          0.007751148248176342,
          0.007889369047516826,
          0.008030068227341647,
          0.008173213438137221,
          0.008318769608629881,
          0.0084666989365572,
          0.008616960884288979,
          0.00876951217942025,
          0.008924306820447847,
          0.009081296087630428,
          0.009240428559119917,
          0.009401650132439945,
          0.00956490405137386,
          0.009730130938311566,
          0.009897268832090802,
          0.01006625323135457,
          0.010237017143431783,
          0.010409491138733984,
          0.01058360341064585,
          0.010759279840872485,
          0.010936444070191243,
          0.011115017574540484,
          0.011294919746362661,
          0.011476067981103618,
          0.011658377768754757,
          0.011841762790309797,
          0.012026135018992372,
          0.01221140482609622,
          0.01239748109126485,
          0.012584271317023414,
          0.012771681747360836,
          0.012959617490147395,
          0.013147982643158643,
          0.013336680423464626,
          0.01352561329992973,
          0.013714683128557937,
          0.013903791290405556,
          0.01409283883177395,
          0.014281726606383617,
          0.014470355419222206,
          0.014658626171750254,
          0.014846440008139748,
          0.015033698462214577,
          0.015220303604754211,
          0.015406158190817395,
          0.01559116580673723,
          0.01577523101643563,
          0.01595825950670166,
          0.016140158231077006,
          0.01632083555198976,
          0.016500201380778658,
          0.016678167315249813,
          0.016854646774410422,
          0.017029555130026696,
          0.017202809834656666,
          0.01737433054581405,
          0.017544039245924518,
          0.017711860357743154,
          0.017877720854909313,
          0.01804155036732412,
          0.01820328128104578,
          0.018362848832408463,
          0.018520191196082447,
          0.01867524956680598,
          0.018827968234532692,
          0.018978294652753264,
          0.019126179499765177,
          0.019271576732680908,
          0.019414443633981527,
          0.01955474085044139,
          0.01969243242426686,
          0.019827485816312905,
          0.01995987192125982,
          0.020089565074653978,
          0.020216543051737253,
          0.020340787058011237,
          0.020462281711504847,
          0.020581015016736065,
          0.02069697833038185,
          0.02081016631869288,
          0.02092057690671374,
          0.021028211219392173,
          0.021133073514685075,
          0.02123517110879222,
          0.021334514293672804,
          0.021431116247022545,
          0.021524992934913705,
          0.021616163007321842,
          0.02170464768678726,
          0.021790470650480637,
          0.021873657905964145,
          0.021954237660961096,
          0.022032240187467144,
          0.022107697680556558,
          0.02218064411225572,
          0.022251115080874392,
          0.022319147656203,
          0.022384780220999496,
          0.022448052309205914,
          0.02250900444134742,
          0.022567677957580586,
          0.022624114848868837,
          0.0226783575867728,
          0.02273044895235308,
          0.02278043186468969,
          0.0228283492095283,
          0.022874243668568592,
          0.022918157549911847,
          0.022960132620186726,
          0.023000209938871786,
          0.02303842969533089,
          0.023074831049074075,
          0.023109451973751027,
          0.023142329105377044,
          0.02317349759528253,
          0.023202990968266713,
          0.023230840986423543,
          0.023257077519094397,
          0.023281728419386413,
          0.02330481940767783,
          0.02332637396251355,
          0.023346413219273356,
          0.023364955876974083,
          0.023382018113542884,
          0.023397613509875573,
          0.023411752982966934,
          0.023424444728373867,
          0.02343569417224354,
          0.023445503933109676,
          0.023453873793630363,
          0.02346080068240905,
          0.023466278666009727,
          0.023470298951243702,
          0.023472849897774033,
          0.023473917041048637,
          0.023473483125541445,
          0.023471528148245255,
          0.02346802941232788,
          0.023462961590828304,
          0.023456296800236403,
          0.0234480046837667,
          0.02343805250410336,
          0.023426405245362245,
          0.02341302572398321,
          0.02339787470823609,
          0.02338091104599343,
          0.023362091800394485,
          0.02334137239299736,
          0.023318706753989935,
          0.02329404747900512,
          0.023267345992062396,
          0.023238552714136135,
          0.023207617236830357,
          0.02317448850062159,
          0.023139114977114034,
          0.02310144485473748,
          0.0230614262273044,
          0.02301900728483244,
          0.02297413650602985,
          0.022926762851833534,
          0.02287683595938621,
          0.022824306335835643,
          0.022769125551338736,
          0.022711246430655314,
          0.02265062324272018,
          0.022587211887587985,
          0.022520970080153677,
          0.0224518575300619,
          0.022379836117230427,
          0.02230487006242733,
          0.02222692609235774,
          0.022145973598734416,
          0.022061984790825936,
          0.021974934840997818,
          0.021884802022785952,
          0.02179156784106557,
          0.021695217153906217,
          0.02159573828573018,
          0.021493123131420995,
          0.021387367251058997,
          0.02127846995499145,
          0.021166434378977153,
          0.02105126754917797,
          0.02093298043680335,
          0.02081158800224768,
          0.02068710922859477,
          0.02055956714439838,
          0.020428988835682158,
          0.0202954054471381,
          0.020158852172535487,
          0.020019368234388928,
          0.01987699685296622,
          0.019731785204751415,
          0.019583784370510993,
          0.019433049273143307,
          0.019279638605523012,
          0.019123614748582235,
          0.01896504367989996,
          0.018803994873099122,
          0.018640541188377973,
          0.01847475875452777,
          0.018306726842813405,
          0.01813652773311574,
          0.017964246572756342,
          0.017789971228444328,
          0.01761379213180308,
          0.017435802118950978,
          0.017256096264624605,
          0.017074771711345256,
          0.016891927494141184,
          0.016707664361346037,
          0.016522084592002,
          0.016335291810401047,
          0.01614739079830108,
          0.015958487305355967,
          0.015768687858297745,
          0.015578099569407573,
          0.015386829944808646,
          0.015194986693108219,
          0.015002677534909553,
          0.01481001001370542,
          0.014617091308654769,
          0.014424028049732165,
          0.01423092613572691,
          0.014037890555553384,
          0.013845025213319203,
          0.013652432757579581,
          0.01346021441518902,
          0.013268469830141565,
          0.013077296907770613,
          0.012886791664658007,
          0.01269704808458044,
          0.012508157980797992,
          0.012320210864966668,
          0.012133293822932609,
          0.01194749139764146,
          0.011762885479371677,
          0.011579555203475794,
          0.011397576855787909,
          0.011217023785831452,
          0.011037966327935163,
          0.010860471730340838,
          0.010684604092361107,
          0.010510424309620963,
          0.010337990027392382,
          0.010167355602007893,
          0.009998572070314888,
          0.009831687127110359,
          0.009666745110472805,
          0.009503786994887273,
          0.009342850392038192,
          0.00918396955912488,
          0.009027175414535541,
          0.0088724955606972,
          0.008719954313902024,
          0.008569572740893764,
          0.008421368701983272,
          0.008275356900447249,
          0.008131548937951816,
          0.007989953375729856,
          0.007850575801230504,
          0.007713418899949094,
          0.0075784825321370125,
          0.007445763814083792,
          0.007315257203656628,
          0.007186954589777722,
          0.007060845385515106,
          0.0069369166244598835,
          0.006815153060060621,
          0.006695537267584375,
          0.006578049748374323,
          0.006462669036074778,
          0.006349371804496479,
          0.006238132976798176,
          0.0061289258356643905,
          0.006021722134164078,
          0.005916492206980833,
          0.005813205081711576,
          0.005711828589938,
          0.005612329477783371,
          0.005514673515675542,
          0.005418825607046833,
          0.005324749895711176,
          0.005232409871669464,
          0.005141768475105013,
          0.005052788198342746,
          0.0049654311855571375,
          0.004879659330026657,
          0.004795434368744562,
          0.004712717974208918,
          0.0046314718432276195,
          0.004551657782587296,
          0.0044732377914483,
          0.004396174140341236,
          0.004320429446653907,
          0.004245966746510794,
          0.0041727495629604785,
          0.004100741970399543,
          0.004029908655174584,
          0.003960214972316648,
          0.003891626998375082,
          0.003824111580330183,
          0.003757636380575964,
          0.0036921699179762422,
          0.003627681605008577,
          0.003564141781021562,
          0.003501521741641694,
          0.003439793764376247,
          0.003378931130468195,
          0.003318908143068731,
          0.0032597001418015695,
          0.0032012835138017096,
          0.0031436357013189357,
          0.0030867352059839774,
          0.003030561589841701
         ],
         "yaxis": "y"
        },
        {
         "autobinx": false,
         "histnorm": "probability density",
         "legendgroup": "co",
         "marker": {
          "color": "rgb(31, 119, 180)"
         },
         "name": "co",
         "opacity": 0.7,
         "type": "histogram",
         "visible": false,
         "x": [
          70.4,
          70,
          69.8,
          69.6,
          69.4,
          71.6,
          73.7,
          75.9,
          85.8,
          95.7,
          105.6,
          105.8,
          106,
          106.2,
          106.2,
          106.2,
          106.2,
          98,
          89.9,
          81.7,
          76.1,
          70.4,
          64.8,
          62.8,
          60.9,
          58.9,
          59.5,
          60.1,
          60.7,
          64.6,
          68.5,
          72.4,
          79.4,
          86.4,
          93.4,
          92,
          90.7,
          89.3,
          88.3,
          87.3,
          86.4,
          85.8,
          85.2,
          84.6,
          76.8,
          69.1,
          61.3,
          59.7,
          58.2,
          56.6,
          56.6,
          56.6,
          56.6,
          57.6,
          58.6,
          59.5,
          60.7,
          61.9,
          63,
          63.8,
          64.6,
          65.4,
          67.9,
          70.4,
          73,
          72.2,
          71.4,
          70.6,
          67.7,
          64.8,
          61.9,
          58.7
         ],
         "xaxis": "x",
         "xbins": {
          "end": 106.2,
          "size": 1,
          "start": 56.6
         },
         "yaxis": "y"
        },
        {
         "legendgroup": "co",
         "marker": {
          "color": "rgb(31, 119, 180)"
         },
         "mode": "lines",
         "name": "co",
         "showlegend": false,
         "type": "scatter",
         "visible": false,
         "x": [
          56.6,
          56.699200000000005,
          56.7984,
          56.897600000000004,
          56.9968,
          57.096000000000004,
          57.1952,
          57.2944,
          57.3936,
          57.4928,
          57.592,
          57.6912,
          57.7904,
          57.8896,
          57.988800000000005,
          58.088,
          58.187200000000004,
          58.2864,
          58.385600000000004,
          58.4848,
          58.584,
          58.6832,
          58.7824,
          58.8816,
          58.9808,
          59.08,
          59.1792,
          59.278400000000005,
          59.3776,
          59.476800000000004,
          59.576,
          59.675200000000004,
          59.7744,
          59.8736,
          59.9728,
          60.072,
          60.1712,
          60.2704,
          60.3696,
          60.4688,
          60.568,
          60.6672,
          60.766400000000004,
          60.8656,
          60.964800000000004,
          61.064,
          61.1632,
          61.2624,
          61.3616,
          61.4608,
          61.56,
          61.6592,
          61.7584,
          61.857600000000005,
          61.9568,
          62.056000000000004,
          62.1552,
          62.254400000000004,
          62.3536,
          62.4528,
          62.552,
          62.6512,
          62.7504,
          62.8496,
          62.9488,
          63.048,
          63.1472,
          63.2464,
          63.345600000000005,
          63.4448,
          63.544000000000004,
          63.6432,
          63.7424,
          63.8416,
          63.9408,
          64.04,
          64.1392,
          64.2384,
          64.33760000000001,
          64.4368,
          64.536,
          64.6352,
          64.73440000000001,
          64.8336,
          64.9328,
          65.032,
          65.1312,
          65.2304,
          65.3296,
          65.4288,
          65.528,
          65.6272,
          65.7264,
          65.82560000000001,
          65.9248,
          66.024,
          66.1232,
          66.2224,
          66.3216,
          66.4208,
          66.52,
          66.6192,
          66.7184,
          66.8176,
          66.9168,
          67.016,
          67.1152,
          67.2144,
          67.31360000000001,
          67.4128,
          67.512,
          67.6112,
          67.7104,
          67.8096,
          67.9088,
          68.008,
          68.1072,
          68.2064,
          68.3056,
          68.40480000000001,
          68.504,
          68.6032,
          68.7024,
          68.80160000000001,
          68.9008,
          69,
          69.0992,
          69.1984,
          69.2976,
          69.3968,
          69.49600000000001,
          69.5952,
          69.6944,
          69.7936,
          69.89280000000001,
          69.992,
          70.0912,
          70.1904,
          70.28960000000001,
          70.3888,
          70.488,
          70.5872,
          70.6864,
          70.7856,
          70.8848,
          70.98400000000001,
          71.0832,
          71.1824,
          71.2816,
          71.38080000000001,
          71.48,
          71.5792,
          71.6784,
          71.7776,
          71.8768,
          71.976,
          72.0752,
          72.1744,
          72.2736,
          72.3728,
          72.47200000000001,
          72.5712,
          72.6704,
          72.7696,
          72.86880000000001,
          72.968,
          73.0672,
          73.16640000000001,
          73.2656,
          73.3648,
          73.464,
          73.5632,
          73.6624,
          73.7616,
          73.8608,
          73.96000000000001,
          74.0592,
          74.1584,
          74.2576,
          74.35679999999999,
          74.456,
          74.5552,
          74.65440000000001,
          74.7536,
          74.8528,
          74.952,
          75.0512,
          75.1504,
          75.2496,
          75.3488,
          75.44800000000001,
          75.5472,
          75.6464,
          75.7456,
          75.84479999999999,
          75.944,
          76.0432,
          76.14240000000001,
          76.2416,
          76.3408,
          76.44,
          76.5392,
          76.6384,
          76.7376,
          76.8368,
          76.936,
          77.0352,
          77.1344,
          77.2336,
          77.3328,
          77.432,
          77.5312,
          77.63040000000001,
          77.7296,
          77.8288,
          77.928,
          78.0272,
          78.1264,
          78.2256,
          78.3248,
          78.424,
          78.5232,
          78.6224,
          78.7216,
          78.8208,
          78.92,
          79.0192,
          79.11840000000001,
          79.2176,
          79.3168,
          79.416,
          79.51520000000001,
          79.6144,
          79.7136,
          79.8128,
          79.912,
          80.0112,
          80.1104,
          80.20960000000001,
          80.3088,
          80.408,
          80.5072,
          80.60640000000001,
          80.7056,
          80.8048,
          80.904,
          81.0032,
          81.1024,
          81.2016,
          81.30080000000001,
          81.4,
          81.4992,
          81.5984,
          81.69760000000001,
          81.7968,
          81.896,
          81.9952,
          82.09440000000001,
          82.1936,
          82.2928,
          82.392,
          82.4912,
          82.5904,
          82.6896,
          82.78880000000001,
          82.888,
          82.9872,
          83.0864,
          83.18560000000001,
          83.2848,
          83.384,
          83.48320000000001,
          83.5824,
          83.6816,
          83.7808,
          83.88,
          83.9792,
          84.0784,
          84.17760000000001,
          84.27680000000001,
          84.376,
          84.4752,
          84.5744,
          84.67360000000001,
          84.7728,
          84.872,
          84.97120000000001,
          85.0704,
          85.1696,
          85.2688,
          85.368,
          85.4672,
          85.5664,
          85.66560000000001,
          85.76480000000001,
          85.864,
          85.9632,
          86.0624,
          86.1616,
          86.2608,
          86.36,
          86.45920000000001,
          86.5584,
          86.6576,
          86.7568,
          86.856,
          86.9552,
          87.0544,
          87.15360000000001,
          87.25280000000001,
          87.352,
          87.4512,
          87.5504,
          87.6496,
          87.7488,
          87.848,
          87.94720000000001,
          88.0464,
          88.1456,
          88.2448,
          88.344,
          88.4432,
          88.5424,
          88.64160000000001,
          88.74080000000001,
          88.84,
          88.9392,
          89.0384,
          89.1376,
          89.2368,
          89.336,
          89.43520000000001,
          89.5344,
          89.6336,
          89.7328,
          89.832,
          89.9312,
          90.0304,
          90.12960000000001,
          90.2288,
          90.328,
          90.4272,
          90.5264,
          90.62559999999999,
          90.7248,
          90.824,
          90.92320000000001,
          91.0224,
          91.1216,
          91.2208,
          91.32,
          91.4192,
          91.5184,
          91.61760000000001,
          91.7168,
          91.816,
          91.9152,
          92.0144,
          92.11359999999999,
          92.2128,
          92.31200000000001,
          92.41120000000001,
          92.5104,
          92.6096,
          92.7088,
          92.80799999999999,
          92.9072,
          93.00640000000001,
          93.10560000000001,
          93.2048,
          93.304,
          93.4032,
          93.5024,
          93.60159999999999,
          93.7008,
          93.80000000000001,
          93.89920000000001,
          93.9984,
          94.0976,
          94.1968,
          94.29599999999999,
          94.3952,
          94.49440000000001,
          94.59360000000001,
          94.6928,
          94.792,
          94.8912,
          94.9904,
          95.08959999999999,
          95.18880000000001,
          95.28800000000001,
          95.3872,
          95.4864,
          95.5856,
          95.6848,
          95.78399999999999,
          95.88320000000002,
          95.98240000000001,
          96.08160000000001,
          96.1808,
          96.28,
          96.3792,
          96.4784,
          96.57759999999999,
          96.67680000000001,
          96.77600000000001,
          96.8752,
          96.9744,
          97.0736,
          97.1728,
          97.27199999999999,
          97.37120000000002,
          97.47040000000001,
          97.56960000000001,
          97.6688,
          97.768,
          97.8672,
          97.9664,
          98.0656,
          98.16480000000001,
          98.26400000000001,
          98.3632,
          98.4624,
          98.5616,
          98.6608,
          98.75999999999999,
          98.85920000000002,
          98.95840000000001,
          99.05760000000001,
          99.1568,
          99.256,
          99.3552,
          99.45439999999999,
          99.5536,
          99.65280000000001,
          99.75200000000001,
          99.8512,
          99.9504,
          100.0496,
          100.1488,
          100.248,
          100.34720000000002,
          100.44640000000001,
          100.54560000000001,
          100.6448,
          100.744,
          100.8432,
          100.9424,
          101.0416,
          101.14080000000001,
          101.24000000000001,
          101.3392,
          101.4384,
          101.5376,
          101.6368,
          101.736,
          101.83520000000001,
          101.93440000000001,
          102.0336,
          102.1328,
          102.232,
          102.3312,
          102.4304,
          102.5296,
          102.62880000000001,
          102.72800000000001,
          102.8272,
          102.9264,
          103.0256,
          103.12480000000001,
          103.224,
          103.32320000000001,
          103.42240000000001,
          103.5216,
          103.6208,
          103.72,
          103.81920000000001,
          103.9184,
          104.0176,
          104.11680000000001,
          104.21600000000001,
          104.3152,
          104.4144,
          104.5136,
          104.61280000000001,
          104.712,
          104.81120000000001,
          104.91040000000001,
          105.0096,
          105.1088,
          105.208,
          105.30720000000001,
          105.4064,
          105.5056,
          105.60480000000001,
          105.70400000000001,
          105.8032,
          105.9024,
          106.0016,
          106.1008
         ],
         "xaxis": "x",
         "y": [
          0.01977925479533338,
          0.01997920654978178,
          0.020178004484151954,
          0.020375591347568753,
          0.020571910539547718,
          0.02076690614901267,
          0.020960522992341437,
          0.021152706650386818,
          0.021343403504421727,
          0.021532560770960458,
          0.021720126535408255,
          0.02190604978449531,
          0.022090280437451922,
          0.02227276937588536,
          0.022453468472319677,
          0.022632330617364024,
          0.02280930974547612,
          0.022984360859290582,
          0.023157440052485278,
          0.02332850453116008,
          0.023497512633706998,
          0.023664423849151635,
          0.023829198833950887,
          0.023991799427232733,
          0.024152188664468305,
          0.024310330789568974,
          0.024466191265404152,
          0.02461973678273846,
          0.024770935267590267,
          0.024919755887016438,
          0.025066169053330888,
          0.0252101464267682,
          0.025351660916605612,
          0.0254906866807609,
          0.025627199123884913,
          0.02576117489397227,
          0.02589259187751477,
          0.026021429193226375,
          0.026147667184369977,
          0.02627128740971985,
          0.02639227263319566,
          0.026510606812206447,
          0.026626275084745615,
          0.02673926375527997,
          0.02684956027947815,
          0.026957153247826136,
          0.02706203236817892,
          0.027164188447299824,
          0.02726361337144066,
          0.027360300086017,
          0.027454242574435177,
          0.027545435836128253,
          0.027633875863859875,
          0.027719559620355935,
          0.027802485014324745,
          0.027882650875927655,
          0.027960056931762203,
          0.028034703779420897,
          0.028106592861688776,
          0.02817572644044358,
          0.028242107570321653,
          0.02830574007221377,
          0.02836662850665382,
          0.02842477814716358,
          0.028480194953616256,
          0.02853288554568047,
          0.028582857176406067,
          0.02863011770601192,
          0.028674675575934838,
          0.028716539783197728,
          0.028755719855153523,
          0.028792225824660317,
          0.028826068205741035,
          0.02885725796977989,
          0.02888580652230559,
          0.028911725680409433,
          0.0289350276508446,
          0.02895572500885052,
          0.028973830677744034,
          0.028989357909317053,
          0.029002320265077118,
          0.0290127315983662,
          0.029020606037388756,
          0.029025957969179044,
          0.029028802024533756,
          0.02902915306393401,
          0.02902702616447761,
          0.029022436607839736,
          0.029015399869277106,
          0.029005931607688315,
          0.028994047656739193,
          0.02897976401706018,
          0.028963096849518664,
          0.028944062469567232,
          0.02892267734266503,
          0.028898958080767184,
          0.028872921439873717,
          0.02884458431862695,
          0.02881396375794362,
          0.028781076941664204,
          0.028745941198200772,
          0.028708574003160535,
          0.028668992982920284,
          0.02862721591912456,
          0.028583260754077206,
          0.028537145596994426,
          0.028488888731084152,
          0.028438508621415476,
          0.028386023923538374,
          0.028331453492813425,
          0.02827481639440788,
          0.02821613191391393,
          0.02815541956854201,
          0.028092699118841696,
          0.02802799058090019,
          0.027961314238967843,
          0.02789269065845843,
          0.02782214069927135,
          0.027749685529381136,
          0.02767534663863993,
          0.027599145852737126,
          0.0275211053472599,
          0.02744124766179846,
          0.02735959571403911,
          0.02727617281378804,
          0.02719100267686946,
          0.027104109438840777,
          0.02701551766846886,
          0.026925252380911275,
          0.026833339050546832,
          0.02673980362340101,
          0.026644672529112217,
          0.026547972692385752,
          0.02644973154388399,
          0.026349977030501636,
          0.026248737624976995,
          0.026146042334791154,
          0.026041920710308714,
          0.02593640285211536,
          0.02582951941750933,
          0.025721301626105406,
          0.02561178126451248,
          0.025500990690047538,
          0.025388962833450896,
          0.025275731200569838,
          0.025161329872980254,
          0.025045793507518222,
          0.02492915733469503,
          0.024811457155973264,
          0.02469272933988239,
          0.024573010816955926,
          0.02445233907347438,
          0.024330752144001183,
          0.024208288602700814,
          0.02408498755343196,
          0.02396088861861026,
          0.02383603192683868,
          0.023710458099305727,
          0.023584208234955138,
          0.023457323894431885,
          0.02332984708281433,
          0.023201820231142832,
          0.02307328617675883,
          0.022944288142471226,
          0.022814869714568666,
          0.02268507481969974,
          0.022554947700644663,
          0.022424532891005402,
          0.022293875188843085,
          0.02216301962929355,
          0.022032011456194857,
          0.021900896092762388,
          0.021769719111349093,
          0.021638526202330886,
          0.02150736314215887,
          0.021376275760621816,
          0.021245309907364725,
          0.021114511417710112,
          0.020983926077830832,
          0.020853599589324732,
          0.020723577533242468,
          0.020593905333621525,
          0.020464628220580247,
          0.020335791193027312,
          0.02020743898104226,
          0.02007961600798471,
          0.019952366352389183,
          0.019825733709704658,
          0.019699761353937185,
          0.01957449209925507,
          0.019449968261616445,
          0.01932623162047889,
          0.019203323380650828,
          0.019081284134345223,
          0.018960153823494683,
          0.01883997170238789,
          0.018720776300686755,
          0.01860260538688227,
          0.018485495932248398,
          0.018369484075350575,
          0.018254605087165986,
          0.018140893336871727,
          0.018028382258355558,
          0.01791710431750328,
          0.017807090980315424,
          0.01769837268190497,
          0.017590978796426425,
          0.01748493760798465,
          0.01738027628257127,
          0.017277020841074405,
          0.017175196133405568,
          0.01707482581378655,
          0.016975932317237003,
          0.016878536837301224,
          0.01678265930505157,
          0.016688318369403262,
          0.016595531378773676,
          0.0165043143641171,
          0.016414682023363963,
          0.016326647707290916,
          0.016240223406846825,
          0.016155419741956785,
          0.016072245951824105,
          0.015990709886748597,
          0.01591081800147626,
          0.015832575350094174,
          0.015755985582480883,
          0.015681050942321646,
          0.015607772266694478,
          0.015536148987230845,
          0.015466179132853137,
          0.015397859334087778,
          0.015331184828951357,
          0.015266149470404214,
          0.015202745735364221,
          0.015140964735270664,
          0.015080796228186357,
          0.015022228632423718,
          0.014965249041678154,
          0.014909843241650516,
          0.014855995728137585,
          0.0148036897265681,
          0.014752907212959304,
          0.014703628936267569,
          0.014655834442103968,
          0.014609502097784721,
          0.01456460911868376,
          0.014521131595853467,
          0.014479044524877707,
          0.01443832183591958,
          0.014398936424925034,
          0.014360860185941484,
          0.014324064044509697,
          0.014288517992085425,
          0.014254191121446047,
          0.014221051663036414,
          0.014189067022206847,
          0.014158203817294938,
          0.014128427918502322,
          0.014099704487516025,
          0.01407199801782376,
          0.014045272375671266,
          0.014019490841609505,
          0.013994616152578592,
          0.013970610544475112,
          0.013947435795148865,
          0.013925053267774533,
          0.013903423954544145,
          0.013882508520625074,
          0.013862267348329044,
          0.013842660581437058,
          0.013823648169625332,
          0.013805189912937688,
          0.013787245506249539,
          0.013769774583669387,
          0.013752736762823937,
          0.01373609168897307,
          0.013719799078901983,
          0.013703818764537771,
          0.013688110736238948,
          0.013672635185706515,
          0.01365735254846658,
          0.013642223545874828,
          0.01362720922659446,
          0.013612271007499947,
          0.01359737071396005,
          0.013582470619454674,
          0.013567533484481229,
          0.013552522594707312,
          0.013537401798327976,
          0.013522135542586772,
          0.013506688909421522,
          0.013491027650196788,
          0.013475118219486704,
          0.01345892780787308,
          0.013442424373725264,
          0.013425576673929908,
          0.01340835429354,
          0.013390727674314524,
          0.013372668142121293,
          0.013354147933177478,
          0.013335140219103831,
          0.013315619130770137,
          0.013295559780911428,
          0.013274938285495861,
          0.013253731783826985,
          0.013231918457364824,
          0.013209477547251925,
          0.013186389370531914,
          0.01316263533505041,
          0.013138197953029148,
          0.013113060853306303,
          0.013087208792237378,
          0.013060627663253055,
          0.013033304505071461,
          0.013005227508564542,
          0.012976386022279374,
          0.012946770556617013,
          0.012916372786673123,
          0.012885185553745907,
          0.01285320286551851,
          0.01282041989492463,
          0.0127868329777073,
          0.012752439608682305,
          0.012717238436719179,
          0.012681229258453839,
          0.012644413010748482,
          0.012606791761915346,
          0.01256836870172239,
          0.012529148130200169,
          0.01248913544526989,
          0.01244833712921444,
          0.012406760734014682,
          0.012364414865574398,
          0.012321309166858706,
          0.012277454299971015,
          0.012232861927195074,
          0.012187544691029116,
          0.012141516193240299,
          0.012094790972967888,
          0.01204738448390493,
          0.011999313070588383,
          0.011950593943828565,
          0.01190124515530931,
          0.01185128557139075,
          0.011800734846147218,
          0.011749613393673097,
          0.011697942359690195,
          0.011645743592490116,
          0.011593039613246063,
          0.011539853585728297,
          0.01148620928545806,
          0.011432131068334997,
          0.011377643838773106,
          0.01132277301738086,
          0.011267544508220744,
          0.011211984665684026,
          0.011156120261016537,
          0.011099978448530995,
          0.011043586731542007,
          0.010986972928059363,
          0.010930165136275434,
          0.010873191699882467,
          0.01081608117325542,
          0.010758862286535822,
          0.010701563910652233,
          0.010644215022312439,
          0.010586844669002534,
          0.010529481934027937,
          0.010472155901630826,
          0.010414895622218694,
          0.010357730077738058,
          0.01030068814722754,
          0.010243798572583767,
          0.010187089924573494,
          0.010130590569125148,
          0.010074328633932527,
          0.010018331975402672,
          0.009962628145980411,
          0.009907244361880913,
          0.009852207471261407,
          0.009797543922863085,
          0.009743279735153484,
          0.009689440465999082,
          0.009636051182897886,
          0.009583136433800795,
          0.009530720218550247,
          0.009478825960964173,
          0.009427476481592695,
          0.009376693971174488,
          0.009326499964819102,
          0.009276915316941081,
          0.009227960176970867,
          0.00917965396586744,
          0.009132015353456103,
          0.00908506223661505,
          0.009038811718333081,
          0.008993280087660607,
          0.008948482800574684,
          0.008904434461779107,
          0.008861148807458643,
          0.008818638689006777,
          0.008776916057744714,
          0.008735991950649195,
          0.008695876477105197,
          0.00865657880669954,
          0.008618107158069373,
          0.008580468788820014,
          0.008543669986524215,
          0.008507716060815145,
          0.008472611336583669,
          0.008438359148289635,
          0.008404961835396131,
          0.008372420738934076,
          0.008340736199203995,
          0.008309907554620194,
          0.00827993314170174,
          0.008250810296213407,
          0.008222535355458443,
          0.008195103661723954,
          0.008168509566878432,
          0.00814274643811961,
          0.008117806664869746,
          0.008093681666813944,
          0.008070361903075933,
          0.00804783688252442,
          0.008026095175201784,
          0.008005124424865484,
          0.00798491136263122,
          0.007965441821705613,
          0.007946700753194699,
          0.007928672242973158,
          0.007911339529597928,
          0.007894685023248357,
          0.00787869032567366,
          0.007863336251127336,
          0.007848602848266396,
          0.007834469422992272,
          0.007820914562208752,
          0.007807916158471046,
          0.007795451435498604,
          0.007783496974523278,
          0.007772028741442892,
          0.00776102211474913,
          0.007750451914197484,
          0.007740292430185784,
          0.0077305174538065185,
          0.007721100307537289,
          0.007712013876532457,
          0.0077032306404780345,
          0.0076947227059709486,
          0.007686461839382764,
          0.0076784195001670195,
          0.007670566874568635,
          0.007662874909692789,
          0.0076553143478902035,
          0.007647855761414833,
          0.007640469587309509,
          0.007633126162474432,
          0.007625795758872904,
          0.007618448618828331,
          0.007611054990366121,
          0.007603585162553725,
          0.007596009500792082,
          0.007588298482011282,
          0.007580422729723479,
          0.007572353048885832,
          0.007564060460526606,
          0.007555516236087375,
          0.007546691931435005,
          0.007537559420496795,
          0.00752809092847315,
          0.007518259064582215,
          0.007508036854291687,
          0.007497397770993489,
          0.00748631576707794,
          0.00747476530436455,
          0.007462721383847679,
          0.007450159574716178,
          0.007437056042607035,
          0.007423387577054367,
          0.007409131618095983,
          0.007394266282001312,
          0.007378770386085492,
          0.007362623472575887,
          0.0073458058314989595,
          0.007328298522556394,
          0.007310083395961593,
          0.007291143112208665,
          0.007271461160748097,
          0.007251021877544815,
          0.007229810461496193,
          0.0072078129896892594,
          0.007185016431478349,
          0.007161408661366211,
          0.007136978470673473,
          0.007111715577983427,
          0.007085610638351007,
          0.00705865525126669,
          0.007030841967368226
         ],
         "yaxis": "y"
        },
        {
         "autobinx": false,
         "histnorm": "probability density",
         "legendgroup": "no2",
         "marker": {
          "color": "rgb(31, 119, 180)"
         },
         "name": "no2",
         "opacity": 0.7,
         "type": "histogram",
         "visible": false,
         "x": [
          3.7,
          2,
          2,
          2,
          2,
          2.7,
          3.3,
          4,
          7,
          10,
          13,
          15.3,
          17.7,
          20,
          21.7,
          23.3,
          25,
          21.7,
          18.3,
          15,
          12.7,
          10.3,
          8,
          6,
          4,
          2,
          1.7,
          1.3,
          1,
          2,
          3,
          4,
          7.3,
          10.7,
          14,
          16,
          18,
          20,
          20.3,
          20.7,
          21,
          20.7,
          20.3,
          20,
          15.3,
          10.7,
          6,
          5,
          4,
          3,
          3,
          3,
          3,
          4.3,
          5.7,
          7,
          7.7,
          8.3,
          9,
          10.3,
          11.7,
          13,
          14,
          15,
          16,
          15.3,
          14.7,
          14,
          12.7,
          11.3,
          10,
          7.3
         ],
         "xaxis": "x",
         "xbins": {
          "end": 25,
          "size": 1,
          "start": 1
         },
         "yaxis": "y"
        },
        {
         "legendgroup": "no2",
         "marker": {
          "color": "rgb(31, 119, 180)"
         },
         "mode": "lines",
         "name": "no2",
         "showlegend": false,
         "type": "scatter",
         "visible": false,
         "x": [
          1,
          1.048,
          1.096,
          1.144,
          1.192,
          1.24,
          1.288,
          1.336,
          1.384,
          1.432,
          1.48,
          1.528,
          1.576,
          1.624,
          1.6720000000000002,
          1.72,
          1.768,
          1.8159999999999998,
          1.8639999999999999,
          1.912,
          1.96,
          2.008,
          2.056,
          2.104,
          2.152,
          2.2,
          2.248,
          2.2960000000000003,
          2.3440000000000003,
          2.392,
          2.44,
          2.488,
          2.536,
          2.584,
          2.6319999999999997,
          2.6799999999999997,
          2.7279999999999998,
          2.776,
          2.824,
          2.872,
          2.92,
          2.968,
          3.016,
          3.064,
          3.112,
          3.16,
          3.208,
          3.256,
          3.304,
          3.352,
          3.4,
          3.448,
          3.496,
          3.544,
          3.592,
          3.64,
          3.688,
          3.736,
          3.784,
          3.832,
          3.88,
          3.928,
          3.976,
          4.024,
          4.072,
          4.12,
          4.168,
          4.216,
          4.263999999999999,
          4.311999999999999,
          4.359999999999999,
          4.4079999999999995,
          4.4559999999999995,
          4.504,
          4.552,
          4.6,
          4.648,
          4.696,
          4.744,
          4.792,
          4.84,
          4.888,
          4.936,
          4.984,
          5.032,
          5.08,
          5.128,
          5.176,
          5.224,
          5.272,
          5.32,
          5.368,
          5.416,
          5.464,
          5.512,
          5.56,
          5.608,
          5.656,
          5.704,
          5.752,
          5.8,
          5.848,
          5.896,
          5.944,
          5.992,
          6.04,
          6.088,
          6.136,
          6.184,
          6.232,
          6.28,
          6.328,
          6.376,
          6.424,
          6.472,
          6.52,
          6.568,
          6.616,
          6.664,
          6.712,
          6.76,
          6.808,
          6.856,
          6.904,
          6.952,
          7,
          7.048,
          7.096,
          7.144,
          7.192,
          7.24,
          7.288,
          7.336,
          7.384,
          7.432,
          7.48,
          7.528,
          7.576,
          7.624,
          7.672,
          7.72,
          7.768,
          7.816,
          7.864,
          7.912,
          7.96,
          8.008,
          8.056000000000001,
          8.104,
          8.152000000000001,
          8.2,
          8.248000000000001,
          8.296,
          8.344000000000001,
          8.392,
          8.440000000000001,
          8.488,
          8.536,
          8.584,
          8.632,
          8.68,
          8.728,
          8.776,
          8.824,
          8.872,
          8.92,
          8.968,
          9.016,
          9.064,
          9.112,
          9.16,
          9.208,
          9.256,
          9.304,
          9.352,
          9.4,
          9.448,
          9.496,
          9.544,
          9.592,
          9.64,
          9.688,
          9.736,
          9.784,
          9.832,
          9.88,
          9.928,
          9.976,
          10.024,
          10.072,
          10.12,
          10.168,
          10.216,
          10.264,
          10.312,
          10.36,
          10.408,
          10.456,
          10.504,
          10.552,
          10.6,
          10.648,
          10.696,
          10.744,
          10.792,
          10.84,
          10.888,
          10.936,
          10.984,
          11.032,
          11.08,
          11.128,
          11.176,
          11.224,
          11.272,
          11.32,
          11.368,
          11.416,
          11.464,
          11.512,
          11.56,
          11.608,
          11.656,
          11.704,
          11.752,
          11.8,
          11.848,
          11.896,
          11.944,
          11.992,
          12.04,
          12.088,
          12.136,
          12.184,
          12.232,
          12.28,
          12.328,
          12.376,
          12.424,
          12.472,
          12.52,
          12.568,
          12.616,
          12.664,
          12.712,
          12.76,
          12.808,
          12.856,
          12.904,
          12.952,
          13,
          13.048,
          13.096,
          13.144,
          13.192,
          13.24,
          13.288,
          13.336,
          13.384,
          13.432,
          13.48,
          13.528,
          13.576,
          13.624,
          13.672,
          13.72,
          13.768,
          13.816,
          13.864,
          13.912,
          13.96,
          14.008,
          14.056,
          14.104,
          14.152,
          14.2,
          14.248,
          14.296,
          14.344,
          14.392,
          14.44,
          14.488,
          14.536,
          14.584,
          14.632,
          14.68,
          14.728,
          14.776,
          14.824,
          14.872,
          14.92,
          14.968,
          15.016,
          15.064,
          15.112,
          15.16,
          15.208,
          15.256,
          15.304,
          15.352,
          15.4,
          15.448,
          15.496,
          15.544,
          15.592,
          15.64,
          15.688,
          15.736,
          15.784,
          15.832,
          15.88,
          15.928,
          15.976,
          16.024,
          16.072,
          16.119999999999997,
          16.168,
          16.216,
          16.264,
          16.311999999999998,
          16.36,
          16.408,
          16.456,
          16.503999999999998,
          16.552,
          16.6,
          16.648,
          16.695999999999998,
          16.744,
          16.792,
          16.84,
          16.887999999999998,
          16.936,
          16.984,
          17.032,
          17.08,
          17.128,
          17.176,
          17.224,
          17.272,
          17.32,
          17.368,
          17.416,
          17.464,
          17.512,
          17.56,
          17.608,
          17.656,
          17.704,
          17.752,
          17.8,
          17.848,
          17.896,
          17.944,
          17.992,
          18.04,
          18.088,
          18.136,
          18.184,
          18.232,
          18.28,
          18.328,
          18.376,
          18.424,
          18.472,
          18.52,
          18.568,
          18.616,
          18.664,
          18.712,
          18.76,
          18.808,
          18.856,
          18.904,
          18.952,
          19,
          19.048,
          19.096,
          19.144,
          19.192,
          19.24,
          19.288,
          19.336,
          19.384,
          19.432,
          19.48,
          19.528,
          19.576,
          19.624,
          19.672,
          19.72,
          19.768,
          19.816,
          19.864,
          19.912,
          19.96,
          20.008,
          20.056,
          20.104,
          20.152,
          20.2,
          20.248,
          20.296,
          20.344,
          20.392,
          20.44,
          20.488,
          20.536,
          20.584,
          20.632,
          20.68,
          20.728,
          20.776,
          20.824,
          20.872,
          20.92,
          20.968,
          21.016,
          21.064,
          21.112,
          21.16,
          21.208,
          21.256,
          21.304,
          21.352,
          21.4,
          21.448,
          21.496,
          21.544,
          21.592,
          21.64,
          21.688,
          21.736,
          21.784,
          21.832,
          21.88,
          21.928,
          21.976,
          22.024,
          22.072,
          22.12,
          22.168,
          22.216,
          22.264,
          22.312,
          22.36,
          22.408,
          22.456,
          22.504,
          22.552,
          22.6,
          22.648,
          22.696,
          22.744,
          22.792,
          22.84,
          22.888,
          22.936,
          22.984,
          23.032,
          23.08,
          23.128,
          23.176,
          23.224,
          23.272,
          23.32,
          23.368,
          23.416,
          23.464,
          23.512,
          23.56,
          23.608,
          23.656,
          23.704,
          23.752,
          23.8,
          23.848,
          23.896,
          23.944,
          23.992,
          24.04,
          24.088,
          24.136,
          24.184,
          24.232,
          24.28,
          24.328,
          24.376,
          24.424,
          24.472,
          24.52,
          24.568,
          24.616,
          24.664,
          24.712,
          24.76,
          24.808,
          24.856,
          24.904,
          24.952
         ],
         "xaxis": "x",
         "y": [
          0.03705473357544697,
          0.03746073798973645,
          0.03786340280681395,
          0.038262556799160144,
          0.038658030616853245,
          0.03904965696027769,
          0.03943727075110642,
          0.03982070930129212,
          0.04019981247980577,
          0.04057442287686409,
          0.0409443859653894,
          0.04130955025945004,
          0.04166976746943443,
          0.042024892653715104,
          0.0423747843665657,
          0.04271930480209929,
          0.04305831993400289,
          0.04339169965084939,
          0.04371931788677606,
          0.04404105274732607,
          0.044356786630257536,
          0.0446664063411337,
          0.04496980320351629,
          0.045266873163593215,
          0.045557516889082675,
          0.04584163986226399,
          0.046119152466997375,
          0.04638997006960436,
          0.04665401309349198,
          0.04691120708741553,
          0.047161482787283784,
          0.047404776171425425,
          0.047641028509244114,
          0.047870186403202765,
          0.048092201824090006,
          0.04830703213953217,
          0.048514640135727635,
          0.04871499403239218,
          0.048908067490915044,
          0.049093839615738585,
          0.049272294948985954,
          0.049443423458372854,
          0.049607220518451296,
          0.0497636868852455,
          0.04991282866435033,
          0.05005465727257493,
          0.050189189393225,
          0.05031644692512772,
          0.05043645692551367,
          0.05054925154688161,
          0.050654867967979675,
          0.05075334831904842,
          0.050844739601478776,
          0.05092909360204777,
          0.05100646680190268,
          0.05107692028047324,
          0.05114051961449742,
          0.05119733477235642,
          0.05124744000391763,
          0.05129091372609395,
          0.05132783840433119,
          0.05135830043024237,
          0.05138238999561093,
          0.05140020096299092,
          0.051411830733134344,
          0.05141738010948063,
          0.0514169531599445,
          0.05141065707624275,
          0.05139860203099944,
          0.051380901032873474,
          0.05135766977995035,
          0.051329026511641784,
          0.051295091859336256,
          0.05125598869604256,
          0.051211841985266564,
          0.051162778629361666,
          0.051108927317587934,
          0.051050418374115565,
          0.05098738360620275,
          0.050919956152775385,
          0.05084827033363193,
          0.05077246149949263,
          0.05069266588310601,
          0.050609020451623056,
          0.0505216627604404,
          0.05043073080871127,
          0.050336362896714525,
          0.0502386974852662,
          0.050137873057351484,
          0.050034027982147435,
          0.04992730038159937,
          0.0498178279997076,
          0.049705748074670306,
          0.04959119721402476,
          0.0494743112729167,
          0.04935522523562279,
          0.04923407310043994,
          0.049110987768049355,
          0.04898610093345271,
          0.04885954298157008,
          0.048731442886580704,
          0.04860192811507869,
          0.04847112453310738,
          0.04833915631712745,
          0.04820614586896504,
          0.04807221373477848,
          0.047937478528072744,
          0.04780205685678329,
          0.04766606325444249,
          0.04752961011543413,
          0.047392807634332776,
          0.047255763749318516,
          0.04711858408964873,
          0.04698137192716214,
          0.04684422813178269,
          0.046707251130984936,
          0.046570536873174743,
          0.04643417879493374,
          0.046298267792069206,
          0.04616289219440629,
          0.0460281377442523,
          0.045894087578458934,
          0.04576082221400304,
          0.045628419537001044,
          0.04549695479506923,
          0.045366500592936405,
          0.045237126891212946,
          0.045108901008216525,
          0.04498188762475075,
          0.044856148791732046,
          0.04473174394055533,
          0.04460872989608858,
          0.04448716089218398,
          0.04436708858959113,
          0.044248562096157865,
          0.044131627989201616,
          0.04401633033993515,
          0.04390271073982919,
          0.04379080832879441,
          0.04368065982506595,
          0.04357229955667351,
          0.043465759494381244,
          0.0433610692859825,
          0.04325825629183518,
          0.04315734562152643,
          0.04305836017155493,
          0.042961320663923115,
          0.04286624568553242,
          0.04277315172827724,
          0.042682053229736595,
          0.04259296261436391,
          0.042505890335079774,
          0.04242084491517388,
          0.04233783299042724,
          0.04225685935136801,
          0.04217792698557782,
          0.04210103711996987,
          0.04202618926296301,
          0.04195338124647992,
          0.041882609267701834,
          0.04181386793051567,
          0.04174715028659386,
          0.0416824478760511,
          0.0416197507676261,
          0.04155904759834132,
          0.04150032561259661,
          0.04144357070065856,
          0.04138876743650929,
          0.04133589911502515,
          0.04128494778845757,
          0.04123589430219403,
          0.04118871832978049,
          0.041143398407190716,
          0.041099911966331816,
          0.04105823536777971,
          0.041018343932741015,
          0.04098021197424307,
          0.04094381282755548,
          0.04090911887985239,
          0.040876101599125775,
          0.04084473156236546,
          0.04081497848302301,
          0.040786811237780926,
          0.0407601978926507,
          0.04073510572842665,
          0.040711501265524454,
          0.04068935028823631,
          0.04066861786843687,
          0.040649268388775604,
          0.040631265565394405,
          0.040614572470209664,
          0.04059915155280119,
          0.04058496466195022,
          0.04057197306687114,
          0.040560137478182566,
          0.040549418068663474,
          0.04053977449384185,
          0.04053116591246302,
          0.040523551006885816,
          0.04051688800345401,
          0.04051113469289168,
          0.040506248450769645,
          0.04050218625808993,
          0.040498904722035926,
          0.040496360096932894,
          0.04049450830546436,
          0.04049330496018766,
          0.040492705385391146,
          0.04049266463933354,
          0.04049313753690478,
          0.04049407867274498,
          0.0404954424448574,
          0.04049718307874734,
          0.04049925465211842,
          0.040501611120153526,
          0.040504206341406265,
          0.04050699410432529,
          0.04050992815443128,
          0.040512962222162864,
          0.04051605005140566,
          0.04051914542871366,
          0.04052220221323067,
          0.04052517436731463,
          0.04052801598786502,
          0.04053068133834934,
          0.04053312488152139,
          0.0405353013128204,
          0.040537165594435785,
          0.04053867299001909,
          0.04053977910002078,
          0.04054043989762539,
          0.04054061176525506,
          0.04054025153160772,
          0.04053931650919209,
          0.040537764532318284,
          0.04053555399549905,
          0.04053264389221283,
          0.040528993853976465,
          0.04052456418967225,
          0.04051931592506961,
          0.040513210842479996,
          0.040506211520478744,
          0.04049828137362621,
          0.040489384692116284,
          0.04047948668127865,
          0.040468553500858,
          0.04045655230399165,
          0.04044345127580371,
          0.04042921967153337,
          0.04041382785411189,
          0.04039724733110211,
          0.040379450790911924,
          0.04036041213819354,
          0.04034010652833772,
          0.04031851040097278,
          0.04029560151237723,
          0.040271358966714445,
          0.04024576324599876,
          0.040218796238701775,
          0.04019044126690851,
          0.04016068311193454,
          0.04012950803831551,
          0.040096903816082635,
          0.04006285974123863,
          0.040027366654351366,
          0.03999041695718445,
          0.03995200462728612,
          0.0399121252304609,
          0.03987077593105193,
          0.03982795549996409,
          0.03978366432036307,
          0.03973790439098791,
          0.03969067932701963,
          0.039641994358452205,
          0.039591856325917364,
          0.0395402736739185,
          0.03948725644143487,
          0.03943281624986189,
          0.039376966288258416,
          0.03931972129587843,
          0.03926109754196905,
          0.03920111280282351,
          0.03913978633608296,
          0.03907713885228793,
          0.039013192483685816,
          0.03894797075030696,
          0.0388814985233292,
          0.03881380198575587,
          0.03874490859044004,
          0.03867484701549313,
          0.03860364711712351,
          0.038531339879956474,
          0.038457957364894026,
          0.03838353265457904,
          0.038308099796534476,
          0.038231693744055786,
          0.038154350294939285,
          0.03807610602813641,
          0.037996998238429544,
          0.037917064869230785,
          0.037836344443610746,
          0.037754875993669855,
          0.03767269898836995,
          0.0375898532599493,
          0.0375063789290482,
          0.03742231632867802,
          0.03733770592716959,
          0.037252588250242046,
          0.03716700380233602,
          0.037080992987359125,
          0.03699459602899459,
          0.036907852890726386,
          0.03682080319573745,
          0.03673348614683839,
          0.036645940446587484,
          0.03655820421776236,
          0.03647031492434636,
          0.03638230929319201,
          0.036294223236525015,
          0.036206091775451296,
          0.036117948964630386,
          0.0360298278182755,
          0.03594176023764158,
          0.03585377694015884,
          0.0357659073903687,
          0.03567817973281574,
          0.03559062072704639,
          0.03550325568486213,
          0.03541610840997138,
          0.035329201140179456,
          0.03524255449225268,
          0.0351561874095869,
          0.03507011711280663,
          0.034984359053414626,
          0.03489892687060662,
          0.03481383235135953,
          0.03472908539389532,
          0.03464469397461588,
          0.03456066411859757,
          0.03447699987372644,
          0.034393703288548606,
          0.03431077439390181,
          0.034228211188386905,
          0.03414600962772949,
          0.03406416361807485,
          0.033982665013249404,
          0.033901503616015335,
          0.03382066718333492,
          0.03374014143565365,
          0.03365991007020212,
          0.03357995477830775,
          0.03350025526669944,
          0.033420789282778945,
          0.03334153264382428,
          0.03326245927008196,
          0.033183541221696616,
          0.033104748739417274,
          0.03302605028901243,
          0.03294741260931687,
          0.03286880076382585,
          0.032790178195744105,
          0.03271150678638968,
          0.03263274691684492,
          0.03255385753274056,
          0.032474796212050405,
          0.032395519235769596,
          0.03231598166134095,
          0.03223613739868956,
          0.032155939288718884,
          0.032075339184117174,
          0.03199428803231708,
          0.03191273596044766,
          0.03183063236211279,
          0.031747925985826674,
          0.031664565024933373,
          0.03158049720883438,
          0.03149566989534518,
          0.031410030163999944,
          0.0313235249101215,
          0.03123610093947166,
          0.031147705063297382,
          0.03105828419358602,
          0.030967785438344143,
          0.03087615619671372,
          0.030783344253740907,
          0.030689297874613213,
          0.03059396589818291,
          0.03049729782959611,
          0.03039924393184952,
          0.030299755316099658,
          0.030198784030552515,
          0.03009628314776505,
          0.02999220685019431,
          0.029886510513833307,
          0.029779150789778792,
          0.029670085683579796,
          0.029559274632221848,
          0.029446678578607256,
          0.0293322600433976,
          0.029215983194090835,
          0.02909781391121198,
          0.028977719851503055,
          0.0288556705080044,
          0.028731637266927332,
          0.02860559346122499,
          0.028477514420775427,
          0.028347377519099312,
          0.028215162216541873,
          0.028080850099856405,
          0.0279444249181352,
          0.02780587261504127,
          0.0276651813573022,
          0.02752234155943615,
          0.02737734590468724,
          0.02723018936215668,
          0.027080869200122547,
          0.026929384995550802,
          0.026775738639806545,
          0.026619934340583223,
          0.026461978620074822,
          0.026301880309423476,
          0.02613965053948307,
          0.025975302727945144,
          0.025808852562882692,
          0.02564031798277172,
          0.025469719153059504,
          0.025297078439352857,
          0.025122420377307535,
          0.024945771639304583,
          0.02476716099800591,
          0.024586619286886158,
          0.024404179357843645,
          0.024219876035997154,
          0.02403374607178087,
          0.02384582809045255,
          0.02365616253913554,
          0.02346479163151715,
          0.02327175929033042,
          0.023077111087748178,
          0.02288089418382153,
          0.022683157263096852,
          0.022483950469546824,
          0.02228332533995365,
          0.02208133473588241,
          0.021878032774384097,
          0.021673474757569124,
          0.021467717101190158,
          0.021260817262375543,
          0.02105283366665207,
          0.02084382563439636,
          0.020633853306852454,
          0.02042297757185195,
          0.020211259989371462,
          0.019998762717060293,
          0.01978554843586857,
          0.01957168027590431,
          0.019357221742644523,
          0.019142236643623134,
          0.018926789015714377,
          0.01871094305312823,
          0.018494763036229444,
          0.018278313261289342,
          0.01806165797127416,
          0.017844861287770984,
          0.017627987144146883,
          0.017411099220033165,
          0.017194260877222076,
          0.01697753509705806,
          0.01676098441940188,
          0.016544670883240322,
          0.0163286559690097,
          0.016113000542696265,
          0.015897764801772303,
          0.015683008223020198,
          0.015468789512294126,
          0.015255166556261386,
          0.015042196376162466,
          0.014829935083623237,
          0.014618437838547299,
          0.014407758809112685,
          0.014197951133891332,
          0.01398906688610575,
          0.01378115704003228,
          0.013574271439555894,
          0.01336845876887721,
          0.013163766525367684,
          0.01296024099456548,
          0.012757927227299303,
          0.012556869018924931,
          0.012357108890654044,
          0.012158688072952489,
          0.011961646490980565,
          0.011766022752045595,
          0.011571854135032943,
          0.01137917658177951,
          0.011188024690349994,
          0.010998431710174648,
          0.010810429539003564,
          0.010624048721631373,
          0.010439318450343257
         ],
         "yaxis": "y"
        },
        {
         "autobinx": false,
         "histnorm": "probability density",
         "legendgroup": "o3",
         "marker": {
          "color": "rgb(31, 119, 180)"
         },
         "name": "o3",
         "opacity": 0.7,
         "type": "histogram",
         "visible": false,
         "x": [
          147.3,
          158,
          156,
          154,
          152,
          145.3,
          138.7,
          132,
          102.3,
          72.7,
          43,
          34.3,
          25.7,
          17,
          19.7,
          22.3,
          25,
          35,
          45,
          55,
          69,
          83,
          97,
          106,
          115,
          124,
          124.3,
          124.7,
          125,
          123.7,
          122.3,
          121,
          90.7,
          60.3,
          30,
          27.3,
          24.7,
          22,
          26.3,
          30.7,
          35,
          39.7,
          44.3,
          49,
          60,
          71,
          82,
          83.7,
          85.3,
          87,
          89.7,
          92.3,
          95,
          79.3,
          63.7,
          48,
          38.7,
          29.3,
          20,
          21.3,
          22.7,
          24,
          26.7,
          29.3,
          32,
          42,
          52,
          62,
          69.3,
          76.7,
          84,
          90.3
         ],
         "xaxis": "x",
         "xbins": {
          "end": 158,
          "size": 1,
          "start": 17
         },
         "yaxis": "y"
        },
        {
         "legendgroup": "o3",
         "marker": {
          "color": "rgb(31, 119, 180)"
         },
         "mode": "lines",
         "name": "o3",
         "showlegend": false,
         "type": "scatter",
         "visible": false,
         "x": [
          17,
          17.282,
          17.564,
          17.846,
          18.128,
          18.41,
          18.692,
          18.974,
          19.256,
          19.538,
          19.82,
          20.102,
          20.384,
          20.666,
          20.948,
          21.23,
          21.512,
          21.794,
          22.076,
          22.358,
          22.64,
          22.922,
          23.204,
          23.486,
          23.768,
          24.05,
          24.332,
          24.614,
          24.896,
          25.178,
          25.46,
          25.742,
          26.024,
          26.305999999999997,
          26.588,
          26.869999999999997,
          27.152,
          27.433999999999997,
          27.716,
          27.997999999999998,
          28.28,
          28.561999999999998,
          28.844,
          29.125999999999998,
          29.408,
          29.689999999999998,
          29.972,
          30.253999999999998,
          30.536,
          30.817999999999998,
          31.1,
          31.381999999999998,
          31.664,
          31.945999999999998,
          32.228,
          32.51,
          32.792,
          33.074,
          33.356,
          33.638000000000005,
          33.92,
          34.202,
          34.484,
          34.766,
          35.048,
          35.33,
          35.611999999999995,
          35.894,
          36.176,
          36.458,
          36.739999999999995,
          37.022,
          37.304,
          37.586,
          37.867999999999995,
          38.15,
          38.432,
          38.714,
          38.995999999999995,
          39.278,
          39.56,
          39.842,
          40.123999999999995,
          40.406,
          40.688,
          40.97,
          41.251999999999995,
          41.534,
          41.816,
          42.098,
          42.379999999999995,
          42.662,
          42.944,
          43.226,
          43.507999999999996,
          43.79,
          44.072,
          44.354,
          44.635999999999996,
          44.918,
          45.2,
          45.482,
          45.763999999999996,
          46.046,
          46.328,
          46.61,
          46.891999999999996,
          47.174,
          47.456,
          47.738,
          48.019999999999996,
          48.302,
          48.584,
          48.866,
          49.148,
          49.43,
          49.712,
          49.994,
          50.276,
          50.558,
          50.84,
          51.122,
          51.404,
          51.686,
          51.968,
          52.25,
          52.532,
          52.814,
          53.096,
          53.378,
          53.66,
          53.942,
          54.224,
          54.506,
          54.788,
          55.07,
          55.352,
          55.634,
          55.916,
          56.198,
          56.48,
          56.762,
          57.044,
          57.326,
          57.608,
          57.89,
          58.172,
          58.454,
          58.736,
          59.018,
          59.3,
          59.582,
          59.864,
          60.146,
          60.428,
          60.71,
          60.992,
          61.274,
          61.556,
          61.838,
          62.12,
          62.402,
          62.684,
          62.966,
          63.248,
          63.53,
          63.812,
          64.094,
          64.376,
          64.658,
          64.94,
          65.22200000000001,
          65.50399999999999,
          65.786,
          66.068,
          66.35,
          66.632,
          66.914,
          67.196,
          67.47800000000001,
          67.75999999999999,
          68.042,
          68.324,
          68.606,
          68.888,
          69.17,
          69.452,
          69.73400000000001,
          70.01599999999999,
          70.298,
          70.58,
          70.862,
          71.144,
          71.426,
          71.708,
          71.99000000000001,
          72.27199999999999,
          72.554,
          72.836,
          73.118,
          73.4,
          73.682,
          73.964,
          74.24600000000001,
          74.52799999999999,
          74.81,
          75.092,
          75.374,
          75.656,
          75.938,
          76.22,
          76.50200000000001,
          76.78399999999999,
          77.066,
          77.348,
          77.63,
          77.912,
          78.194,
          78.476,
          78.75800000000001,
          79.03999999999999,
          79.322,
          79.604,
          79.886,
          80.168,
          80.45,
          80.732,
          81.014,
          81.296,
          81.578,
          81.86,
          82.142,
          82.424,
          82.706,
          82.988,
          83.27,
          83.552,
          83.834,
          84.116,
          84.398,
          84.68,
          84.962,
          85.244,
          85.526,
          85.808,
          86.09,
          86.372,
          86.654,
          86.936,
          87.218,
          87.5,
          87.782,
          88.064,
          88.346,
          88.628,
          88.91,
          89.192,
          89.474,
          89.756,
          90.038,
          90.32,
          90.602,
          90.884,
          91.166,
          91.448,
          91.73,
          92.012,
          92.294,
          92.576,
          92.858,
          93.14,
          93.422,
          93.704,
          93.986,
          94.268,
          94.55,
          94.832,
          95.114,
          95.396,
          95.678,
          95.96,
          96.242,
          96.524,
          96.806,
          97.088,
          97.37,
          97.652,
          97.934,
          98.216,
          98.498,
          98.78,
          99.062,
          99.344,
          99.626,
          99.908,
          100.19,
          100.472,
          100.754,
          101.036,
          101.318,
          101.6,
          101.882,
          102.164,
          102.446,
          102.728,
          103.01,
          103.292,
          103.574,
          103.856,
          104.138,
          104.42,
          104.702,
          104.984,
          105.266,
          105.548,
          105.83,
          106.112,
          106.394,
          106.676,
          106.958,
          107.24,
          107.522,
          107.804,
          108.086,
          108.368,
          108.65,
          108.932,
          109.214,
          109.496,
          109.778,
          110.06,
          110.342,
          110.624,
          110.906,
          111.188,
          111.47,
          111.752,
          112.034,
          112.316,
          112.598,
          112.88,
          113.162,
          113.444,
          113.726,
          114.008,
          114.29,
          114.572,
          114.854,
          115.136,
          115.418,
          115.7,
          115.982,
          116.264,
          116.546,
          116.828,
          117.11,
          117.392,
          117.674,
          117.956,
          118.238,
          118.52,
          118.802,
          119.084,
          119.366,
          119.648,
          119.93,
          120.212,
          120.494,
          120.776,
          121.058,
          121.34,
          121.622,
          121.904,
          122.186,
          122.468,
          122.75,
          123.032,
          123.314,
          123.596,
          123.878,
          124.16,
          124.442,
          124.724,
          125.006,
          125.288,
          125.57,
          125.852,
          126.134,
          126.416,
          126.698,
          126.98,
          127.262,
          127.544,
          127.826,
          128.108,
          128.39,
          128.672,
          128.954,
          129.236,
          129.518,
          129.8,
          130.082,
          130.364,
          130.64600000000002,
          130.928,
          131.20999999999998,
          131.49200000000002,
          131.774,
          132.05599999999998,
          132.338,
          132.62,
          132.902,
          133.184,
          133.466,
          133.748,
          134.03,
          134.312,
          134.594,
          134.876,
          135.15800000000002,
          135.44,
          135.72199999999998,
          136.00400000000002,
          136.286,
          136.56799999999998,
          136.85,
          137.132,
          137.414,
          137.696,
          137.978,
          138.26,
          138.542,
          138.824,
          139.106,
          139.388,
          139.67000000000002,
          139.952,
          140.23399999999998,
          140.51600000000002,
          140.798,
          141.07999999999998,
          141.362,
          141.644,
          141.926,
          142.208,
          142.49,
          142.772,
          143.054,
          143.336,
          143.618,
          143.9,
          144.18200000000002,
          144.464,
          144.74599999999998,
          145.028,
          145.31,
          145.592,
          145.874,
          146.156,
          146.438,
          146.72,
          147.002,
          147.284,
          147.566,
          147.848,
          148.13,
          148.412,
          148.694,
          148.976,
          149.258,
          149.54,
          149.822,
          150.104,
          150.386,
          150.668,
          150.95,
          151.232,
          151.514,
          151.796,
          152.078,
          152.36,
          152.642,
          152.924,
          153.206,
          153.488,
          153.77,
          154.052,
          154.334,
          154.616,
          154.898,
          155.18,
          155.462,
          155.744,
          156.026,
          156.308,
          156.59,
          156.872,
          157.154,
          157.436,
          157.718
         ],
         "xaxis": "x",
         "y": [
          0.0067537399833106065,
          0.006821557086241925,
          0.006888757937365417,
          0.006955315711471465,
          0.007021203895812973,
          0.007086396314545385,
          0.007150867152910673,
          0.007214590981132619,
          0.00727754277799126,
          0.007339697954044631,
          0.0074010323744663755,
          0.007461522381468317,
          0.00752114481627769,
          0.007579877040639244,
          0.007637696957813141,
          0.007694583033040304,
          0.007750514313447566,
          0.0078054704473659,
          0.007859431703035671,
          0.007912378986673966,
          0.00796429385987994,
          0.008015158556354967,
          0.00806495599791562,
          0.008113669809778463,
          0.00816128433509668,
          0.008207784648729923,
          0.008253156570229582,
          0.008297386676023229,
          0.008340462310782983,
          0.008382371597963826,
          0.008423103449499241,
          0.008462647574642728,
          0.008500994487945088,
          0.008538135516358764,
          0.008574062805461637,
          0.008608769324794254,
          0.008642248872305585,
          0.00867449607790393,
          0.008705506406110711,
          0.008735276157816484,
          0.0087638024711396,
          0.008791083321389385,
          0.008817117520136945,
          0.00884190471339816,
          0.008865445378934403,
          0.008887740822678179,
          0.008908793174291697,
          0.008928605381868002,
          0.008947181205785172,
          0.008964525211725407,
          0.008980642762872037,
          0.008995540011298327,
          0.009009223888563345,
          0.009021702095530952,
          0.009032983091429062,
          0.009043076082167383,
          0.009051991007932513,
          0.009059738530080444,
          0.009066330017347192,
          0.009071777531399036,
          0.009076093811744772,
          0.0090792922600329,
          0.009081386923757467,
          0.00908239247939681,
          0.009082324215010072,
          0.009081198012316775,
          0.009079030328285402,
          0.00907583817625709,
          0.009071639106631136,
          0.00906645118713926,
          0.009060292982735722,
          0.009053183535130866,
          0.009045142341995598,
          0.009036189335864557,
          0.009026344862765772,
          0.009015629660604724,
          0.0090040648373305,
          0.008991671848911984,
          0.008978472477151615,
          0.008964488807364283,
          0.008949743205948766,
          0.008934258297878675,
          0.008918056944139892,
          0.008901162219140895,
          0.0088835973881223,
          0.008865385884591277,
          0.008846551287806322,
          0.008827117300337334,
          0.008807107725725408,
          0.008786546446266271,
          0.008765457400940934,
          0.008743864563516232,
          0.008721791920837631,
          0.008699263451335931,
          0.008676303103768884,
          0.00865293477621815,
          0.008629182295361226,
          0.00860506939603748,
          0.008580619701126503,
          0.008555856701756513,
          0.00853080373785964,
          0.008505483979090305,
          0.008479920406122093,
          0.008454135792337888,
          0.008428152685927157,
          0.008401993392403582,
          0.008375679957555584,
          0.008349234150841389,
          0.008322677449239589,
          0.00829603102156546,
          0.00826931571326257,
          0.00824255203167833,
          0.008215760131831661,
          0.008188959802680027,
          0.00816217045389249,
          0.00813541110313473,
          0.008108700363871317,
          0.008082056433689798,
          0.008055497083150544,
          0.008029039645165718,
          0.008002701004910025,
          0.00797649759026529,
          0.007950445362800497,
          0.007924559809287997,
          0.007898855933756544,
          0.007873348250080726,
          0.007848050775106346,
          0.007822977022310426,
          0.007798139995994284,
          0.007773552186007523,
          0.007749225563000427,
          0.00772517157420176,
          0.0077014011397186525,
          0.0076779246493547506,
          0.007654751959942594,
          0.00763189239318571,
          0.0076093547340056345,
          0.007587147229388785,
          0.007565277587727808,
          0.00754375297865164,
          0.007522580033338495,
          0.007501764845305479,
          0.007481312971668507,
          0.007461229434865857,
          0.007441518724838604,
          0.007422184801660859,
          0.0074032310986126846,
          0.007384660525688336,
          0.007366475473532352,
          0.0073486778177957865,
          0.007331268923904939,
          0.007314249652234611,
          0.00729762036367789,
          0.007281380925604425,
          0.007265530718198891,
          0.007250068641171434,
          0.00723499312083164,
          0.007220302117517608,
          0.007205993133371516,
          0.007192063220453129,
          0.007178508989182466,
          0.0071653266171029,
          0.0071525118579558325,
          0.007140060051058015,
          0.007127966130972504,
          0.007116224637464269,
          0.007104829725731211,
          0.007093775176901471,
          0.007083054408787681,
          0.007072660486888859,
          0.007062586135630449,
          0.007052823749832999,
          0.0070433654063999165,
          0.007034202876214482,
          0.007025327636236476,
          0.007016730881788421,
          0.007008403539021486,
          0.007000336277550977,
          0.0069925195232512045,
          0.0069849434711994115,
          0.006977598098758373,
          0.006970473178787061,
          0.0069635582929688505,
          0.0069568428452463655,
          0.006950316075352111,
          0.006943967072423934,
          0.006937784788694055,
          0.006931758053240488,
          0.0069258755857894184,
          0.006920126010556986,
          0.006914497870118912,
          0.006908979639296051,
          0.006903559739044113,
          0.006898226550335477,
          0.006892968428020926,
          0.006887773714659167,
          0.006882630754301657,
          0.006877527906220411,
          0.006872453558566146,
          0.006867396141944193,
          0.006862344142895446,
          0.006857286117269552,
          0.006852210703477556,
          0.006847106635611041,
          0.006841962756414876,
          0.006836768030100644,
          0.006831511554987704,
          0.00682618257595902,
          0.006820770496718714,
          0.006815264891838498,
          0.006809655518580066,
          0.006803932328480637,
          0.006798085478688975,
          0.0067921053430391445,
          0.006785982522849626,
          0.006779707857435295,
          0.0067732724343200984,
          0.006766667599138416,
          0.006759884965213142,
          0.006752916422799025,
          0.0067457541479796915,
          0.0067383906112073975,
          0.00673081858547453,
          0.0067230311541063665,
          0.006715021718164901,
          0.006706784003453814,
          0.006698312067115156,
          0.006689600303808576,
          0.006680643451464464,
          0.00667143659660274,
          0.006661975179209489,
          0.006652254997164148,
          0.006642272210210443,
          0.006632023343464748,
          0.006621505290456184,
          0.006610715315693227,
          0.006599651056752218,
          0.0065883105258837974,
          0.006576692111133832,
          0.006564794576976078,
          0.006552617064454481,
          0.006540159090833629,
          0.006527420548756533,
          0.006514401704909729,
          0.006501103198196169,
          0.006487526037417291,
          0.00647367159846623,
          0.0064595416210348955,
          0.006445138204838414,
          0.006430463805361071,
          0.00641552122912869,
          0.006400313628513134,
          0.006384844496075294,
          0.006369117658453672,
          0.006353137269806492,
          0.006336907804815804,
          0.006320434051263046,
          0.006303721102185897,
          0.006286774347627321,
          0.006269599465988104,
          0.006252202414995006,
          0.006234589422297309,
          0.006216766975705183,
          0.006198741813083861,
          0.006180520911918339,
          0.006162111478563854,
          0.006143520937197915,
          0.006124756918490335,
          0.006105827248008118,
          0.0060867399343725904,
          0.006067503157186737,
          0.006048125254750908,
          0.006028614711585746,
          0.006008980145781411,
          0.0059892302961924845,
          0.0059693740094984285,
          0.005949420227149569,
          0.005929377972218949,
          0.005909256336180504,
          0.005889064465634281,
          0.005868811548999485,
          0.0058485068031962845,
          0.005828159460337283,
          0.005807778754449695,
          0.005787373908249165,
          0.005766954119986108,
          0.005746528550385368,
          0.005726106309699879,
          0.005705696444898756,
          0.005685307927010066,
          0.005664949638638301,
          0.00564463036167616,
          0.005624358765230063,
          0.005604143393778291,
          0.005583992655580311,
          0.005563914811355392,
          0.0055439179632480505,
          0.00552401004409747,
          0.005504198807027292,
          0.005484491815371776,
          0.005464896432953535,
          0.005445419814727496,
          0.005426068897804995,
          0.0054068503928712,
          0.005387770776008313,
          0.005368836280936285,
          0.0053500528916818136,
          0.005331426335685821,
          0.005312962077358564,
          0.00529466531209071,
          0.0052765409607279795,
          0.005258593664515824,
          0.005240827780519959,
          0.005223247377527404,
          0.005205856232432019,
          0.005188657827107332,
          0.005171655345768745,
          0.00515485167282613,
          0.005138249391226878,
          0.005121850781288653,
          0.005105657820020013,
          0.005089672180926266,
          0.005073895234296836,
          0.005058328047969758,
          0.005042971388567725,
          0.005027825723199464,
          0.005012891221619202,
          0.00499816775883622,
          0.004983654918165562,
          0.004969351994710286,
          0.0049552579992647484,
          0.004941371662627654,
          0.004927691440312998,
          0.004914215517646128,
          0.004900941815231667,
          0.004887867994779215,
          0.004874991465272352,
          0.004862309389465643,
          0.004849818690694068,
          0.004837516059978531,
          0.00482539796341092,
          0.00481346064980151,
          0.004801700158571318,
          0.004790112327871571,
          0.004778692802912139,
          0.00476743704448066,
          0.004756340337633692,
          0.004745397800541175,
          0.0047346043934653834,
          0.004723954927855305,
          0.004713444075537595,
          0.004703066377985016,
          0.004692816255643452,
          0.004682688017298736,
          0.004672675869464452,
          0.004662773925772337,
          0.004652976216346829,
          0.004643276697145871,
          0.004633669259250123,
          0.0046241477380832,
          0.004614705922545973,
          0.0046053375640482805,
          0.004596036385421896,
          0.004586796089699122,
          0.004577610368741839,
          0.004568472911706433,
          0.004559377413330591,
          0.0045503175820285156,
          0.004541287147781893,
          0.004532279869814406,
          0.004523289544038417,
          0.004514310010263147,
          0.004505335159154257,
          0.004496358938935701,
          0.004487375361825265,
          0.004478378510196124,
          0.004469362542457445,
          0.004460321698647906,
          0.004451250305736774,
          0.004442142782627955,
          0.004432993644863276,
          0.004423797509022115,
          0.0044145490968151195,
          0.004405243238870745,
          0.004395874878214029,
          0.004386439073437842,
          0.00437693100156757,
          0.004367345960621043,
          0.00435767937186621,
          0.004347926781779742,
          0.00433808386371061,
          0.004328146419253181,
          0.004318110379335241,
          0.004307971805026868,
          0.004297726888076759,
          0.004287371951183169,
          0.004276903448007329,
          0.004266317962937537,
          0.004255612210612768,
          0.0042447830352152,
          0.00423382740954125,
          0.004222742433861466,
          0.004211525334579635,
          0.004200173462702205,
          0.004188684292129043,
          0.0041770554177772016,
          0.004165284553549231,
          0.004153369530158153,
          0.004141308292821037,
          0.004129098898833518,
          0.004116739515037523,
          0.00410422841519458,
          0.0040915639772771215,
          0.004078744680690145,
          0.004065769103435563,
          0.004052635919231452,
          0.004039343894598358,
          0.00402589188592452,
          0.004012278836521903,
          0.003998503773684405,
          0.003984565805759678,
          0.003970464119245445,
          0.0039561979759210565,
          0.003941766710024549,
          0.003927169725485246,
          0.003912406493221412,
          0.0038974765485121506,
          0.003882379488452179,
          0.003867114969497807,
          0.003851682705111842,
          0.003836082463514651,
          0.0038203140655481615,
          0.003804377382659005,
          0.003788272335006466,
          0.003771998889700312,
          0.0037555570591731734,
          0.0037389468996912737,
          0.0037221685100070757,
          0.0037052220301565875,
          0.0036881076404035747,
          0.003670825560332342,
          0.0036533760480901545,
          0.0036357593997798595,
          0.0036179759490025084,
          0.003600026066549449,
          0.003581910160242677,
          0.0035636286749216248,
          0.003545182092574208,
          0.003526570932609246,
          0.0035077957522669963,
          0.0034888571471639184,
          0.0034697557519674984,
          0.0034504922411962707,
          0.003431067330139938,
          0.0034114817758939524,
          0.0033917363785025837,
          0.003371831982204066,
          0.0033517694767711773,
          0.003331549798940142,
          0.0033111739339205483,
          0.0032906429169786574,
          0.0032699578350862484,
          0.003249119828626893,
          0.0032281300931514367,
          0.003206989881174184,
          0.003185700504001249,
          0.003164263333582366,
          0.0031426798043774277,
          0.003120951415228874,
          0.003099079731231129,
          0.0030770663855882565,
          0.0030549130814509534,
          0.003032621593724235,
          0.0030101937708370313,
          0.0029876315364652187,
          0.0029649368911996454,
          0.0029421119141508517,
          0.002919158764482494,
          0.0028960796828655325,
          0.0028728769928455748,
          0.002849553102116034,
          0.002826110503689953,
          0.002802551776963701,
          0.002778879588666076,
          0.0027550966936866136,
          0.002731205935777317,
          0.0027072102481223415,
          0.0026831126537705356,
          0.00265891626592624,
          0.0026346242880939414,
          0.0026102400140730325,
          0.00258576682779912,
          0.0025612082030289514,
          0.0025365677028663237,
          0.00251184897912684,
          0.002487055771539818,
          0.00246219190678611,
          0.0024372612973710245,
          0.0024122679403319387,
          0.0023872159157808104
         ],
         "yaxis": "y"
        },
        {
         "autobinx": false,
         "histnorm": "probability density",
         "legendgroup": "pm10",
         "marker": {
          "color": "rgb(31, 119, 180)"
         },
         "name": "pm10",
         "opacity": 0.7,
         "type": "histogram",
         "visible": false,
         "x": [
          16.3,
          14,
          13,
          12,
          11,
          13.3,
          15.7,
          18,
          22.7,
          27.3,
          32,
          32,
          32,
          32,
          32.7,
          33.3,
          34,
          31.3,
          28.7,
          26,
          24.7,
          23.3,
          22,
          21,
          20,
          19,
          20,
          21,
          22,
          27,
          32,
          37,
          36,
          35,
          34,
          34,
          34,
          34,
          35,
          36,
          37,
          37,
          37,
          37,
          34,
          31,
          28,
          27.7,
          27.3,
          27,
          23,
          19,
          15,
          11.7,
          8.3,
          5,
          5,
          5,
          5,
          6.7,
          8.3,
          10,
          13.7,
          17.3,
          21,
          22.3,
          23.7,
          25,
          26.7,
          28.3,
          30,
          29.3
         ],
         "xaxis": "x",
         "xbins": {
          "end": 37,
          "size": 1,
          "start": 5
         },
         "yaxis": "y"
        },
        {
         "legendgroup": "pm10",
         "marker": {
          "color": "rgb(31, 119, 180)"
         },
         "mode": "lines",
         "name": "pm10",
         "showlegend": false,
         "type": "scatter",
         "visible": false,
         "x": [
          5,
          5.064,
          5.128,
          5.192,
          5.256,
          5.32,
          5.384,
          5.448,
          5.5120000000000005,
          5.576,
          5.64,
          5.704,
          5.768,
          5.832,
          5.896,
          5.96,
          6.024,
          6.088,
          6.152,
          6.216,
          6.28,
          6.344,
          6.4079999999999995,
          6.4719999999999995,
          6.536,
          6.6,
          6.664,
          6.728,
          6.792,
          6.856,
          6.92,
          6.984,
          7.048,
          7.112,
          7.176,
          7.24,
          7.304,
          7.368,
          7.432,
          7.496,
          7.5600000000000005,
          7.6240000000000006,
          7.688000000000001,
          7.752,
          7.816,
          7.88,
          7.944,
          8.008,
          8.072,
          8.136,
          8.2,
          8.264,
          8.328,
          8.392,
          8.456,
          8.52,
          8.584,
          8.648,
          8.712,
          8.776,
          8.84,
          8.904,
          8.968,
          9.032,
          9.096,
          9.16,
          9.224,
          9.288,
          9.352,
          9.416,
          9.48,
          9.544,
          9.608,
          9.672,
          9.736,
          9.8,
          9.864,
          9.928,
          9.992,
          10.056000000000001,
          10.120000000000001,
          10.184000000000001,
          10.248000000000001,
          10.312000000000001,
          10.376000000000001,
          10.440000000000001,
          10.504,
          10.568,
          10.632,
          10.696,
          10.76,
          10.824,
          10.888,
          10.952,
          11.016,
          11.08,
          11.144,
          11.208,
          11.272,
          11.336,
          11.4,
          11.464,
          11.527999999999999,
          11.591999999999999,
          11.655999999999999,
          11.719999999999999,
          11.783999999999999,
          11.847999999999999,
          11.911999999999999,
          11.975999999999999,
          12.04,
          12.104,
          12.168,
          12.232,
          12.296,
          12.36,
          12.424,
          12.488,
          12.552,
          12.616,
          12.68,
          12.744,
          12.808,
          12.872,
          12.936,
          13,
          13.064,
          13.128,
          13.192,
          13.256,
          13.32,
          13.384,
          13.448,
          13.512,
          13.576,
          13.64,
          13.704,
          13.768,
          13.832,
          13.896,
          13.96,
          14.024,
          14.088,
          14.152,
          14.216,
          14.28,
          14.344,
          14.408,
          14.472,
          14.536,
          14.6,
          14.664,
          14.728,
          14.792,
          14.856,
          14.92,
          14.984,
          15.048,
          15.112,
          15.176,
          15.24,
          15.304,
          15.368,
          15.432,
          15.496,
          15.56,
          15.624,
          15.688,
          15.752,
          15.816,
          15.88,
          15.944,
          16.008,
          16.072,
          16.136,
          16.2,
          16.264,
          16.328,
          16.392,
          16.456,
          16.52,
          16.584,
          16.648,
          16.712,
          16.776,
          16.84,
          16.904,
          16.968,
          17.032,
          17.096,
          17.16,
          17.224,
          17.288,
          17.352,
          17.416,
          17.48,
          17.544,
          17.608,
          17.672,
          17.736,
          17.8,
          17.864,
          17.928,
          17.992,
          18.055999999999997,
          18.119999999999997,
          18.183999999999997,
          18.247999999999998,
          18.311999999999998,
          18.375999999999998,
          18.439999999999998,
          18.503999999999998,
          18.567999999999998,
          18.631999999999998,
          18.695999999999998,
          18.759999999999998,
          18.823999999999998,
          18.887999999999998,
          18.951999999999998,
          19.016,
          19.08,
          19.144,
          19.208,
          19.272,
          19.336,
          19.4,
          19.464,
          19.528,
          19.592,
          19.656,
          19.72,
          19.784,
          19.848,
          19.912,
          19.976,
          20.04,
          20.104,
          20.168,
          20.232,
          20.296,
          20.36,
          20.424,
          20.488,
          20.552,
          20.616,
          20.68,
          20.744,
          20.808,
          20.872,
          20.936,
          21,
          21.064,
          21.128,
          21.192,
          21.256,
          21.32,
          21.384,
          21.448,
          21.512,
          21.576,
          21.64,
          21.704,
          21.768,
          21.832,
          21.896,
          21.96,
          22.024,
          22.088,
          22.152,
          22.216,
          22.28,
          22.344,
          22.408,
          22.472,
          22.536,
          22.6,
          22.664,
          22.728,
          22.792,
          22.856,
          22.92,
          22.984,
          23.048,
          23.112,
          23.176,
          23.24,
          23.304,
          23.368,
          23.432,
          23.496,
          23.56,
          23.624,
          23.688,
          23.752,
          23.816,
          23.88,
          23.944,
          24.008,
          24.072,
          24.136,
          24.2,
          24.264,
          24.328,
          24.392,
          24.456,
          24.52,
          24.584,
          24.648,
          24.712,
          24.776,
          24.84,
          24.904,
          24.968,
          25.032,
          25.096,
          25.16,
          25.224,
          25.288,
          25.352,
          25.416,
          25.48,
          25.544,
          25.608,
          25.672,
          25.736,
          25.8,
          25.864,
          25.928,
          25.992,
          26.056,
          26.12,
          26.184,
          26.248,
          26.312,
          26.376,
          26.44,
          26.504,
          26.568,
          26.632,
          26.696,
          26.76,
          26.824,
          26.888,
          26.952,
          27.016,
          27.08,
          27.144,
          27.208,
          27.272,
          27.336,
          27.4,
          27.464,
          27.528,
          27.592,
          27.656,
          27.72,
          27.784,
          27.848,
          27.912,
          27.976,
          28.04,
          28.104,
          28.168,
          28.232,
          28.296,
          28.36,
          28.424,
          28.488,
          28.552,
          28.616,
          28.68,
          28.744,
          28.808,
          28.872,
          28.936,
          29,
          29.064,
          29.128,
          29.192,
          29.256,
          29.32,
          29.384,
          29.448,
          29.512,
          29.576,
          29.64,
          29.704,
          29.768,
          29.832,
          29.896,
          29.96,
          30.024,
          30.088,
          30.152,
          30.216,
          30.28,
          30.344,
          30.408,
          30.472,
          30.536,
          30.6,
          30.664,
          30.728,
          30.792,
          30.856,
          30.92,
          30.984,
          31.048,
          31.112,
          31.176,
          31.24,
          31.304,
          31.368,
          31.432,
          31.496,
          31.56,
          31.624,
          31.688,
          31.752,
          31.816,
          31.88,
          31.944,
          32.007999999999996,
          32.072,
          32.135999999999996,
          32.2,
          32.263999999999996,
          32.328,
          32.391999999999996,
          32.456,
          32.519999999999996,
          32.584,
          32.647999999999996,
          32.712,
          32.775999999999996,
          32.84,
          32.903999999999996,
          32.968,
          33.032,
          33.096000000000004,
          33.16,
          33.224000000000004,
          33.288,
          33.352000000000004,
          33.416,
          33.480000000000004,
          33.544,
          33.608000000000004,
          33.672,
          33.736000000000004,
          33.8,
          33.864000000000004,
          33.928,
          33.992000000000004,
          34.056,
          34.120000000000005,
          34.184,
          34.248000000000005,
          34.312,
          34.376000000000005,
          34.44,
          34.504000000000005,
          34.568,
          34.632000000000005,
          34.696,
          34.760000000000005,
          34.824,
          34.888000000000005,
          34.952,
          35.016,
          35.08,
          35.144,
          35.208,
          35.272,
          35.336,
          35.4,
          35.464,
          35.528,
          35.592,
          35.656,
          35.72,
          35.784,
          35.848,
          35.912,
          35.976,
          36.04,
          36.104,
          36.168,
          36.232,
          36.296,
          36.36,
          36.424,
          36.488,
          36.552,
          36.616,
          36.68,
          36.744,
          36.808,
          36.872,
          36.936
         ],
         "xaxis": "x",
         "y": [
          0.011213360174088742,
          0.0113145975445652,
          0.01141535537571792,
          0.011515622249000032,
          0.011615387345413961,
          0.01171464044778194,
          0.011813371942088579,
          0.011911572817899554,
          0.012009234667862237,
          0.012106349686296076,
          0.012202910666882463,
          0.012298910999465769,
          0.012394344665978937,
          0.012489206235508954,
          0.01258349085851947,
          0.01267719426024926,
          0.012770312733307308,
          0.012862843129486663,
          0.012954782850821096,
          0.013046129839909958,
          0.013136882569538223,
          0.013227040031620212,
          0.013316601725496698,
          0.013405567645616586,
          0.013493938268635415,
          0.01358171453996431,
          0.013668897859803783,
          0.013755490068698042,
          0.013841493432646224,
          0.01392691062780784,
          0.014011744724840413,
          0.014095999172907906,
          0.014179677783399184,
          0.014262784713396023,
          0.014345324448930689,
          0.014427301788073266,
          0.014508721823889065,
          0.014589589927306551,
          0.014669911729936109,
          0.014749693106879881,
          0.014828940159572666,
          0.014907659198693413,
          0.014985856727186558,
          0.015063539423431877,
          0.015140714124600751,
          0.015217387810236217,
          0.015293567586093284,
          0.015369260668275011,
          0.015444474367698958,
          0.015519216074927475,
          0.015593493245394207,
          0.015667313385057818,
          0.015740684036512874,
          0.015813612765586006,
          0.015886107148444555,
          0.015958174759243018,
          0.016029823158330993,
          0.016101059881044974,
          0.016171892427104453,
          0.016242328250630992,
          0.01631237475080734,
          0.016382039263191615,
          0.01645132905169996,
          0.01652025130126883,
          0.01658881311120678,
          0.01665702148924265,
          0.01672488334627635,
          0.016792405491835506,
          0.016859594630239595,
          0.016926457357471354,
          0.0169930001587531,
          0.017059229406823716,
          0.017125151360910033,
          0.017190772166384555,
          0.017256097855099566,
          0.017321134346385495,
          0.01738588744870009,
          0.01745036286191268,
          0.017514566180206324,
          0.01757850289557894,
          0.017642178401922604,
          0.017705597999659022,
          0.017768766900907295,
          0.017831690235158727,
          0.01789437305543208,
          0.01795682034488149,
          0.018019037023827632,
          0.01808102795718179,
          0.0181427979622315,
          0.0182043518167552,
          0.018265694267432526,
          0.018326830038516102,
          0.01838776384072965,
          0.018448500380357166,
          0.018509044368486837,
          0.018569400530372985,
          0.01862957361487938,
          0.01868956840396658,
          0.0187493897221859,
          0.018809042446142673,
          0.018868531513891548,
          0.01892786193422646,
          0.01898703879582846,
          0.019046067276234705,
          0.01910495265059245,
          0.019163700300162612,
          0.01922231572053765,
          0.019280804529539793,
          0.019339172474766117,
          0.019397425440747847,
          0.01945556945569262,
          0.019513610697779408,
          0.019571555500976424,
          0.01962941036035466,
          0.01968718193687014,
          0.01974487706158963,
          0.019802502739336286,
          0.01986006615173308,
          0.019917574659623138,
          0.019975035804848603,
          0.02003245731137037,
          0.020089847085713656,
          0.020147213216725742,
          0.020204563974634025,
          0.020261907809394856,
          0.02031925334832508,
          0.02037660939301044,
          0.020433984915486994,
          0.020491389053693385,
          0.020548831106194286,
          0.02060632052617698,
          0.02066386691472522,
          0.0207214800133764,
          0.020779169695970448,
          0.020836945959800155,
          0.0208948189160754,
          0.020952798779715114,
          0.021010895858483095,
          0.021069120541485496,
          0.02112748328704955,
          0.021185994610005348,
          0.021244665068393752,
          0.02130350524962554,
          0.021362525756118293,
          0.0214217371904396,
          0.0214811501399859,
          0.02154077516122853,
          0.021600622763559535,
          0.021660703392771114,
          0.021721027414203786,
          0.02178160509559978,
          0.021842446589698895,
          0.021903561916615157,
          0.02196496094603352,
          0.02202665337926674,
          0.022088648731212815,
          0.022150956312254583,
          0.022213585210143362,
          0.022276544271908127,
          0.022339842085833783,
          0.02240348696355008,
          0.022467486922274765,
          0.02253184966725321,
          0.022596582574437304,
          0.022661692673445935,
          0.02272718663084905,
          0.022793070733817016,
          0.02285935087417619,
          0.022926032532911332,
          0.022993120765154026,
          0.023060620185696816,
          0.02312853495507,
          0.0231968687662187,
          0.02326562483181552,
          0.02333480587224345,
          0.023404414104282244,
          0.023474451230530317,
          0.023544918429592103,
          0.023615816347060222,
          0.023687145087319332,
          0.023758904206197373,
          0.023831092704487918,
          0.023903709022365903,
          0.023976751034716304,
          0.024050216047394553,
          0.024124100794434646,
          0.024198401436219014,
          0.024273113558622845,
          0.024348232173142238,
          0.02442375171801486,
          0.024499666060338533,
          0.024575968499191515,
          0.02465265176975616,
          0.024729708048445067,
          0.024807128959027126,
          0.02488490557974834,
          0.024963028451440245,
          0.025041487586606678,
          0.02512027247947752,
          0.025199372117015565,
          0.025278774990861202,
          0.025358469110197224,
          0.025438442015513655,
          0.025518680793251418,
          0.025599172091301064,
          0.025679902135331133,
          0.025760856745918936,
          0.02584202135645458,
          0.025923381031788068,
          0.02600492048758652,
          0.02608662411036823,
          0.026168475978178136,
          0.0262504598818679,
          0.02633255934694298,
          0.026414757655937086,
          0.026497037871274293,
          0.026579382858577038,
          0.026661775310378177,
          0.026744197770193722,
          0.026826632656912496,
          0.02690906228945874,
          0.02699146891168176,
          0.027073834717428386,
          0.02715614187575129,
          0.027238372556208174,
          0.027320508954205083,
          0.027402533316338098,
          0.027484427965687067,
          0.027566175327015545,
          0.027647757951831584,
          0.02772915854326374,
          0.027810359980707897,
          0.02789134534420051,
          0.027972097938474685,
          0.02805260131665652,
          0.028132839303559743,
          0.028212796018537427,
          0.028292455897851006,
          0.028371803716517787,
          0.028450824609598795,
          0.028529504092891064,
          0.028607828082988816,
          0.028685782916679812,
          0.028763355369644535,
          0.028840532674427807,
          0.028917302537652515,
          0.02899365315644903,
          0.029069573234073377,
          0.029145051994690096,
          0.029220079197297404,
          0.029294645148773304,
          0.02936874071602422,
          0.02944235733721791,
          0.02951548703208636,
          0.029588122411283942,
          0.029660256684789697,
          0.029731883669343605,
          0.029802997794908245,
          0.029873594110150396,
          0.029943668286937165,
          0.030013216623844503,
          0.03008223604867677,
          0.03015072411999846,
          0.03021867902768031,
          0.030286099592464182,
          0.030352985264552212,
          0.030419336121228154,
          0.0304851528635193,
          0.03055043681190979,
          0.030615189901117418,
          0.030679414673946526,
          0.03074311427423254,
          0.03080629243889345,
          0.030868953489105545,
          0.03093110232062188,
          0.030992744393252634,
          0.03105388571952778,
          0.031114532852563704,
          0.031174692873155482,
          0.031234373376118296,
          0.031293582455901664,
          0.031352328691500495,
          0.031410621130688876,
          0.0314684692736009,
          0.03152588305568586,
          0.03158287283006282,
          0.0316394493493025,
          0.03169562374666232,
          0.031751407516802346,
          0.03180681249600908,
          0.031861850841954205,
          0.03191653501301579,
          0.03197087774718879,
          0.032024892040611964,
          0.0320785911257381,
          0.03213198844917383,
          0.03218509764921582,
          0.03223793253310875,
          0.032290507054050885,
          0.032342835287972604,
          0.03239493141011235,
          0.032446809671414216,
          0.03249848437477125,
          0.03254996985113737,
          0.03260128043553054,
          0.032652430442949784,
          0.0327034341442268,
          0.03275430574183386,
          0.03280505934566778,
          0.03285570894883007,
          0.03290626840342236,
          0.03295675139637533,
          0.033007171425329655,
          0.03305754177458604,
          0.03310787549114123,
          0.03315818536082651,
          0.03320848388456417,
          0.033258783254757944,
          0.03330909533183111,
          0.033359431620928075,
          0.033409803248792246,
          0.03346022094083465,
          0.033510694998406254,
          0.03356123527628678,
          0.03361185116040345,
          0.033662551545791404,
          0.03371334481480861,
          0.03376423881561732,
          0.03381524084094394,
          0.03386635760712989,
          0.033917595233484726,
          0.03396895922195412,
          0.03402045443711465,
          0.0340720850865072,
          0.0341238547013218,
          0.03417576611744635,
          0.03422782145689127,
          0.034280022109604014,
          0.034332368715685936,
          0.03438486114802527,
          0.03443749849536024,
          0.03449027904578639,
          0.0345432002707225,
          0.034596258809350924,
          0.03464945045354652,
          0.034702770133311446,
          0.03475621190273097,
          0.03480976892646778,
          0.03486343346681174,
          0.034917196871302805,
          0.03497104956094519,
          0.03502498101903149,
          0.0350789797805956,
          0.03513303342251395,
          0.03518712855427473,
          0.03524125080943551,
          0.03529538483778962,
          0.0353495142982621,
          0.03540362185255647,
          0.035457689159573494,
          0.03551169687062396,
          0.0355656246254563,
          0.035619451049122036,
          0.03567315374969976,
          0.035726709316900404,
          0.03578009332157517,
          0.03583328031614788,
          0.03588624383599325,
          0.03593895640178238,
          0.03599138952281637,
          0.03604351370136846,
          0.036095298438055055,
          0.03614671223825478,
          0.03619772261959488,
          0.03624829612052287,
          0.036298398309981085,
          0.03634799379820068,
          0.0363970462486308,
          0.03644551839101755,
          0.036493372035646586,
          0.03654056808876144,
          0.036587066569169234,
          0.03663282662604342,
          0.03667780655793212,
          0.03672196383297935,
          0.036765255110364534,
          0.03680763626296436,
          0.03684906240123946,
          0.036889487898346084,
          0.036928866416472333,
          0.03696715093439518,
          0.03700429377625409,
          0.03704024664153407,
          0.03707496063624915,
          0.037108386305316196,
          0.037140473666105525,
          0.03717117224315348,
          0.03720043110402031,
          0.037228198896273525,
          0.037254423885575816,
          0.03727905399485366,
          0.03730203684452139,
          0.037323319793731685,
          0.03734284998262408,
          0.03736057437553732,
          0.037376439805152706,
          0.037390393017530756,
          0.037402380718003114,
          0.0374123496178785,
          0.037420246481920036,
          0.03742601817654917,
          0.037429611718729064,
          0.03743097432547879,
          0.037430053463967834,
          0.03742679690213858,
          0.03742115275980201,
          0.03741306956015141,
          0.03740249628163658,
          0.037389382410139234,
          0.037373677991389666,
          0.03735533368356279,
          0.037334300809990645,
          0.03731053141192745,
          0.03728397830130158,
          0.037254595113389515,
          0.03722233635934345,
          0.037187157478506164,
          0.03714901489044427,
          0.037107866046631334,
          0.03706366948171199,
          0.037016384864277295,
          0.03696597304708211,
          0.036912396116635215,
          0.03685561744209245,
          0.0367956017233836,
          0.03673231503850503,
          0.03666572488990897,
          0.036595800249922004,
          0.0365225116051262,
          0.036445830999636185,
          0.03636573207720748,
          0.036282190122111965,
          0.036195182098717776,
          0.036104686689711854,
          0.03601068433290595,
          0.03591315725656645,
          0.035812089513212846,
          0.0357074670118283,
          0.03559927754843071,
          0.0354875108349522,
          0.03537215852637868,
          0.035253214246102796,
          0.03513067360944516,
          0.035004534245302844,
          0.03487479581588455,
          0.034741460034495894,
          0.03460453068134064,
          0.03446401361730508,
          0.034319916795698256,
          0.034172250271919474,
          0.03402102621103234,
          0.03386625889322277,
          0.03370796471712489,
          0.033546162200999284,
          0.03338087198175329,
          0.03321211681179347,
          0.033039921553706594,
          0.03286431317276541,
          0.03268532072726108,
          0.03250297535666547,
          0.032317310267631176,
          0.03212836071783882,
          0.03193616399770508,
          0.03174075940996791,
          0.03154218824716795,
          0.031340493767049143,
          0.03113572116590328,
          0.030927917549887135,
          0.0307171319043434,
          0.0305034150611593,
          0.030286819664199896,
          0.030067400132855863,
          0.0298452126237473,
          0.029620314990629344,
          0.029392766742546296,
          0.029162629000284383,
          0.028929964451175367,
          0.0286948373023054,
          0.028457313232185647,
          0.02821745934094393,
          0.02797534409909776,
          0.02773103729497139,
          0.027484609980821594,
          0.027236134417738415,
          0.026985684019388227,
          0.02673333329466877,
          0.02647915778934651,
          0.02622323402674787,
          0.025965639447578296,
          0.025706452348941776
         ],
         "yaxis": "y"
        },
        {
         "autobinx": false,
         "histnorm": "probability density",
         "legendgroup": "pm25",
         "marker": {
          "color": "rgb(31, 119, 180)"
         },
         "name": "pm25",
         "opacity": 0.7,
         "type": "histogram",
         "visible": false,
         "x": [
          11.67,
          10,
          9.33,
          8.67,
          8,
          9.33,
          10.67,
          12,
          15.33,
          18.67,
          22,
          22.33,
          22.67,
          23,
          23.33,
          23.67,
          24,
          22,
          20,
          18,
          17,
          16,
          15,
          14.33,
          13.67,
          13,
          13.67,
          14.33,
          15,
          18.33,
          21.67,
          25,
          24.67,
          24.33,
          24,
          23.67,
          23.33,
          23,
          24,
          25,
          26,
          26,
          26,
          26,
          23.67,
          21.33,
          19,
          18.67,
          18.33,
          18,
          15.67,
          13.33,
          11,
          8.33,
          5.67,
          3,
          3.33,
          3.67,
          4,
          5,
          6,
          7,
          9.33,
          11.67,
          14,
          15,
          16,
          17,
          17.33,
          17.67,
          18,
          17
         ],
         "xaxis": "x",
         "xbins": {
          "end": 26,
          "size": 1,
          "start": 3
         },
         "yaxis": "y"
        },
        {
         "legendgroup": "pm25",
         "marker": {
          "color": "rgb(31, 119, 180)"
         },
         "mode": "lines",
         "name": "pm25",
         "showlegend": false,
         "type": "scatter",
         "visible": false,
         "x": [
          3,
          3.046,
          3.092,
          3.138,
          3.184,
          3.23,
          3.276,
          3.322,
          3.368,
          3.414,
          3.46,
          3.5060000000000002,
          3.552,
          3.598,
          3.644,
          3.69,
          3.7359999999999998,
          3.782,
          3.828,
          3.874,
          3.92,
          3.966,
          4.0120000000000005,
          4.058,
          4.104,
          4.15,
          4.196,
          4.242,
          4.288,
          4.334,
          4.38,
          4.426,
          4.4719999999999995,
          4.518,
          4.564,
          4.61,
          4.656,
          4.702,
          4.748,
          4.7940000000000005,
          4.84,
          4.886,
          4.932,
          4.978,
          5.024,
          5.07,
          5.116,
          5.162,
          5.208,
          5.254,
          5.3,
          5.346,
          5.3919999999999995,
          5.438000000000001,
          5.484,
          5.529999999999999,
          5.5760000000000005,
          5.622,
          5.668,
          5.714,
          5.76,
          5.806,
          5.852,
          5.898,
          5.944,
          5.99,
          6.036,
          6.082,
          6.128,
          6.1739999999999995,
          6.220000000000001,
          6.266,
          6.311999999999999,
          6.3580000000000005,
          6.404,
          6.45,
          6.496,
          6.542,
          6.588,
          6.634,
          6.68,
          6.726,
          6.772,
          6.818,
          6.864,
          6.91,
          6.9559999999999995,
          7.002,
          7.048,
          7.094,
          7.14,
          7.186,
          7.232,
          7.278,
          7.324,
          7.37,
          7.416,
          7.462,
          7.508,
          7.554,
          7.6,
          7.646,
          7.692,
          7.738,
          7.784,
          7.83,
          7.876,
          7.922,
          7.968,
          8.014,
          8.059999999999999,
          8.106,
          8.152000000000001,
          8.198,
          8.244,
          8.29,
          8.336,
          8.382,
          8.428,
          8.474,
          8.52,
          8.565999999999999,
          8.612,
          8.658000000000001,
          8.704,
          8.75,
          8.796,
          8.841999999999999,
          8.888,
          8.934000000000001,
          8.98,
          9.026,
          9.072,
          9.118,
          9.164,
          9.21,
          9.256,
          9.302,
          9.347999999999999,
          9.394,
          9.440000000000001,
          9.486,
          9.532,
          9.578,
          9.623999999999999,
          9.67,
          9.716000000000001,
          9.762,
          9.808,
          9.854,
          9.9,
          9.946,
          9.992,
          10.038,
          10.084,
          10.129999999999999,
          10.176,
          10.222000000000001,
          10.268,
          10.314,
          10.36,
          10.405999999999999,
          10.452,
          10.498000000000001,
          10.544,
          10.59,
          10.636,
          10.682,
          10.728,
          10.774000000000001,
          10.82,
          10.866,
          10.911999999999999,
          10.958,
          11.004,
          11.05,
          11.096,
          11.142,
          11.188,
          11.234,
          11.28,
          11.326,
          11.372,
          11.418,
          11.464,
          11.51,
          11.556,
          11.602,
          11.648,
          11.694,
          11.74,
          11.786,
          11.832,
          11.878,
          11.924,
          11.97,
          12.016,
          12.062,
          12.108,
          12.154,
          12.2,
          12.246,
          12.292,
          12.338,
          12.384,
          12.43,
          12.476,
          12.522,
          12.568,
          12.614,
          12.66,
          12.706,
          12.752,
          12.798,
          12.844,
          12.89,
          12.936,
          12.982,
          13.028,
          13.074,
          13.12,
          13.166,
          13.212,
          13.258,
          13.304,
          13.35,
          13.396,
          13.442,
          13.488,
          13.534,
          13.58,
          13.626,
          13.672,
          13.718,
          13.764,
          13.81,
          13.856,
          13.902,
          13.948,
          13.994,
          14.04,
          14.086,
          14.132,
          14.178,
          14.224,
          14.27,
          14.316,
          14.362,
          14.408,
          14.454,
          14.5,
          14.546,
          14.592,
          14.638,
          14.684,
          14.73,
          14.776,
          14.822,
          14.868,
          14.914,
          14.96,
          15.006,
          15.052,
          15.098,
          15.144,
          15.19,
          15.236,
          15.282,
          15.328,
          15.374,
          15.42,
          15.466,
          15.512,
          15.558,
          15.604,
          15.65,
          15.696,
          15.742,
          15.788,
          15.834,
          15.88,
          15.926,
          15.972,
          16.018,
          16.064,
          16.11,
          16.156,
          16.201999999999998,
          16.247999999999998,
          16.294,
          16.34,
          16.386,
          16.432000000000002,
          16.478,
          16.524,
          16.57,
          16.616,
          16.662,
          16.708,
          16.753999999999998,
          16.8,
          16.846,
          16.892,
          16.938000000000002,
          16.984,
          17.03,
          17.076,
          17.122,
          17.168,
          17.214,
          17.259999999999998,
          17.305999999999997,
          17.352,
          17.398,
          17.444000000000003,
          17.490000000000002,
          17.536,
          17.582,
          17.628,
          17.674,
          17.72,
          17.766,
          17.811999999999998,
          17.858,
          17.904,
          17.95,
          17.996000000000002,
          18.042,
          18.088,
          18.134,
          18.18,
          18.226,
          18.272,
          18.317999999999998,
          18.364,
          18.41,
          18.456,
          18.502000000000002,
          18.548000000000002,
          18.594,
          18.64,
          18.686,
          18.732,
          18.778,
          18.823999999999998,
          18.869999999999997,
          18.916,
          18.962,
          19.008,
          19.054,
          19.1,
          19.146,
          19.192,
          19.238,
          19.284,
          19.33,
          19.376,
          19.422,
          19.468,
          19.514,
          19.56,
          19.606,
          19.652,
          19.698,
          19.744,
          19.79,
          19.836,
          19.882,
          19.928,
          19.974,
          20.02,
          20.066,
          20.112,
          20.158,
          20.204,
          20.25,
          20.296,
          20.342,
          20.388,
          20.434,
          20.48,
          20.526,
          20.572,
          20.618,
          20.664,
          20.71,
          20.756,
          20.802,
          20.848,
          20.894,
          20.94,
          20.986,
          21.032,
          21.078,
          21.124,
          21.17,
          21.216,
          21.262,
          21.308,
          21.354,
          21.4,
          21.446,
          21.492,
          21.538,
          21.584,
          21.63,
          21.676,
          21.722,
          21.768,
          21.814,
          21.86,
          21.906,
          21.952,
          21.998,
          22.044,
          22.09,
          22.136,
          22.182,
          22.228,
          22.274,
          22.32,
          22.366,
          22.412,
          22.458,
          22.504,
          22.55,
          22.596,
          22.642,
          22.688,
          22.734,
          22.78,
          22.826,
          22.872,
          22.918,
          22.964,
          23.01,
          23.056,
          23.102,
          23.148,
          23.194,
          23.24,
          23.286,
          23.332,
          23.378,
          23.424,
          23.47,
          23.516,
          23.562,
          23.608,
          23.654,
          23.7,
          23.746,
          23.792,
          23.838,
          23.884,
          23.93,
          23.976,
          24.022,
          24.068,
          24.114,
          24.16,
          24.206,
          24.252,
          24.298,
          24.344,
          24.39,
          24.436,
          24.482,
          24.528,
          24.574,
          24.62,
          24.666,
          24.712,
          24.758,
          24.804,
          24.85,
          24.896,
          24.942,
          24.988,
          25.034,
          25.08,
          25.126,
          25.172,
          25.218,
          25.264,
          25.31,
          25.356,
          25.402,
          25.448,
          25.494,
          25.54,
          25.586,
          25.632,
          25.678,
          25.724,
          25.77,
          25.816,
          25.862,
          25.908,
          25.954
         ],
         "xaxis": "x",
         "y": [
          0.014003952978182382,
          0.014157750460300923,
          0.014311155184348681,
          0.014464142345292594,
          0.01461668802785127,
          0.01476876922815636,
          0.014920363873919243,
          0.015071450843067154,
          0.015222009980816239,
          0.015372022115152094,
          0.01552146907069156,
          0.015670333680903096,
          0.015818599798666382,
          0.01596625230515525,
          0.016113277117031616,
          0.016259661191941825,
          0.016405392532310006,
          0.016550460187427295,
          0.016694854253838765,
          0.016838565874034175,
          0.016981587233451775,
          0.01712391155580844,
          0.017265533096772874,
          0.01740644713600209,
          0.017546649967565275,
          0.017686138888782076,
          0.01782491218750663,
          0.017962969127890974,
          0.018100309934665895,
          0.01823693577597942,
          0.01837284874483729,
          0.018508051839191877,
          0.018642548940729486,
          0.018776344792408813,
          0.018909444974805345,
          0.019041855881319934,
          0.01917358469231151,
          0.01930463934821652,
          0.019435028521719355,
          0.019564761589040677,
          0.019693848600411613,
          0.019822300249803942,
          0.019950127843987378,
          0.020077343270986935,
          0.020203958968013712,
          0.020329987888944103,
          0.020455443471422436,
          0.02058033960366325,
          0.020704690591029213,
          0.020828511122461313,
          0.02095181623683744,
          0.021074621289335734,
          0.021196941917878274,
          0.021318794009730385,
          0.021440193668329603,
          0.02156115718041816,
          0.02168170098355054,
          0.021801841634047487,
          0.02192159577546545,
          0.022040980107649173,
          0.022160011356433248,
          0.022278706244056083,
          0.022397081460348172,
          0.022515153634753465,
          0.02263293930924059,
          0.022750454912158106,
          0.022867716733084763,
          0.022984740898723283,
          0.023101543349882864,
          0.023218139819592584,
          0.023334545812384692,
          0.023450776584783256,
          0.023566847127030475,
          0.023682772146079098,
          0.02379856604987634,
          0.023914242932960482,
          0.024029816563388057,
          0.024145300371005724,
          0.024260707437077197,
          0.024376050485271524,
          0.024491341874015894,
          0.024606593590211633,
          0.02472181724430905,
          0.024837024066732084,
          0.02495222490564119,
          0.025067430226018185,
          0.02518265011005358,
          0.02529789425881377,
          0.025413171995161056,
          0.025528492267896895,
          0.025643863657095155,
          0.02575929438058855,
          0.02587479230156941,
          0.025990364937261295,
          0.026106019468616938,
          0.026221762750993458,
          0.026337601325754915,
          0.026453541432748143,
          0.0265695890235969,
          0.02668574977575629,
          0.02680202910726786,
          0.026918432192153757,
          0.027034963976386835,
          0.02715162919437208,
          0.02726843238587316,
          0.027385377913317386,
          0.027502469979410825,
          0.027619712644994965,
          0.027737109847075645,
          0.027854665416954544,
          0.027972383098393783,
          0.02809026656574349,
          0.028208319441963,
          0.028326545316466795,
          0.028444947762726422,
          0.02856353035556087,
          0.02868229668804868,
          0.028801250387996285,
          0.02892039513389841,
          0.029039734670327843,
          0.02915927282269367,
          0.029279013511308703,
          0.029398960764709388,
          0.029519118732172733,
          0.02963949169537824,
          0.02976008407916418,
          0.029880900461331156,
          0.030001945581447555,
          0.03012322434861562,
          0.03024474184815852,
          0.03036650334719268,
          0.030488514299052555,
          0.030610780346538496,
          0.030733307323960728,
          0.03085610125795741,
          0.030979168367066785,
          0.0311025150600376,
          0.031226147932865364,
          0.03135007376454539,
          0.031474299511537775,
          0.03159883230094186,
          0.03172367942238266,
          0.031848848318614426,
          0.031974346574850106,
          0.032100181906829686,
          0.032226362147643045,
          0.0323528952333267,
          0.03247978918725753,
          0.03260705210336957,
          0.03273469212822295,
          0.03286271744195789,
          0.03299113623816913,
          0.03311995670273965,
          0.033249186991674805,
          0.0333788352079814,
          0.033508909377638466,
          0.033639417424709155,
          0.03377036714564558,
          0.03390176618284063,
          0.034033621997482603,
          0.034165941841771706,
          0.03429873273055699,
          0.034432001412456545,
          0.034565754340523384,
          0.034699997642521914,
          0.03483473709088013,
          0.0349699780723846,
          0.03510572555768599,
          0.035241984070682596,
          0.035378757657851576,
          0.03551604985759624,
          0.03565386366967967,
          0.03579220152481277,
          0.03593106525446755,
          0.036070456060983205,
          0.03621037448803499,
          0.03635082039153231,
          0.036491792911014884,
          0.03663329044161204,
          0.03677531060663149,
          0.03691785023084091,
          0.03706090531450597,
          0.03720447100824606,
          0.03734854158876732,
          0.03749311043553179,
          0.037638170008418764,
          0.03778371182643369,
          0.03792972644751599,
          0.03807620344949823,
          0.03822313141226358,
          0.03837049790114867,
          0.03851828945163563,
          0.03866649155537497,
          0.03881508864757849,
          0.03896406409581913,
          0.039113400190272034,
          0.03926307813542817,
          0.03941307804331086,
          0.03956337892822029,
          0.0397139587030312,
          0.03986479417706507,
          0.040015861055554915,
          0.040167133940719836,
          0.04031858633446251,
          0.04047019064270081,
          0.04062191818134221,
          0.040773739183906796,
          0.04092562281080294,
          0.04107753716025618,
          0.04122944928089048,
          0.0413813251859581,
          0.04153312986921201,
          0.04168482732241314,
          0.0418363805544614,
          0.04198775161213863,
          0.04213890160244858,
          0.04228979071653738,
          0.04244037825517609,
          0.04259062265578448,
          0.04274048152097465,
          0.042889911648589664,
          0.04303886906321212,
          0.04318730904911502,
          0.043335186184626284,
          0.04348245437787677,
          0.043629066903899595,
          0.0437749764430483,
          0.04392013512069881,
          0.04406449454820005,
          0.0442080058650362,
          0.04435061978216238,
          0.044492286626475315,
          0.044632956386378236,
          0.04477257875839916,
          0.04491110319482058,
          0.04504847895227742,
          0.04518465514127939,
          0.04531958077661302,
          0.04545320482857764,
          0.045585476275009064,
          0.04571634415404359,
          0.045845757617574145,
          0.045973665985350326,
          0.04610001879967192,
          0.046224765880626385,
          0.046347857381818444,
          0.04646924384654028,
          0.046588876264329594,
          0.04670670612786194,
          0.04682268549012311,
          0.046936767021806505,
          0.04704890406887949,
          0.04715905071026205,
          0.047267161815560114,
          0.04737319310279502,
          0.04747710119606979,
          0.0475788436831119,
          0.04767837917263142,
          0.047775667351432044,
          0.04787066904121265,
          0.047963346254994405,
          0.04805366225310909,
          0.04814158159868245,
          0.04822707021254535,
          0.0483100954275051,
          0.04839062604190789,
          0.04846863237242235,
          0.04854408630597359,
          0.048616961350755446,
          0.04868723268624928,
          0.04875487721217414,
          0.048819873596295645,
          0.048882202321017004,
          0.048941845728676936,
          0.04899878806547766,
          0.04905301552396555,
          0.04910451628398682,
          0.04915328055204012,
          0.04919930059894662,
          0.049242570795759534,
          0.049283087647833526,
          0.04932084982697468,
          0.04935585820159194,
          0.04938811586477133,
          0.049417628160194085,
          0.04944440270582032,
          0.049468449415260886,
          0.04948978051676082,
          0.04950841056971806,
          0.04952435647866294,
          0.04953763750462536,
          0.049548275273816764,
          0.04955629378355791,
          0.04956171940538296,
          0.049564580885254034,
          0.0495649093408224,
          0.04956273825567456,
          0.04955810347050417,
          0.04955104317115449,
          0.049541597873478393,
          0.04952981040496635,
          0.04951572588309708,
          0.04949939169036871,
          0.04948085744597243,
          0.049460174974075434,
          0.04943739826868318,
          0.04941258345505775,
          0.04938578874767121,
          0.04935707440468057,
          0.04932650267891465,
          0.049294137765369256,
          0.04926004574521252,
          0.04922429452630814,
          0.049186953780270014,
          0.04914809487606917,
          0.04910779081021792,
          0.04906611613356433,
          0.04902314687473715,
          0.048978960460285235,
          0.04893363563156594,
          0.04888725235844077,
          0.04883989174984483,
          0.04879163596130389,
          0.04874256809947895,
          0.04869277212382542,
          0.04864233274546182,
          0.048591335323348764,
          0.04853986575788663,
          0.04848801038204713,
          0.04843585585016034,
          0.04838348902448669,
          0.048330996859707986,
          0.04827846628548027,
          0.04822598408719627,
          0.04817363678511138,
          0.04812151051199402,
          0.04806969088946602,
          0.04801826290320479,
          0.047967310777183914,
          0.047916917847134685,
          0.04786716643341483,
          0.047818137713475636,
          0.047769911594123485,
          0.04772256658377415,
          0.04767617966490331,
          0.047630826166898906,
          0.047586579639523945,
          0.04754351172720079,
          0.04750169204433026,
          0.047461188051859886,
          0.04742206493531711,
          0.04738438548452416,
          0.047348209975211296,
          0.04731359605274528,
          0.04728059861818881,
          0.04724926971690646,
          0.04721965842993018,
          0.04719181076829663,
          0.04716576957056431,
          0.047141574403718266,
          0.04711926146766381,
          0.04709886350350936,
          0.04708040970583241,
          0.04706392563911923,
          0.047049433158562706,
          0.04703695033539808,
          0.04702649138694886,
          0.04701806661155033,
          0.04701168232851035,
          0.0470073408232592,
          0.04700504029783414,
          0.04700477482683478,
          0.04700653431897748,
          0.04701030448436867,
          0.0470160668076071,
          0.04702379852681611,
          0.047033472618696864,
          0.04704505778968442,
          0.0470585184732772,
          0.04707381483360036,
          0.04709090277525335,
          0.047109733959480524,
          0.047130255826692655,
          0.047152411625356834,
          0.047176140447259554,
          0.0472013772691382,
          0.04722805300066281,
          0.047256094538740696,
          0.04728542482810251,
          0.04731596292811979,
          0.04734762408578915,
          0.04738031981481151,
          0.04741395798067739,
          0.047448442891665055,
          0.04748367539564111,
          0.047519552982546676,
          0.04755596989243893,
          0.04759281722894911,
          0.047629983078006276,
          0.04766735263166794,
          0.04770480831688724,
          0.04774222992903829,
          0.04777949477001171,
          0.047816477790683404,
          0.047853051737552055,
          0.04788908730333234,
          0.04792445328128305,
          0.04795901672304308,
          0.0479926430997401,
          0.04802519646613274,
          0.0480565396275383,
          0.04808653430929518,
          0.048115041328503465,
          0.04814192076778247,
          0.048167032150780484,
          0.04819023461916863,
          0.04821138711084807,
          0.04823034853909675,
          0.04824697797238146,
          0.04826113481455799,
          0.0482726789851831,
          0.048281471099660314,
          0.04828737264894365,
          0.04829024617852191,
          0.048289955466410045,
          0.04828636569987416,
          0.04827934365061995,
          0.04826875784817689,
          0.04825447875121445,
          0.04823637891653025,
          0.048214333165453545,
          0.04818821874741425,
          0.04815791550043086,
          0.048123306008278084,
          0.04808427575409981,
          0.04804071327024078,
          0.04799251028407643,
          0.04793956185962803,
          0.04788176653475807,
          0.04781902645374894,
          0.04775124749507617,
          0.047678339394195655,
          0.04760021586117482,
          0.04751679469300507,
          0.047427997880443946,
          0.04733375170924345,
          0.04723398685563327,
          0.047128638475934743,
          0.047017646290194746,
          0.04690095465973659,
          0.04677851265853693,
          0.04665027413834815,
          0.04651619778749573,
          0.04637624718329154,
          0.046230390838014675,
          0.0460786022384213,
          0.045920859878757596,
          0.04575714728725861,
          0.0455874530461277,
          0.045411770805001854,
          0.045230099287917935,
          0.04504244229380546,
          0.044848808690543425,
          0.04464921240262543,
          0.04444367239249075,
          0.044232212635586576,
          0.04401486208923679,
          0.0437916546554023,
          0.04356262913742649,
          0.043327829190868423,
          0.043087303268534737,
          0.042841104559830145,
          0.04258929092455315,
          0.04233192482127317,
          0.042069073230429806,
          0.04180080757230547,
          0.04152720362002638,
          0.04124834140775439,
          0.04096430513423885,
          0.04067518306190206,
          0.04038106741163729,
          0.04008205425350501,
          0.03977824339351429,
          0.039469738256684116,
          0.039156645766579776,
          0.038839076221525784,
          0.03851714316769711,
          0.038190963269295906,
          0.03786065617601991,
          0.03752634438803421,
          0.037188153118655864,
          0.03684621015496532,
          0.03650064571655619,
          0.03615159231263804,
          0.03579918459770464,
          0.03544355922598122,
          0.03508485470486295,
          0.034723211247555195,
          0.034358770625126184,
          0.03399167601817935
         ],
         "yaxis": "y"
        },
        {
         "autobinx": false,
         "histnorm": "probability density",
         "legendgroup": "so2",
         "marker": {
          "color": "rgb(31, 119, 180)"
         },
         "name": "so2",
         "opacity": 0.7,
         "type": "histogram",
         "visible": false,
         "x": [
          8,
          8,
          8.7,
          9.3,
          10,
          12,
          14,
          16,
          12.3,
          8.7,
          5,
          4.7,
          4.3,
          4,
          4.7,
          5.3,
          6,
          6.7,
          7.3,
          8,
          7.7,
          7.3,
          7,
          7,
          7,
          7,
          7,
          7,
          7,
          9.7,
          12.3,
          15,
          12,
          9,
          6,
          7,
          8,
          9,
          9.7,
          10.3,
          11,
          10.7,
          10.3,
          10,
          9,
          8,
          7,
          6.3,
          5.7,
          5,
          5.3,
          5.7,
          6,
          7,
          8,
          9,
          7.7,
          6.3,
          5,
          5,
          5,
          5,
          5.7,
          6.3,
          7,
          7.7,
          8.3,
          9,
          8,
          7,
          6,
          5.3
         ],
         "xaxis": "x",
         "xbins": {
          "end": 16,
          "size": 1,
          "start": 4
         },
         "yaxis": "y"
        },
        {
         "legendgroup": "so2",
         "marker": {
          "color": "rgb(31, 119, 180)"
         },
         "mode": "lines",
         "name": "so2",
         "showlegend": false,
         "type": "scatter",
         "visible": false,
         "x": [
          4,
          4.024,
          4.048,
          4.072,
          4.096,
          4.12,
          4.144,
          4.168,
          4.192,
          4.216,
          4.24,
          4.264,
          4.288,
          4.312,
          4.336,
          4.36,
          4.384,
          4.408,
          4.432,
          4.456,
          4.48,
          4.504,
          4.5280000000000005,
          4.552,
          4.576,
          4.6,
          4.624,
          4.648,
          4.672,
          4.696,
          4.72,
          4.744,
          4.768,
          4.792,
          4.816,
          4.84,
          4.864,
          4.888,
          4.912,
          4.936,
          4.96,
          4.984,
          5.008,
          5.032,
          5.056,
          5.08,
          5.104,
          5.128,
          5.152,
          5.176,
          5.2,
          5.224,
          5.248,
          5.272,
          5.296,
          5.32,
          5.344,
          5.368,
          5.3919999999999995,
          5.416,
          5.4399999999999995,
          5.464,
          5.4879999999999995,
          5.5120000000000005,
          5.536,
          5.5600000000000005,
          5.584,
          5.6080000000000005,
          5.632,
          5.656,
          5.68,
          5.704,
          5.728,
          5.752,
          5.776,
          5.8,
          5.824,
          5.848,
          5.872,
          5.896,
          5.92,
          5.944,
          5.968,
          5.992,
          6.016,
          6.04,
          6.064,
          6.088,
          6.112,
          6.136,
          6.16,
          6.184,
          6.208,
          6.232,
          6.256,
          6.279999999999999,
          6.304,
          6.327999999999999,
          6.352,
          6.3759999999999994,
          6.4,
          6.4239999999999995,
          6.448,
          6.4719999999999995,
          6.496,
          6.52,
          6.5440000000000005,
          6.568,
          6.5920000000000005,
          6.616,
          6.640000000000001,
          6.664,
          6.688000000000001,
          6.712,
          6.736000000000001,
          6.76,
          6.784,
          6.808,
          6.832,
          6.856,
          6.88,
          6.904,
          6.928,
          6.952,
          6.976,
          7,
          7.024,
          7.048,
          7.072,
          7.096,
          7.12,
          7.144,
          7.168,
          7.192,
          7.216,
          7.24,
          7.263999999999999,
          7.288,
          7.311999999999999,
          7.336,
          7.359999999999999,
          7.384,
          7.4079999999999995,
          7.432,
          7.4559999999999995,
          7.48,
          7.504,
          7.5280000000000005,
          7.552,
          7.5760000000000005,
          7.6,
          7.6240000000000006,
          7.648,
          7.672000000000001,
          7.696,
          7.720000000000001,
          7.744,
          7.768,
          7.792,
          7.816,
          7.84,
          7.864,
          7.888,
          7.912,
          7.936,
          7.96,
          7.984,
          8.008,
          8.032,
          8.056000000000001,
          8.08,
          8.104,
          8.128,
          8.152000000000001,
          8.176,
          8.2,
          8.224,
          8.248000000000001,
          8.272,
          8.296,
          8.32,
          8.344000000000001,
          8.368,
          8.392,
          8.416,
          8.440000000000001,
          8.464,
          8.488,
          8.512,
          8.536,
          8.559999999999999,
          8.584,
          8.608,
          8.632,
          8.655999999999999,
          8.68,
          8.704,
          8.728,
          8.751999999999999,
          8.776,
          8.8,
          8.824,
          8.847999999999999,
          8.872,
          8.896,
          8.92,
          8.943999999999999,
          8.968,
          8.992,
          9.016,
          9.04,
          9.064,
          9.088000000000001,
          9.112,
          9.136,
          9.16,
          9.184000000000001,
          9.208,
          9.232,
          9.256,
          9.280000000000001,
          9.304,
          9.328,
          9.352,
          9.376000000000001,
          9.4,
          9.424,
          9.448,
          9.472000000000001,
          9.496,
          9.52,
          9.544,
          9.568,
          9.591999999999999,
          9.616,
          9.64,
          9.664,
          9.687999999999999,
          9.712,
          9.736,
          9.76,
          9.783999999999999,
          9.808,
          9.832,
          9.856,
          9.879999999999999,
          9.904,
          9.928,
          9.952,
          9.975999999999999,
          10,
          10.024000000000001,
          10.048,
          10.072,
          10.096,
          10.120000000000001,
          10.144,
          10.168,
          10.192,
          10.216000000000001,
          10.24,
          10.264,
          10.288,
          10.312000000000001,
          10.336,
          10.36,
          10.384,
          10.408000000000001,
          10.432,
          10.456,
          10.48,
          10.504,
          10.527999999999999,
          10.552,
          10.576,
          10.6,
          10.623999999999999,
          10.648,
          10.672,
          10.696,
          10.719999999999999,
          10.744,
          10.768,
          10.792,
          10.815999999999999,
          10.84,
          10.864,
          10.888,
          10.911999999999999,
          10.936,
          10.96,
          10.984,
          11.008,
          11.032,
          11.056000000000001,
          11.08,
          11.104,
          11.128,
          11.152000000000001,
          11.176,
          11.2,
          11.224,
          11.248000000000001,
          11.272,
          11.296,
          11.32,
          11.344000000000001,
          11.368,
          11.392,
          11.416,
          11.440000000000001,
          11.464,
          11.488,
          11.512,
          11.536,
          11.559999999999999,
          11.584,
          11.608,
          11.632,
          11.655999999999999,
          11.68,
          11.704,
          11.728,
          11.751999999999999,
          11.776,
          11.8,
          11.824,
          11.847999999999999,
          11.872,
          11.896,
          11.92,
          11.943999999999999,
          11.968,
          11.992,
          12.016,
          12.04,
          12.064,
          12.088,
          12.112,
          12.136,
          12.16,
          12.184,
          12.208,
          12.232,
          12.256,
          12.28,
          12.304,
          12.328,
          12.352,
          12.376,
          12.4,
          12.424,
          12.448,
          12.472,
          12.496,
          12.52,
          12.544,
          12.568,
          12.592,
          12.616,
          12.64,
          12.664,
          12.688,
          12.712,
          12.736,
          12.76,
          12.784,
          12.808,
          12.832,
          12.856,
          12.88,
          12.904,
          12.928,
          12.952,
          12.976,
          13,
          13.024,
          13.048,
          13.072,
          13.096,
          13.12,
          13.144,
          13.168,
          13.192,
          13.216,
          13.24,
          13.264,
          13.288,
          13.312,
          13.336,
          13.36,
          13.384,
          13.408,
          13.432,
          13.456,
          13.48,
          13.504,
          13.528,
          13.552,
          13.576,
          13.6,
          13.624,
          13.648,
          13.672,
          13.696,
          13.72,
          13.744,
          13.768,
          13.792,
          13.816,
          13.84,
          13.864,
          13.888,
          13.912,
          13.936,
          13.96,
          13.984,
          14.008,
          14.032,
          14.056,
          14.08,
          14.104,
          14.128,
          14.152,
          14.176,
          14.2,
          14.224,
          14.248,
          14.272,
          14.296,
          14.32,
          14.344,
          14.368,
          14.392,
          14.416,
          14.44,
          14.464,
          14.488,
          14.512,
          14.536,
          14.56,
          14.584,
          14.608,
          14.632,
          14.656,
          14.68,
          14.704,
          14.728,
          14.752,
          14.776,
          14.8,
          14.824,
          14.848,
          14.872,
          14.896,
          14.92,
          14.944,
          14.968,
          14.992,
          15.016,
          15.04,
          15.064,
          15.088,
          15.112,
          15.136,
          15.16,
          15.184,
          15.208,
          15.232,
          15.256,
          15.28,
          15.304,
          15.328,
          15.352,
          15.376,
          15.4,
          15.424,
          15.448,
          15.472,
          15.496,
          15.52,
          15.544,
          15.568,
          15.592,
          15.616,
          15.64,
          15.664,
          15.688,
          15.712,
          15.736,
          15.76,
          15.784,
          15.808,
          15.832,
          15.856,
          15.88,
          15.904,
          15.928,
          15.952,
          15.976
         ],
         "xaxis": "x",
         "y": [
          0.05711187885923603,
          0.058380400472560164,
          0.05965800949941753,
          0.060944196382226805,
          0.06223844235940853,
          0.06354022028151733,
          0.06484899545188709,
          0.06616422648957387,
          0.06748536621226431,
          0.06881186253670732,
          0.0701431593941231,
          0.07147869765795266,
          0.0728179160812189,
          0.07416025224069966,
          0.0755051434850414,
          0.07685202788388741,
          0.07820034517504641,
          0.07954953770669344,
          0.08089905137156936,
          0.08224833653013405,
          0.08359684891962785,
          0.08494405054600727,
          0.08628941055574672,
          0.08763240608453318,
          0.08897252307993359,
          0.09030925709517305,
          0.09164211405124068,
          0.09297061096462644,
          0.09429427663808991,
          0.09561265231197838,
          0.09692529227373155,
          0.09823176442334713,
          0.09953165079272967,
          0.10082454801699572,
          0.10211006775598623,
          0.10338783706439929,
          0.10465749870915582,
          0.10591871143279231,
          0.10717115016188261,
          0.10841450615969313,
          0.10964848712249295,
          0.11087281721915208,
          0.1120872370738887,
          0.11329150369224354,
          0.11448539033059335,
          0.11566868630973416,
          0.11684119677329885,
          0.11800274239199665,
          0.11915315901488356,
          0.12029229726909743,
          0.1214200221097054,
          0.12253621232152125,
          0.12364075997495709,
          0.12473356983817133,
          0.12581455874795971,
          0.1268836549420241,
          0.1279407973554141,
          0.12898593488410376,
          0.13001902561880838,
          0.13104003605228126,
          0.13204894026345312,
          0.13304571908188348,
          0.13403035923608636,
          0.13500285248937013,
          0.1359631947668943,
          0.1369113852776934,
          0.13784742563544522,
          0.13877131898177905,
          0.13968306911591294,
          0.1405826796343929,
          0.14147015308466684,
          0.14234549013617923,
          0.14320868877259738,
          0.14405974350869974,
          0.1448986446353532,
          0.1457253774958904,
          0.14653992179706887,
          0.14734225095764375,
          0.14813233149743227,
          0.14891012246956983,
          0.14967557493847808,
          0.15042863150586658,
          0.15116922588688278,
          0.1518972825383109,
          0.15261271634049423,
          0.15331543233442305,
          0.154005325515193,
          0.1546822806827931,
          0.15534617235093454,
          0.15599686471438215,
          0.1566342116749945,
          0.157258056926426,
          0.15786823409719064,
          0.15846456695153732,
          0.15904686964733294,
          0.1596149470499104,
          0.160168595100595,
          0.16070760123839062,
          0.16123174487308015,
          0.1617407979077792,
          0.1622345253087704,
          0.16271268572024822,
          0.16317503212142223,
          0.16362131252324183,
          0.16405127070185438,
          0.16446464696575214,
          0.16486117895343178,
          0.16524060245827163,
          0.16560265227722432,
          0.1659470630798348,
          0.166273570294022,
          0.1665819110050015,
          0.1668718248636889,
          0.16714305500089865,
          0.16739534894364394,
          0.16762845952985062,
          0.16784214581782705,
          0.16803617398686482,
          0.1682103182254066,
          0.16836436160328802,
          0.16849809692464138,
          0.16861132755815414,
          0.16870386824148637,
          0.16877554585677587,
          0.16882620017430236,
          0.16885568456152714,
          0.16886386665488923,
          0.16885062899190714,
          0.1688158696013149,
          0.1687595025491491,
          0.1686814584388956,
          0.16858168486400782,
          0.16846014681131047,
          0.16831682701401396,
          0.1681517262532754,
          0.1679648636074574,
          0.1677562766484488,
          0.1675260215846307,
          0.16727417335027955,
          0.16700082564141497,
          0.16670609089831026,
          0.1663901002350822,
          0.1660530033169877,
          0.16569496818623922,
          0.16531618103734935,
          0.16491684594318787,
          0.16449718453311762,
          0.164057435624734,
          0.16359785481089248,
          0.16311871400385697,
          0.16262030093853733,
          0.16210291863691068,
          0.16156688483583817,
          0.16101253138059496,
          0.16044020358652222,
          0.1598502595712922,
          0.15924306956035061,
          0.1586190151681565,
          0.15797848865788777,
          0.15732189218231535,
          0.15664963700857332,
          0.15596214272956638,
          0.15525983646475044,
          0.154543152053024,
          0.153812529240435,
          0.1530684128653867,
          0.15231125204397916,
          0.1515414993580783,
          0.15075961004864033,
          0.1499660412167547,
          0.1491612510347931,
          0.14834569796996588,
          0.1475198400225021,
          0.146684133980567,
          0.1458390346939336,
          0.14498499436831297,
          0.1441224618821399,
          0.14325188212748974,
          0.14237369537668762,
          0.1414883366760423,
          0.1405962352680198,
          0.13969781404303694,
          0.13879348902193558,
          0.13788366887006226,
          0.1369687544437548,
          0.1360491383699104,
          0.135125204659174,
          0.13419732835317263,
          0.13326587520608796,
          0.13233120140074103,
          0.13139365329924443,
          0.13045356722816173,
          0.12951126929799883,
          0.12856707525674493,
          0.12762129037707426,
          0.12667420937672114,
          0.12572611637143882,
          0.12477728485986721,
          0.12382797773954028,
          0.12287844735318608,
          0.12192893556439251,
          0.12097967386163724,
          0.12003088348961502,
          0.11908277560673344,
          0.11813555146758535,
          0.11718940262916058,
          0.11624451117950428,
          0.11530104998749537,
          0.11435918297237119,
          0.11341906539160129,
          0.11248084414567616,
          0.11154465809836145,
          0.11061063841094468,
          0.10967890888898663,
          0.10874958634008507,
          0.10782278094114563,
          0.10689859661366068,
          0.10597713140549134,
          0.10505847787766301,
          0.10414272349468616,
          0.10322995101693584,
          0.10232023889363454,
          0.10141366165500613,
          0.10051029030219295,
          0.09961019269355492,
          0.0987134339259977,
          0.09782007671001172,
          0.09693018173714103,
          0.09604380803863552,
          0.0951610133340855,
          0.09428185436887766,
          0.09340638723936207,
          0.0925346677046639,
          0.09166675148412814,
          0.09080269453943761,
          0.08994255334049896,
          0.0890863851142511,
          0.08823424807560933,
          0.08738620163981817,
          0.0865423066155532,
          0.08570262537817351,
          0.08486722202259638,
          0.08403616249533202,
          0.08320951470528977,
          0.08238734861303326,
          0.08156973629824131,
          0.08075675200520098,
          0.07994847216623491,
          0.07914497540304251,
          0.0783463425060109,
          0.07755265639162764,
          0.07676400203820594,
          0.07598046640021074,
          0.07520213830155285,
          0.0744291083082938,
          0.0736614685812837,
          0.07289931270932988,
          0.07214273552356935,
          0.07139183289379303,
          0.07064670150754408,
          0.06990743863287999,
          0.06917414186576258,
          0.06844690886310184,
          0.06772583706254873,
          0.06701102339018847,
          0.06630256395734825,
          0.06560055374778609,
          0.06490508629657796,
          0.06421625336206815,
          0.06353414459229012,
          0.06285884718730196,
          0.06219044555891451,
          0.06152902098931638,
          0.06087465129012426,
          0.060227410463401486,
          0.05958736836619869,
          0.058954590380177085,
          0.05832913708787039,
          0.05771106395713477,
          0.057100421035322924,
          0.05649725265469436,
          0.05590159715054956,
          0.055313486593539705,
          0.054732946537562666,
          0.054159995784609664,
          0.05359464616787178,
          0.05303690235435657,
          0.05248676166819653,
          0.05194421393576053,
          0.0514092413535999,
          0.05088181838017595,
          0.05036191165222815,
          0.04984947992654517,
          0.04934447404780577,
          0.048846836943048096,
          0.048356503643223823,
          0.04787340133217838,
          0.04739744942328975,
          0.04692855966387719,
          0.046466636267377674,
          0.04601157607316526,
          0.04556326873377131,
          0.04512159692913967,
          0.04468643660743383,
          0.044257657251791545,
          0.04383512217230548,
          0.043418688822392866,
          0.043008209138601976,
          0.04260352990279645,
          0.042204493125548595,
          0.04181093644947372,
          0.041422693571139126,
          0.04103959468008896,
          0.04066146691344296,
          0.04028813482444452,
          0.03991942086326319,
          0.03955514586828993,
          0.039195129566107316,
          0.03883919107826501,
          0.038487149432950465,
          0.03813882407961231,
          0.037794035404567834,
          0.037452605245612544,
          0.037114357403641156,
          0.03677911814929513,
          0.03644671672266029,
          0.0361169858240619,
          0.03578976209403281,
          0.03546488658057061,
          0.03514220519184711,
          0.03482156913258819,
          0.03450283532241007,
          0.034185866794468216,
          0.033870533072855535,
          0.0335567105272755,
          0.0332442827036095,
          0.03293314062909831,
          0.03262318309096498,
          0.03231431688741807,
          0.03200645705009121,
          0.031699527037096,
          0.031393458895989976,
          0.031088193396089165,
          0.030783680129683945,
          0.030479877581849755,
          0.03017675316867585,
          0.029874283243868774,
          0.02957245307381951,
          0.029271256781355386,
          0.028970697258527616,
          0.028670786048912704,
          0.02837154320003205,
          0.028072997086613656,
          0.027775184205539025,
          0.027478148943429113,
          0.02718194331793265,
          0.0268866266938798,
          0.02659226547556143,
          0.026298932776482768,
          0.026006708068022067,
          0.025715676808499885,
          0.02542593005423247,
          0.025137564054200912,
          0.02485067983002015,
          0.02456538274293388,
          0.024281782049597314,
          0.023999990448434663,
          0.023720123618376977,
          0.02344229975179447,
          0.023166639083439067,
          0.022893263417204514,
          0.022622295652497088,
          0.022353859311984994,
          0.022088078072464636,
          0.021825075300541962,
          0.021564973594782426,
          0.02130789433592959,
          0.02105395724673366,
          0.020803279962866517,
          0.020555977616327888,
          0.020312162432673326,
          0.020071943343312196,
          0.0198354256140408,
          0.01960271049088635,
          0.01937389486424598,
          0.019149070952212154,
          0.018928326003877168,
          0.01871174202331396,
          0.018499395514829837,
          0.018291357249990824,
          0.018087692056815055,
          0.017888458631433953,
          0.01769370937242258,
          0.017503490237902937,
          0.01731784062543048,
          0.01713679327458036,
          0.016960374192061357,
          0.016788602599097625,
          0.016621490900737137,
          0.016459044676663807,
          0.0163012626930183,
          0.01614813693465828,
          0.015999652657226183,
          0.01585578845832846,
          0.01571651636707575,
          0.015581801951181421,
          0.015451604440770853,
          0.015325876868012544,
          0.01520456622164751,
          0.015087613615464422,
          0.014974954469742096,
          0.014866518704664045,
          0.014762230944694909,
          0.014662010732900355,
          0.014565772754189918,
          0.014473427066461885,
          0.014384879338637871,
          0.014300031094583611,
          0.014218779961929672,
          0.014141019924823361,
          0.01406664157966769,
          0.013995532392929066,
          0.013927576960126241,
          0.01386265726514546,
          0.013800652939062852,
          0.01374144151769404,
          0.013684898697130089,
          0.013630898586562157,
          0.01357931395774071,
          0.013530016490459967,
          0.013482877013504178,
          0.01343776574053937,
          0.013394552500480097,
          0.01335310696190865,
          0.013313298851170363,
          0.013274998163814791,
          0.013238075369098783,
          0.013202401607311013,
          0.013167848879722074,
          0.013134290231005324,
          0.013101599924014998,
          0.013069653606846218,
          0.013038328472138972,
          0.013007503408622539,
          0.012977059144930126,
          0.012946878385743474,
          0.01291684594035564,
          0.012886848843766376,
          0.01285677647044684,
          0.012826520640932617,
          0.012795975721421481,
          0.012765038716568842,
          0.012733609355687,
          0.012701590172565997,
          0.012668886579141671,
          0.012635406933244034,
          0.012601062600662303,
          0.0125657680117658,
          0.012529440712919023,
          0.012492001412928312,
          0.012453374024752596,
          0.012413485702706301,
          0.01237226687537464,
          0.01232965127445338,
          0.012285575959715554,
          0.012239981340296165,
          0.01219281119247463,
          0.01214401267412135,
          0.012093536335962019,
          0.012041336129798418,
          0.011987369413811162,
          0.011931596955053957,
          0.011873982929235543,
          0.011814494917869546,
          0.011753103902859025,
          0.011689784258567506,
          0.011624513741414915,
          0.011557273477023537,
          0.01148804794492657,
          0.01141682496083981,
          0.011343595656486433,
          0.01126835445695439,
          0.011191099055557407,
          0.011111830386162008,
          0.01103055259293682,
          0.010947272997474378,
          0.010862002063231459,
          0.010774753357230509,
          0.01068554350896326,
          0.01059439216643665,
          0.010501321949301833,
          0.010406358399008985,
          0.01030952992593383,
          0.010210867753425711,
          0.01011040585873299,
          0.010008180910767675,
          0.009904232204679078,
          0.009798601593214756,
          0.0096913334148567,
          0.009582474418730743
         ],
         "yaxis": "y"
        },
        {
         "autobinx": false,
         "histnorm": "probability density",
         "legendgroup": "ts",
         "marker": {
          "color": "rgb(31, 119, 180)"
         },
         "name": "ts",
         "opacity": 0.7,
         "type": "histogram",
         "visible": false,
         "x": [
          1724256000,
          1724252400,
          1724248800,
          1724245200,
          1724241600,
          1724238000,
          1724234400,
          1724230800,
          1724227200,
          1724223600,
          1724220000,
          1724216400,
          1724212800,
          1724209200,
          1724205600,
          1724202000,
          1724198400,
          1724194800,
          1724191200,
          1724187600,
          1724184000,
          1724180400,
          1724176800,
          1724173200,
          1724169600,
          1724166000,
          1724162400,
          1724158800,
          1724155200,
          1724151600,
          1724148000,
          1724144400,
          1724140800,
          1724137200,
          1724133600,
          1724130000,
          1724126400,
          1724122800,
          1724119200,
          1724115600,
          1724112000,
          1724108400,
          1724104800,
          1724101200,
          1724097600,
          1724094000,
          1724090400,
          1724086800,
          1724083200,
          1724079600,
          1724076000,
          1724072400,
          1724068800,
          1724065200,
          1724061600,
          1724058000,
          1724054400,
          1724050800,
          1724047200,
          1724043600,
          1724040000,
          1724036400,
          1724032800,
          1724029200,
          1724025600,
          1724022000,
          1724018400,
          1724014800,
          1724011200,
          1724007600,
          1724004000,
          1724000400
         ],
         "xaxis": "x",
         "xbins": {
          "end": 1724256000,
          "size": 1,
          "start": 1724000400
         },
         "yaxis": "y"
        },
        {
         "legendgroup": "ts",
         "marker": {
          "color": "rgb(31, 119, 180)"
         },
         "mode": "lines",
         "name": "ts",
         "showlegend": false,
         "type": "scatter",
         "visible": false,
         "x": [
          1724000400,
          1724000911.2,
          1724001422.4,
          1724001933.6,
          1724002444.8,
          1724002956,
          1724003467.2,
          1724003978.4,
          1724004489.6,
          1724005000.8,
          1724005512,
          1724006023.2,
          1724006534.4,
          1724007045.6,
          1724007556.8,
          1724008068,
          1724008579.2,
          1724009090.4,
          1724009601.6,
          1724010112.8,
          1724010624,
          1724011135.2,
          1724011646.4,
          1724012157.6,
          1724012668.8,
          1724013180,
          1724013691.2,
          1724014202.4,
          1724014713.6,
          1724015224.8,
          1724015736,
          1724016247.2,
          1724016758.4,
          1724017269.6,
          1724017780.8,
          1724018292,
          1724018803.2,
          1724019314.4,
          1724019825.6,
          1724020336.8,
          1724020848,
          1724021359.2,
          1724021870.4,
          1724022381.6,
          1724022892.8,
          1724023404,
          1724023915.2,
          1724024426.4,
          1724024937.6,
          1724025448.8,
          1724025960,
          1724026471.2,
          1724026982.4,
          1724027493.6,
          1724028004.8,
          1724028516,
          1724029027.2,
          1724029538.4,
          1724030049.6,
          1724030560.8,
          1724031072,
          1724031583.2,
          1724032094.4,
          1724032605.6,
          1724033116.8,
          1724033628,
          1724034139.2,
          1724034650.4,
          1724035161.6,
          1724035672.8,
          1724036184,
          1724036695.2,
          1724037206.4,
          1724037717.6,
          1724038228.8,
          1724038740,
          1724039251.2,
          1724039762.4,
          1724040273.6,
          1724040784.8,
          1724041296,
          1724041807.2,
          1724042318.4,
          1724042829.6,
          1724043340.8,
          1724043852,
          1724044363.2,
          1724044874.4,
          1724045385.6,
          1724045896.8,
          1724046408,
          1724046919.2,
          1724047430.4,
          1724047941.6,
          1724048452.8,
          1724048964,
          1724049475.2,
          1724049986.4,
          1724050497.6,
          1724051008.8,
          1724051520,
          1724052031.2,
          1724052542.4,
          1724053053.6,
          1724053564.8,
          1724054076,
          1724054587.2,
          1724055098.4,
          1724055609.6,
          1724056120.8,
          1724056632,
          1724057143.2,
          1724057654.4,
          1724058165.6,
          1724058676.8,
          1724059188,
          1724059699.2,
          1724060210.4,
          1724060721.6,
          1724061232.8,
          1724061744,
          1724062255.2,
          1724062766.4,
          1724063277.6,
          1724063788.8,
          1724064300,
          1724064811.2,
          1724065322.4,
          1724065833.6,
          1724066344.8,
          1724066856,
          1724067367.2,
          1724067878.4,
          1724068389.6,
          1724068900.8,
          1724069412,
          1724069923.2,
          1724070434.4,
          1724070945.6,
          1724071456.8,
          1724071968,
          1724072479.2,
          1724072990.4,
          1724073501.6,
          1724074012.8,
          1724074524,
          1724075035.2,
          1724075546.4,
          1724076057.6,
          1724076568.8,
          1724077080,
          1724077591.2,
          1724078102.4,
          1724078613.6,
          1724079124.8,
          1724079636,
          1724080147.2,
          1724080658.4,
          1724081169.6,
          1724081680.8,
          1724082192,
          1724082703.2,
          1724083214.4,
          1724083725.6,
          1724084236.8,
          1724084748,
          1724085259.2,
          1724085770.4,
          1724086281.6,
          1724086792.8,
          1724087304,
          1724087815.2,
          1724088326.4,
          1724088837.6,
          1724089348.8,
          1724089860,
          1724090371.2,
          1724090882.4,
          1724091393.6,
          1724091904.8,
          1724092416,
          1724092927.2,
          1724093438.4,
          1724093949.6,
          1724094460.8,
          1724094972,
          1724095483.2,
          1724095994.4,
          1724096505.6,
          1724097016.8,
          1724097528,
          1724098039.2,
          1724098550.4,
          1724099061.6,
          1724099572.8,
          1724100084,
          1724100595.2,
          1724101106.4,
          1724101617.6,
          1724102128.8,
          1724102640,
          1724103151.2,
          1724103662.4,
          1724104173.6,
          1724104684.8,
          1724105196,
          1724105707.2,
          1724106218.4,
          1724106729.6,
          1724107240.8,
          1724107752,
          1724108263.2,
          1724108774.4,
          1724109285.6,
          1724109796.8,
          1724110308,
          1724110819.2,
          1724111330.4,
          1724111841.6,
          1724112352.8,
          1724112864,
          1724113375.2,
          1724113886.4,
          1724114397.6,
          1724114908.8,
          1724115420,
          1724115931.2,
          1724116442.4,
          1724116953.6,
          1724117464.8,
          1724117976,
          1724118487.2,
          1724118998.4,
          1724119509.6,
          1724120020.8,
          1724120532,
          1724121043.2,
          1724121554.4,
          1724122065.6,
          1724122576.8,
          1724123088,
          1724123599.2,
          1724124110.4,
          1724124621.6,
          1724125132.8,
          1724125644,
          1724126155.2,
          1724126666.4,
          1724127177.6,
          1724127688.8,
          1724128200,
          1724128711.2,
          1724129222.4,
          1724129733.6,
          1724130244.8,
          1724130756,
          1724131267.2,
          1724131778.4,
          1724132289.6,
          1724132800.8,
          1724133312,
          1724133823.2,
          1724134334.4,
          1724134845.6,
          1724135356.8,
          1724135868,
          1724136379.2,
          1724136890.4,
          1724137401.6,
          1724137912.8,
          1724138424,
          1724138935.2,
          1724139446.4,
          1724139957.6,
          1724140468.8,
          1724140980,
          1724141491.2,
          1724142002.4,
          1724142513.6,
          1724143024.8,
          1724143536,
          1724144047.2,
          1724144558.4,
          1724145069.6,
          1724145580.8,
          1724146092,
          1724146603.2,
          1724147114.4,
          1724147625.6,
          1724148136.8,
          1724148648,
          1724149159.2,
          1724149670.4,
          1724150181.6,
          1724150692.8,
          1724151204,
          1724151715.2,
          1724152226.4,
          1724152737.6,
          1724153248.8,
          1724153760,
          1724154271.2,
          1724154782.4,
          1724155293.6,
          1724155804.8,
          1724156316,
          1724156827.2,
          1724157338.4,
          1724157849.6,
          1724158360.8,
          1724158872,
          1724159383.2,
          1724159894.4,
          1724160405.6,
          1724160916.8,
          1724161428,
          1724161939.2,
          1724162450.4,
          1724162961.6,
          1724163472.8,
          1724163984,
          1724164495.2,
          1724165006.4,
          1724165517.6,
          1724166028.8,
          1724166540,
          1724167051.2,
          1724167562.4,
          1724168073.6,
          1724168584.8,
          1724169096,
          1724169607.2,
          1724170118.4,
          1724170629.6,
          1724171140.8,
          1724171652,
          1724172163.2,
          1724172674.4,
          1724173185.6,
          1724173696.8,
          1724174208,
          1724174719.2,
          1724175230.4,
          1724175741.6,
          1724176252.8,
          1724176764,
          1724177275.2,
          1724177786.4,
          1724178297.6,
          1724178808.8,
          1724179320,
          1724179831.2,
          1724180342.4,
          1724180853.6,
          1724181364.8,
          1724181876,
          1724182387.2,
          1724182898.4,
          1724183409.6,
          1724183920.8,
          1724184432,
          1724184943.2,
          1724185454.4,
          1724185965.6,
          1724186476.8,
          1724186988,
          1724187499.2,
          1724188010.4,
          1724188521.6,
          1724189032.8,
          1724189544,
          1724190055.2,
          1724190566.4,
          1724191077.6,
          1724191588.8,
          1724192100,
          1724192611.2,
          1724193122.4,
          1724193633.6,
          1724194144.8,
          1724194656,
          1724195167.2,
          1724195678.4,
          1724196189.6,
          1724196700.8,
          1724197212,
          1724197723.2,
          1724198234.4,
          1724198745.6,
          1724199256.8,
          1724199768,
          1724200279.2,
          1724200790.4,
          1724201301.6,
          1724201812.8,
          1724202324,
          1724202835.2,
          1724203346.4,
          1724203857.6,
          1724204368.8,
          1724204880,
          1724205391.2,
          1724205902.4,
          1724206413.6,
          1724206924.8,
          1724207436,
          1724207947.2,
          1724208458.4,
          1724208969.6,
          1724209480.8,
          1724209992,
          1724210503.2,
          1724211014.4,
          1724211525.6,
          1724212036.8,
          1724212548,
          1724213059.2,
          1724213570.4,
          1724214081.6,
          1724214592.8,
          1724215104,
          1724215615.2,
          1724216126.4,
          1724216637.6,
          1724217148.8,
          1724217660,
          1724218171.2,
          1724218682.4,
          1724219193.6,
          1724219704.8,
          1724220216,
          1724220727.2,
          1724221238.4,
          1724221749.6,
          1724222260.8,
          1724222772,
          1724223283.2,
          1724223794.4,
          1724224305.6,
          1724224816.8,
          1724225328,
          1724225839.2,
          1724226350.4,
          1724226861.6,
          1724227372.8,
          1724227884,
          1724228395.2,
          1724228906.4,
          1724229417.6,
          1724229928.8,
          1724230440,
          1724230951.2,
          1724231462.4,
          1724231973.6,
          1724232484.8,
          1724232996,
          1724233507.2,
          1724234018.4,
          1724234529.6,
          1724235040.8,
          1724235552,
          1724236063.2,
          1724236574.4,
          1724237085.6,
          1724237596.8,
          1724238108,
          1724238619.2,
          1724239130.4,
          1724239641.6,
          1724240152.8,
          1724240664,
          1724241175.2,
          1724241686.4,
          1724242197.6,
          1724242708.8,
          1724243220,
          1724243731.2,
          1724244242.4,
          1724244753.6,
          1724245264.8,
          1724245776,
          1724246287.2,
          1724246798.4,
          1724247309.6,
          1724247820.8,
          1724248332,
          1724248843.2,
          1724249354.4,
          1724249865.6,
          1724250376.8,
          1724250888,
          1724251399.2,
          1724251910.4,
          1724252421.6,
          1724252932.8,
          1724253444,
          1724253955.2,
          1724254466.4,
          1724254977.6,
          1724255488.8
         ],
         "xaxis": "x",
         "y": [
          0.000002015504062355977,
          0.0000020400297833960867,
          0.000002064527248987356,
          0.0000020889902536160716,
          0.000002113412618100699,
          0.000002137788194162275,
          0.000002162110869178364,
          0.0000021863745707246704,
          0.0000022105732711325926,
          0.0000022347009919790243,
          0.0000022587518085139813,
          0.0000022827198540205973,
          0.000002306599324113009,
          0.0000023303844808908506,
          0.0000023540696571734766,
          0.000002377649260428674,
          0.000002401117776782059,
          0.000002424469774810278,
          0.0000024476999093394276,
          0.000002470802925083,
          0.0000024937736601276046,
          0.0000025166070493473917,
          0.0000025392981277521276,
          0.0000025618420336093742,
          0.0000025842340115558357,
          0.0000026064694154166856,
          0.000002628543711099066,
          0.000002650452479198567,
          0.0000026721914175313837,
          0.0000026937563435182394,
          0.0000027151431964283493,
          0.0000027363480394816766,
          0.0000027573670618175023,
          0.000002778196580261239,
          0.000002798833041088794,
          0.000002819273021453725,
          0.000002839513230819708,
          0.0000028595505121424173,
          0.0000028793818429966434,
          0.000002899004336508727,
          0.0000029184152421066528,
          0.0000029376119461607435,
          0.000002956591972521599,
          0.000002975352982825196,
          0.000002993892776749734,
          0.000003012209291993771,
          0.0000030303006042837053,
          0.00000304816492711479,
          0.0000030658006114062143,
          0.00000308320614501285,
          0.000003100380152104532,
          0.0000031173213924153344,
          0.000003134028760373097,
          0.00000315050128405906,
          0.0000031667381241594234,
          0.0000031827385726472164,
          0.000003198502051469594,
          0.000003214028111042187,
          0.0000032293164287075804,
          0.0000032443668070518352,
          0.00000325917917209325,
          0.0000032737535714029523,
          0.0000032880901721646702,
          0.0000033021892590782388,
          0.0000033160512322500865,
          0.000003329676604900223,
          0.0000033430660011197735,
          0.0000033562201534602175,
          0.0000033691399004924183,
          0.0000033818261842951292,
          0.000003394280047883644,
          0.000003406502632582917,
          0.000003418495175354903,
          0.0000034302590060465285,
          0.0000034417955446763365,
          0.0000034531062985745575,
          0.0000034641928595754473,
          0.0000034750569011222665,
          0.000003485700175397782,
          0.000003496124510406876,
          0.0000035063318070234963,
          0.0000035163240360448013,
          0.0000035261032352581193,
          0.0000035356715064565652,
          0.0000035450310125025194,
          0.000003554183974323993,
          0.000003563132668003308,
          0.000003571879421810625,
          0.0000035804266132764804,
          0.0000035887766662764827,
          0.000003596932048135804,
          0.0000036048952667566727,
          0.0000036126688677754205,
          0.0000036202554317275836,
          0.000003627657571297422,
          0.000003634877928532063,
          0.0000036419191721486165,
          0.0000036487839948441313,
          0.0000036554751106802218,
          0.0000036619952524950814,
          0.000003668347169350663,
          0.000003674533624041401,
          0.0000036805573906669035,
          0.0000036864212522283046,
          0.000003692127998308886,
          0.0000036976804227675958,
          0.0000037030813215420757,
          0.0000037083334904701773,
          0.000003713439723186475,
          0.000003718402809076349,
          0.000003723225531291199,
          0.000003727910664825543,
          0.000003732460974658748,
          0.0000037368792139476232,
          0.00000374116812231327,
          0.0000037453304241509703,
          0.0000037493688270366974,
          0.0000037532860201765566,
          0.000003757084672939204,
          0.000003760767433442654,
          0.0000037643369271987854,
          0.0000037677957558291298,
          0.000003771146495851632,
          0.0000037743916975144375,
          0.0000037775338837091983,
          0.0000037805755489228383,
          0.000003783519158279743,
          0.000003786367146623946,
          0.0000037891219176621672,
          0.000003791785843183437,
          0.000003794361262311158,
          0.0000037968504808324305,
          0.000003799255770570041,
          0.0000038015793688208773,
          0.0000038038234778419235,
          0.000003805990264384966,
          0.000003808081859287224,
          0.000003810100357116576,
          0.000003812047815855897,
          0.000003813926256645096,
          0.000003815737663555266,
          0.000003817483983425057,
          0.000003819167125727406,
          0.0000038207889624835375,
          0.000003822351328216698,
          0.000003823856019945129,
          0.000003825304797212801,
          0.000003826699382157134,
          0.000003828041459607902,
          0.000003829332677228971,
          0.000003830574645679657,
          0.000003831768938816579,
          0.000003832917093918347,
          0.00000383402061194359,
          0.0000038350809578124784,
          0.000003836099560711456,
          0.000003837077814423908,
          0.000003838017077685224,
          0.000003838918674554346,
          0.000003839783894809809,
          0.000003840613994357683,
          0.000003841410195664761,
          0.000003842173688201649,
          0.000003842905628903001,
          0.0000038436071426409115,
          0.000003844279322710714,
          0.000003844923231328044,
          0.000003845539900136375,
          0.000003846130330722021,
          0.0000038466954951413345,
          0.000003847236336449516,
          0.000003847753769239864,
          0.0000038482486801854064,
          0.000003848721928587202,
          0.000003849174346924728,
          0.0000038496067414080845,
          0.000003850019892532853,
          0.000003850414555636838,
          0.0000038507914614550785,
          0.0000038511513166763826,
          0.000003851494804495965,
          0.000003851822585169654,
          0.000003852135296563118,
          0.0000038524335546990894,
          0.000003852717954300845,
          0.000003852989069331599,
          0.000003853247453529284,
          0.000003853493640936371,
          0.000003853728146423559,
          0.000003853951466209176,
          0.000003854164078370093,
          0.00000385436644334772,
          0.000003854559004445911,
          0.000003854742188322506,
          0.000003854916405472813,
          0.000003855082050704945,
          0.000003855239503607451,
          0.000003855389129009032,
          0.000003855531277428997,
          0.000003855666285519868,
          0.000003855794476500139,
          0.000003855916160579372,
          0.000003856031635373285,
          0.000003856141186310073,
          0.000003856245087027429,
          0.000003856343599760267,
          0.000003856436975719081,
          0.0000038565254554589605,
          0.000003856609269238939,
          0.000003856688637372519,
          0.000003856763770567949,
          0.000003856834870259726,
          0.000003856902128930272,
          0.000003856965730422595,
          0.000003857025850243396,
          0.000003857082655856802,
          0.0000038571363069689905,
          0.000003857186955803743,
          0.000003857234747368607,
          0.0000038572798197122955,
          0.000003857322304172767,
          0.000003857362325616824,
          0.000003857400002670597,
          0.0000038574354479414314,
          0.000003857468768231095,
          0.000003857500064740485,
          0.00000385752943326583,
          0.00000385755696438658,
          0.0000038575827436449376,
          0.000003857606851717385,
          0.000003857629364577902,
          0.000003857650353653376,
          0.000003857669885970973,
          0.000003857688024297807,
          0.000003857704827272819,
          0.000003857720349530976,
          0.000003857734641819954,
          0.000003857747751109345,
          0.000003857759720692394,
          0.0000038577705902804585,
          0.000003857780396090103,
          0.000003857789170923094,
          0.000003857796944239132,
          0.0000038578037422215634,
          0.000003857809587836,
          0.000003857814500881947,
          0.000003857818498037459,
          0.000003857821592896876,
          0.000003857823796001646,
          0.000003857825114864286,
          0.000003857825553985469,
          0.0000038578251148642844,
          0.000003857823796001644,
          0.000003857821592896876,
          0.000003857818498037458,
          0.000003857814500881945,
          0.000003857809587835999,
          0.000003857803742221562,
          0.000003857796944239133,
          0.0000038577891709230915,
          0.000003857780396090107,
          0.000003857770590280456,
          0.000003857759720692395,
          0.0000038577477511093406,
          0.000003857734641819951,
          0.000003857720349530975,
          0.000003857704827272823,
          0.000003857688024297807,
          0.000003857669885970967,
          0.000003857650353653372,
          0.000003857629364577908,
          0.000003857606851717379,
          0.000003857582743644933,
          0.000003857556964386576,
          0.0000038575294332658365,
          0.000003857500064740478,
          0.000003857468768231091,
          0.000003857435447941426,
          0.000003857400002670611,
          0.000003857362325616817,
          0.000003857322304172762,
          0.000003857279819712288,
          0.00000385723474736862,
          0.000003857186955803736,
          0.0000038571363069689854,
          0.000003857082655856791,
          0.000003857025850243414,
          0.000003856965730422586,
          0.000003856902128930261,
          0.0000038568348702597136,
          0.000003856763770567971,
          0.000003856688637372505,
          0.000003856609269238926,
          0.0000038565254554589444,
          0.0000038564369757191064,
          0.000003856343599760253,
          0.000003856245087027412,
          0.000003856141186310053,
          0.000003856031635373319,
          0.000003855916160579351,
          0.000003855794476500119,
          0.000003855666285519847,
          0.00000385553127742904,
          0.000003855389129009008,
          0.0000038552395036074274,
          0.0000038550820507049165,
          0.000003854916405472864,
          0.000003854742188322478,
          0.000003854559004445878,
          0.000003854366443347691,
          0.000003854164078370157,
          0.000003853951466209143,
          0.000003853728146423523,
          0.0000038534936409363325,
          0.000003853247453529362,
          0.000003852989069331562,
          0.000003852717954300803,
          0.000003852433554699045,
          0.000003852135296563211,
          0.000003851822585169607,
          0.000003851494804495912,
          0.000003851151316676324,
          0.0000038507914614551895,
          0.000003850414555636779,
          0.000003850019892532791,
          0.000003849606741408016,
          0.000003849174346924861,
          0.0000038487219285871285,
          0.0000038482486801853285,
          0.000003847753769239784,
          0.0000038472363364496736,
          0.000003846695495141248,
          0.00000384613033072193,
          0.000003845539900136284,
          0.000003844923231328232,
          0.000003844279322710611,
          0.000003843607142640804,
          0.0000038429056289028894,
          0.000003842173688201873,
          0.000003841410195664638,
          0.000003840613994357557,
          0.0000038397838948096766,
          0.00000383891867455461,
          0.00000383801707768508,
          0.000003837077814423757,
          0.0000038360995607113015,
          0.0000038350809578127884,
          0.000003834020611943419,
          0.0000038329170939181696,
          0.000003831768938816398,
          0.000003830574645680021,
          0.000003829332677228776,
          0.000003828041459607696,
          0.000003826699382156921,
          0.000003825304797213229,
          0.0000038238560199449,
          0.00000382235132821646,
          0.00000382078896248329,
          0.000003819167125727904,
          0.000003817483983424792,
          0.000003815737663554989,
          0.0000038139262566448093,
          0.0000038120478158555994,
          0.0000038101003571162698,
          0.0000038080818592869044,
          0.0000038059902643846363,
          0.000003803823477841584,
          0.000003801579368820523,
          0.000003799255770569674,
          0.0000037968504808320506,
          0.0000037943612623107687,
          0.000003791785843183032,
          0.000003789121917661748,
          0.000003786367146623514,
          0.0000037835191582792957,
          0.000003780575548922376,
          0.000003777533883708721,
          0.0000037743916975154,
          0.000003771146495851126,
          0.0000037677957558286076,
          0.0000037643369271982446,
          0.00000376076743344375,
          0.0000037570846729386293,
          0.0000037532860201759633,
          0.0000037493688270360876,
          0.0000037453304241522086,
          0.000003741168122312624,
          0.000003736879213946958,
          0.000003732460974658062,
          0.0000037279106648269422,
          0.0000037232255312904736,
          0.0000037184028090756017,
          0.000003713439723185706,
          0.0000037083334904717485,
          0.000003703081321541264,
          0.000003697680422766762,
          0.0000036921279983080315,
          0.000003686421252230063,
          0.0000036805573906660014,
          0.000003674533624040475,
          0.0000036683471693497115,
          0.00000366199525249704,
          0.00000365547511067922,
          0.000003648783994843106,
          0.000003641919172147567,
          0.000003634877928534239,
          0.000003627657571296319,
          0.0000036202554317264537,
          0.0000036126688677742656,
          0.000003604895266759076,
          0.0000035969320481345923,
          0.0000035887766662752435,
          0.0000035804266132752124,
          0.000003571879421813273,
          0.000003563132668001984,
          0.000003554183974322641,
          0.000003545031012501137,
          0.0000035356715064594667,
          0.0000035261032352566772,
          0.0000035163240360433283,
          0.0000035063318070219937,
          0.000003496124510410047,
          0.0000034857001753962185,
          0.0000034750569011206715,
          0.000003464192859573822,
          0.000003453106298578005,
          0.0000034417955446746475,
          0.0000034302590060448095,
          0.0000034184951753531504,
          0.000003406502632586652,
          0.000003394280047881828,
          0.000003381826184293281,
          0.0000033691399004905388,
          0.0000033562201534642476,
          0.000003343066001117829,
          0.0000033296766048982445,
          0.000003316051232248077,
          0.000003302189259082571,
          0.0000032880901721625975,
          0.000003273753571400847,
          0.00000325917917209111,
          0.0000032443668070564715,
          0.0000032293164287053777,
          0.0000032140281110399517,
          0.000003198502051467328,
          0.0000031827385726521575,
          0.000003166738124157094,
          0.0000031505012840566993,
          0.0000031340287603707058,
          0.000003117321392420585,
          0.0000031003801521020823,
          0.000003083206145010368,
          0.000003065800611403703,
          0.000003048164927120342,
          0.0000030303006042811354,
          0.000003012209291991174,
          0.0000029938927767471088,
          0.000002975352982831043,
          0.0000029565919725189164,
          0.000002937611946158034,
          0.0000029184152421039156,
          0.000002899004336514861,
          0.0000028793818429938567,
          0.000002859550512139604,
          0.0000028395132308168697,
          0.0000028192730214601355,
          0.00000279883304108591,
          0.00000277819658025833,
          0.0000027573670618145695,
          0.0000027363480394883478,
          0.0000027151431964253732,
          0.0000026937563435152443,
          0.0000026721914175283674,
          0.0000026504524792054825,
          0.0000026285437110960114,
          0.000002606469415413613,
          0.000002584234011552748,
          0.0000025618420336165134,
          0.000002539298127749006,
          0.0000025166070493442548,
          0.000002493773660124455,
          0.00000247080292509034,
          0.0000024476999093362516,
          0.000002424469774807091,
          0.0000024011177767788602,
          0.0000023776492604361905,
          0.000002354069657170259,
          0.000002330384480887624,
          0.0000023065993241097756,
          0.0000022827198540282642,
          0.0000022587518085107333,
          0.0000022347009919757704,
          0.0000022105732711293353,
          0.0000021863745707324567,
          0.0000021621108691751016,
          0.0000021377881941590116,
          0.000002113412618097433,
          0.000002088990253623951,
          0.000002064527248984093,
          0.0000020400297833928248
         ],
         "yaxis": "y"
        }
       ],
       "layout": {
        "showlegend": true,
        "template": {
         "data": {
          "bar": [
           {
            "error_x": {
             "color": "#2a3f5f"
            },
            "error_y": {
             "color": "#2a3f5f"
            },
            "marker": {
             "line": {
              "color": "#E5ECF6",
              "width": 0.5
             },
             "pattern": {
              "fillmode": "overlay",
              "size": 10,
              "solidity": 0.2
             }
            },
            "type": "bar"
           }
          ],
          "barpolar": [
           {
            "marker": {
             "line": {
              "color": "#E5ECF6",
              "width": 0.5
             },
             "pattern": {
              "fillmode": "overlay",
              "size": 10,
              "solidity": 0.2
             }
            },
            "type": "barpolar"
           }
          ],
          "carpet": [
           {
            "aaxis": {
             "endlinecolor": "#2a3f5f",
             "gridcolor": "white",
             "linecolor": "white",
             "minorgridcolor": "white",
             "startlinecolor": "#2a3f5f"
            },
            "baxis": {
             "endlinecolor": "#2a3f5f",
             "gridcolor": "white",
             "linecolor": "white",
             "minorgridcolor": "white",
             "startlinecolor": "#2a3f5f"
            },
            "type": "carpet"
           }
          ],
          "choropleth": [
           {
            "colorbar": {
             "outlinewidth": 0,
             "ticks": ""
            },
            "type": "choropleth"
           }
          ],
          "contour": [
           {
            "colorbar": {
             "outlinewidth": 0,
             "ticks": ""
            },
            "colorscale": [
             [
              0,
              "#0d0887"
             ],
             [
              0.1111111111111111,
              "#46039f"
             ],
             [
              0.2222222222222222,
              "#7201a8"
             ],
             [
              0.3333333333333333,
              "#9c179e"
             ],
             [
              0.4444444444444444,
              "#bd3786"
             ],
             [
              0.5555555555555556,
              "#d8576b"
             ],
             [
              0.6666666666666666,
              "#ed7953"
             ],
             [
              0.7777777777777778,
              "#fb9f3a"
             ],
             [
              0.8888888888888888,
              "#fdca26"
             ],
             [
              1,
              "#f0f921"
             ]
            ],
            "type": "contour"
           }
          ],
          "contourcarpet": [
           {
            "colorbar": {
             "outlinewidth": 0,
             "ticks": ""
            },
            "type": "contourcarpet"
           }
          ],
          "heatmap": [
           {
            "colorbar": {
             "outlinewidth": 0,
             "ticks": ""
            },
            "colorscale": [
             [
              0,
              "#0d0887"
             ],
             [
              0.1111111111111111,
              "#46039f"
             ],
             [
              0.2222222222222222,
              "#7201a8"
             ],
             [
              0.3333333333333333,
              "#9c179e"
             ],
             [
              0.4444444444444444,
              "#bd3786"
             ],
             [
              0.5555555555555556,
              "#d8576b"
             ],
             [
              0.6666666666666666,
              "#ed7953"
             ],
             [
              0.7777777777777778,
              "#fb9f3a"
             ],
             [
              0.8888888888888888,
              "#fdca26"
             ],
             [
              1,
              "#f0f921"
             ]
            ],
            "type": "heatmap"
           }
          ],
          "heatmapgl": [
           {
            "colorbar": {
             "outlinewidth": 0,
             "ticks": ""
            },
            "colorscale": [
             [
              0,
              "#0d0887"
             ],
             [
              0.1111111111111111,
              "#46039f"
             ],
             [
              0.2222222222222222,
              "#7201a8"
             ],
             [
              0.3333333333333333,
              "#9c179e"
             ],
             [
              0.4444444444444444,
              "#bd3786"
             ],
             [
              0.5555555555555556,
              "#d8576b"
             ],
             [
              0.6666666666666666,
              "#ed7953"
             ],
             [
              0.7777777777777778,
              "#fb9f3a"
             ],
             [
              0.8888888888888888,
              "#fdca26"
             ],
             [
              1,
              "#f0f921"
             ]
            ],
            "type": "heatmapgl"
           }
          ],
          "histogram": [
           {
            "marker": {
             "pattern": {
              "fillmode": "overlay",
              "size": 10,
              "solidity": 0.2
             }
            },
            "type": "histogram"
           }
          ],
          "histogram2d": [
           {
            "colorbar": {
             "outlinewidth": 0,
             "ticks": ""
            },
            "colorscale": [
             [
              0,
              "#0d0887"
             ],
             [
              0.1111111111111111,
              "#46039f"
             ],
             [
              0.2222222222222222,
              "#7201a8"
             ],
             [
              0.3333333333333333,
              "#9c179e"
             ],
             [
              0.4444444444444444,
              "#bd3786"
             ],
             [
              0.5555555555555556,
              "#d8576b"
             ],
             [
              0.6666666666666666,
              "#ed7953"
             ],
             [
              0.7777777777777778,
              "#fb9f3a"
             ],
             [
              0.8888888888888888,
              "#fdca26"
             ],
             [
              1,
              "#f0f921"
             ]
            ],
            "type": "histogram2d"
           }
          ],
          "histogram2dcontour": [
           {
            "colorbar": {
             "outlinewidth": 0,
             "ticks": ""
            },
            "colorscale": [
             [
              0,
              "#0d0887"
             ],
             [
              0.1111111111111111,
              "#46039f"
             ],
             [
              0.2222222222222222,
              "#7201a8"
             ],
             [
              0.3333333333333333,
              "#9c179e"
             ],
             [
              0.4444444444444444,
              "#bd3786"
             ],
             [
              0.5555555555555556,
              "#d8576b"
             ],
             [
              0.6666666666666666,
              "#ed7953"
             ],
             [
              0.7777777777777778,
              "#fb9f3a"
             ],
             [
              0.8888888888888888,
              "#fdca26"
             ],
             [
              1,
              "#f0f921"
             ]
            ],
            "type": "histogram2dcontour"
           }
          ],
          "mesh3d": [
           {
            "colorbar": {
             "outlinewidth": 0,
             "ticks": ""
            },
            "type": "mesh3d"
           }
          ],
          "parcoords": [
           {
            "line": {
             "colorbar": {
              "outlinewidth": 0,
              "ticks": ""
             }
            },
            "type": "parcoords"
           }
          ],
          "pie": [
           {
            "automargin": true,
            "type": "pie"
           }
          ],
          "scatter": [
           {
            "fillpattern": {
             "fillmode": "overlay",
             "size": 10,
             "solidity": 0.2
            },
            "type": "scatter"
           }
          ],
          "scatter3d": [
           {
            "line": {
             "colorbar": {
              "outlinewidth": 0,
              "ticks": ""
             }
            },
            "marker": {
             "colorbar": {
              "outlinewidth": 0,
              "ticks": ""
             }
            },
            "type": "scatter3d"
           }
          ],
          "scattercarpet": [
           {
            "marker": {
             "colorbar": {
              "outlinewidth": 0,
              "ticks": ""
             }
            },
            "type": "scattercarpet"
           }
          ],
          "scattergeo": [
           {
            "marker": {
             "colorbar": {
              "outlinewidth": 0,
              "ticks": ""
             }
            },
            "type": "scattergeo"
           }
          ],
          "scattergl": [
           {
            "marker": {
             "colorbar": {
              "outlinewidth": 0,
              "ticks": ""
             }
            },
            "type": "scattergl"
           }
          ],
          "scattermapbox": [
           {
            "marker": {
             "colorbar": {
              "outlinewidth": 0,
              "ticks": ""
             }
            },
            "type": "scattermapbox"
           }
          ],
          "scatterpolar": [
           {
            "marker": {
             "colorbar": {
              "outlinewidth": 0,
              "ticks": ""
             }
            },
            "type": "scatterpolar"
           }
          ],
          "scatterpolargl": [
           {
            "marker": {
             "colorbar": {
              "outlinewidth": 0,
              "ticks": ""
             }
            },
            "type": "scatterpolargl"
           }
          ],
          "scatterternary": [
           {
            "marker": {
             "colorbar": {
              "outlinewidth": 0,
              "ticks": ""
             }
            },
            "type": "scatterternary"
           }
          ],
          "surface": [
           {
            "colorbar": {
             "outlinewidth": 0,
             "ticks": ""
            },
            "colorscale": [
             [
              0,
              "#0d0887"
             ],
             [
              0.1111111111111111,
              "#46039f"
             ],
             [
              0.2222222222222222,
              "#7201a8"
             ],
             [
              0.3333333333333333,
              "#9c179e"
             ],
             [
              0.4444444444444444,
              "#bd3786"
             ],
             [
              0.5555555555555556,
              "#d8576b"
             ],
             [
              0.6666666666666666,
              "#ed7953"
             ],
             [
              0.7777777777777778,
              "#fb9f3a"
             ],
             [
              0.8888888888888888,
              "#fdca26"
             ],
             [
              1,
              "#f0f921"
             ]
            ],
            "type": "surface"
           }
          ],
          "table": [
           {
            "cells": {
             "fill": {
              "color": "#EBF0F8"
             },
             "line": {
              "color": "white"
             }
            },
            "header": {
             "fill": {
              "color": "#C8D4E3"
             },
             "line": {
              "color": "white"
             }
            },
            "type": "table"
           }
          ]
         },
         "layout": {
          "annotationdefaults": {
           "arrowcolor": "#2a3f5f",
           "arrowhead": 0,
           "arrowwidth": 1
          },
          "autotypenumbers": "strict",
          "coloraxis": {
           "colorbar": {
            "outlinewidth": 0,
            "ticks": ""
           }
          },
          "colorscale": {
           "diverging": [
            [
             0,
             "#8e0152"
            ],
            [
             0.1,
             "#c51b7d"
            ],
            [
             0.2,
             "#de77ae"
            ],
            [
             0.3,
             "#f1b6da"
            ],
            [
             0.4,
             "#fde0ef"
            ],
            [
             0.5,
             "#f7f7f7"
            ],
            [
             0.6,
             "#e6f5d0"
            ],
            [
             0.7,
             "#b8e186"
            ],
            [
             0.8,
             "#7fbc41"
            ],
            [
             0.9,
             "#4d9221"
            ],
            [
             1,
             "#276419"
            ]
           ],
           "sequential": [
            [
             0,
             "#0d0887"
            ],
            [
             0.1111111111111111,
             "#46039f"
            ],
            [
             0.2222222222222222,
             "#7201a8"
            ],
            [
             0.3333333333333333,
             "#9c179e"
            ],
            [
             0.4444444444444444,
             "#bd3786"
            ],
            [
             0.5555555555555556,
             "#d8576b"
            ],
            [
             0.6666666666666666,
             "#ed7953"
            ],
            [
             0.7777777777777778,
             "#fb9f3a"
            ],
            [
             0.8888888888888888,
             "#fdca26"
            ],
            [
             1,
             "#f0f921"
            ]
           ],
           "sequentialminus": [
            [
             0,
             "#0d0887"
            ],
            [
             0.1111111111111111,
             "#46039f"
            ],
            [
             0.2222222222222222,
             "#7201a8"
            ],
            [
             0.3333333333333333,
             "#9c179e"
            ],
            [
             0.4444444444444444,
             "#bd3786"
            ],
            [
             0.5555555555555556,
             "#d8576b"
            ],
            [
             0.6666666666666666,
             "#ed7953"
            ],
            [
             0.7777777777777778,
             "#fb9f3a"
            ],
            [
             0.8888888888888888,
             "#fdca26"
            ],
            [
             1,
             "#f0f921"
            ]
           ]
          },
          "colorway": [
           "#636efa",
           "#EF553B",
           "#00cc96",
           "#ab63fa",
           "#FFA15A",
           "#19d3f3",
           "#FF6692",
           "#B6E880",
           "#FF97FF",
           "#FECB52"
          ],
          "font": {
           "color": "#2a3f5f"
          },
          "geo": {
           "bgcolor": "white",
           "lakecolor": "white",
           "landcolor": "#E5ECF6",
           "showlakes": true,
           "showland": true,
           "subunitcolor": "white"
          },
          "hoverlabel": {
           "align": "left"
          },
          "hovermode": "closest",
          "mapbox": {
           "style": "light"
          },
          "paper_bgcolor": "white",
          "plot_bgcolor": "#E5ECF6",
          "polar": {
           "angularaxis": {
            "gridcolor": "white",
            "linecolor": "white",
            "ticks": ""
           },
           "bgcolor": "#E5ECF6",
           "radialaxis": {
            "gridcolor": "white",
            "linecolor": "white",
            "ticks": ""
           }
          },
          "scene": {
           "xaxis": {
            "backgroundcolor": "#E5ECF6",
            "gridcolor": "white",
            "gridwidth": 2,
            "linecolor": "white",
            "showbackground": true,
            "ticks": "",
            "zerolinecolor": "white"
           },
           "yaxis": {
            "backgroundcolor": "#E5ECF6",
            "gridcolor": "white",
            "gridwidth": 2,
            "linecolor": "white",
            "showbackground": true,
            "ticks": "",
            "zerolinecolor": "white"
           },
           "zaxis": {
            "backgroundcolor": "#E5ECF6",
            "gridcolor": "white",
            "gridwidth": 2,
            "linecolor": "white",
            "showbackground": true,
            "ticks": "",
            "zerolinecolor": "white"
           }
          },
          "shapedefaults": {
           "line": {
            "color": "#2a3f5f"
           }
          },
          "ternary": {
           "aaxis": {
            "gridcolor": "white",
            "linecolor": "white",
            "ticks": ""
           },
           "baxis": {
            "gridcolor": "white",
            "linecolor": "white",
            "ticks": ""
           },
           "bgcolor": "#E5ECF6",
           "caxis": {
            "gridcolor": "white",
            "linecolor": "white",
            "ticks": ""
           }
          },
          "title": {
           "x": 0.05
          },
          "xaxis": {
           "automargin": true,
           "gridcolor": "white",
           "linecolor": "white",
           "ticks": "",
           "title": {
            "standoff": 15
           },
           "zerolinecolor": "white",
           "zerolinewidth": 2
          },
          "yaxis": {
           "automargin": true,
           "gridcolor": "white",
           "linecolor": "white",
           "ticks": "",
           "title": {
            "standoff": 15
           },
           "zerolinecolor": "white",
           "zerolinewidth": 2
          }
         }
        },
        "title": {
         "text": "Distribution and KDE of Selected Feature"
        },
        "updatemenus": [
         {
          "active": 0,
          "buttons": [
           {
            "args": [
             {
              "visible": [
               true,
               true,
               false,
               false,
               false,
               false,
               false,
               false,
               false,
               false,
               false,
               false,
               false,
               false,
               false,
               false
              ]
             }
            ],
            "label": "aqi",
            "method": "update"
           },
           {
            "args": [
             {
              "visible": [
               false,
               false,
               true,
               true,
               false,
               false,
               false,
               false,
               false,
               false,
               false,
               false,
               false,
               false,
               false,
               false
              ]
             }
            ],
            "label": "co",
            "method": "update"
           },
           {
            "args": [
             {
              "visible": [
               false,
               false,
               false,
               false,
               true,
               true,
               false,
               false,
               false,
               false,
               false,
               false,
               false,
               false,
               false,
               false
              ]
             }
            ],
            "label": "no2",
            "method": "update"
           },
           {
            "args": [
             {
              "visible": [
               false,
               false,
               false,
               false,
               false,
               false,
               true,
               true,
               false,
               false,
               false,
               false,
               false,
               false,
               false,
               false
              ]
             }
            ],
            "label": "o3",
            "method": "update"
           },
           {
            "args": [
             {
              "visible": [
               false,
               false,
               false,
               false,
               false,
               false,
               false,
               false,
               true,
               true,
               false,
               false,
               false,
               false,
               false,
               false
              ]
             }
            ],
            "label": "pm10",
            "method": "update"
           },
           {
            "args": [
             {
              "visible": [
               false,
               false,
               false,
               false,
               false,
               false,
               false,
               false,
               false,
               false,
               true,
               true,
               false,
               false,
               false,
               false
              ]
             }
            ],
            "label": "pm25",
            "method": "update"
           },
           {
            "args": [
             {
              "visible": [
               false,
               false,
               false,
               false,
               false,
               false,
               false,
               false,
               false,
               false,
               false,
               false,
               true,
               true,
               false,
               false
              ]
             }
            ],
            "label": "so2",
            "method": "update"
           },
           {
            "args": [
             {
              "visible": [
               false,
               false,
               false,
               false,
               false,
               false,
               false,
               false,
               false,
               false,
               false,
               false,
               false,
               false,
               true,
               true
              ]
             }
            ],
            "label": "ts",
            "method": "update"
           }
          ],
          "x": 0.17,
          "xanchor": "right",
          "y": 1.15,
          "yanchor": "top"
         }
        ],
        "xaxis": {
         "title": {
          "text": "Feature Values"
         }
        },
        "yaxis": {
         "title": {
          "text": "Density"
         }
        }
       }
      }
     },
     "metadata": {},
     "output_type": "display_data"
    }
   ],
   "source": [
    "# Distribution plot with kde and histogram\n",
    "\n",
    "df_numeric = df.select_dtypes(include='number')\n",
    "features = df_numeric.columns\n",
    "\n",
    "fig = go.Figure()\n",
    "for feature in features:\n",
    "    hist_data = [df[feature]]\n",
    "    group_labels = [feature]\n",
    "    distplot = ff.create_distplot(hist_data, group_labels, show_hist=True, show_rug=False)\n",
    "    for trace in distplot.data:\n",
    "        trace.visible = (feature == features[0]) \n",
    "        fig.add_trace(trace)\n",
    "\n",
    "dropdown_buttons = [\n",
    "    dict(\n",
    "        label=feature,\n",
    "        method='update',\n",
    "        args=[{'visible': [i // 2 == j for i in range(len(features) * 2)]}]\n",
    "    )\n",
    "    for j, feature in enumerate(features)\n",
    "]\n",
    "\n",
    "fig.update_layout(\n",
    "    updatemenus=[\n",
    "        dict(\n",
    "            active=0,\n",
    "            buttons=dropdown_buttons,\n",
    "            x=0.17,\n",
    "            y=1.15,\n",
    "            xanchor='right',\n",
    "            yanchor='top'\n",
    "        )\n",
    "    ],\n",
    "    title='Distribution and KDE of Selected Feature',\n",
    "    xaxis_title='Feature Values',\n",
    "    yaxis_title='Density',\n",
    "    showlegend=True\n",
    ")\n",
    "\n",
    "fig.show()"
   ]
  },
  {
   "cell_type": "markdown",
   "metadata": {},
   "source": [
    "## 4. Data Transformation"
   ]
  },
  {
   "cell_type": "code",
   "execution_count": 11,
   "metadata": {},
   "outputs": [
    {
     "data": {
      "text/html": [
       "<div>\n",
       "<style scoped>\n",
       "    .dataframe tbody tr th:only-of-type {\n",
       "        vertical-align: middle;\n",
       "    }\n",
       "\n",
       "    .dataframe tbody tr th {\n",
       "        vertical-align: top;\n",
       "    }\n",
       "\n",
       "    .dataframe thead th {\n",
       "        text-align: right;\n",
       "    }\n",
       "</style>\n",
       "<table border=\"1\" class=\"dataframe\">\n",
       "  <thead>\n",
       "    <tr style=\"text-align: right;\">\n",
       "      <th></th>\n",
       "      <th>aqi</th>\n",
       "      <th>co</th>\n",
       "      <th>no2</th>\n",
       "      <th>o3</th>\n",
       "      <th>pm10</th>\n",
       "      <th>pm25</th>\n",
       "      <th>so2</th>\n",
       "      <th>timestamp_local</th>\n",
       "      <th>timestamp_utc</th>\n",
       "      <th>ts</th>\n",
       "      <th>year</th>\n",
       "      <th>month</th>\n",
       "      <th>day</th>\n",
       "      <th>hour</th>\n",
       "    </tr>\n",
       "  </thead>\n",
       "  <tbody>\n",
       "    <tr>\n",
       "      <th>0</th>\n",
       "      <td>84</td>\n",
       "      <td>70.4</td>\n",
       "      <td>3.7</td>\n",
       "      <td>147.3</td>\n",
       "      <td>16.3</td>\n",
       "      <td>11.67</td>\n",
       "      <td>8.0</td>\n",
       "      <td>2024-08-21 18:00:00</td>\n",
       "      <td>2024-08-21 16:00:00</td>\n",
       "      <td>1724256000</td>\n",
       "      <td>2024</td>\n",
       "      <td>8</td>\n",
       "      <td>21</td>\n",
       "      <td>18</td>\n",
       "    </tr>\n",
       "    <tr>\n",
       "      <th>1</th>\n",
       "      <td>98</td>\n",
       "      <td>70.0</td>\n",
       "      <td>2.0</td>\n",
       "      <td>158.0</td>\n",
       "      <td>14.0</td>\n",
       "      <td>10.00</td>\n",
       "      <td>8.0</td>\n",
       "      <td>2024-08-21 17:00:00</td>\n",
       "      <td>2024-08-21 15:00:00</td>\n",
       "      <td>1724252400</td>\n",
       "      <td>2024</td>\n",
       "      <td>8</td>\n",
       "      <td>21</td>\n",
       "      <td>17</td>\n",
       "    </tr>\n",
       "    <tr>\n",
       "      <th>2</th>\n",
       "      <td>95</td>\n",
       "      <td>69.8</td>\n",
       "      <td>2.0</td>\n",
       "      <td>156.0</td>\n",
       "      <td>13.0</td>\n",
       "      <td>9.33</td>\n",
       "      <td>8.7</td>\n",
       "      <td>2024-08-21 16:00:00</td>\n",
       "      <td>2024-08-21 14:00:00</td>\n",
       "      <td>1724248800</td>\n",
       "      <td>2024</td>\n",
       "      <td>8</td>\n",
       "      <td>21</td>\n",
       "      <td>16</td>\n",
       "    </tr>\n",
       "    <tr>\n",
       "      <th>3</th>\n",
       "      <td>92</td>\n",
       "      <td>69.6</td>\n",
       "      <td>2.0</td>\n",
       "      <td>154.0</td>\n",
       "      <td>12.0</td>\n",
       "      <td>8.67</td>\n",
       "      <td>9.3</td>\n",
       "      <td>2024-08-21 15:00:00</td>\n",
       "      <td>2024-08-21 13:00:00</td>\n",
       "      <td>1724245200</td>\n",
       "      <td>2024</td>\n",
       "      <td>8</td>\n",
       "      <td>21</td>\n",
       "      <td>15</td>\n",
       "    </tr>\n",
       "    <tr>\n",
       "      <th>4</th>\n",
       "      <td>90</td>\n",
       "      <td>69.4</td>\n",
       "      <td>2.0</td>\n",
       "      <td>152.0</td>\n",
       "      <td>11.0</td>\n",
       "      <td>8.00</td>\n",
       "      <td>10.0</td>\n",
       "      <td>2024-08-21 14:00:00</td>\n",
       "      <td>2024-08-21 12:00:00</td>\n",
       "      <td>1724241600</td>\n",
       "      <td>2024</td>\n",
       "      <td>8</td>\n",
       "      <td>21</td>\n",
       "      <td>14</td>\n",
       "    </tr>\n",
       "  </tbody>\n",
       "</table>\n",
       "</div>"
      ],
      "text/plain": [
       "   aqi    co  no2     o3  pm10   pm25   so2     timestamp_local  \\\n",
       "0   84  70.4  3.7  147.3  16.3  11.67   8.0 2024-08-21 18:00:00   \n",
       "1   98  70.0  2.0  158.0  14.0  10.00   8.0 2024-08-21 17:00:00   \n",
       "2   95  69.8  2.0  156.0  13.0   9.33   8.7 2024-08-21 16:00:00   \n",
       "3   92  69.6  2.0  154.0  12.0   8.67   9.3 2024-08-21 15:00:00   \n",
       "4   90  69.4  2.0  152.0  11.0   8.00  10.0 2024-08-21 14:00:00   \n",
       "\n",
       "        timestamp_utc          ts  year  month  day  hour  \n",
       "0 2024-08-21 16:00:00  1724256000  2024      8   21    18  \n",
       "1 2024-08-21 15:00:00  1724252400  2024      8   21    17  \n",
       "2 2024-08-21 14:00:00  1724248800  2024      8   21    16  \n",
       "3 2024-08-21 13:00:00  1724245200  2024      8   21    15  \n",
       "4 2024-08-21 12:00:00  1724241600  2024      8   21    14  "
      ]
     },
     "execution_count": 11,
     "metadata": {},
     "output_type": "execute_result"
    }
   ],
   "source": [
    "# Adding separated time columns: year, month, day, hour\n",
    "\n",
    "df['year'] = df['timestamp_local'].dt.year\n",
    "df['month'] = df['timestamp_local'].dt.month\n",
    "df['day'] = df['timestamp_local'].dt.day\n",
    "df['hour'] = df['timestamp_local'].dt.hour\n",
    "\n",
    "df.head()"
   ]
  },
  {
   "cell_type": "code",
   "execution_count": 12,
   "metadata": {},
   "outputs": [
    {
     "data": {
      "text/html": [
       "<div>\n",
       "<style scoped>\n",
       "    .dataframe tbody tr th:only-of-type {\n",
       "        vertical-align: middle;\n",
       "    }\n",
       "\n",
       "    .dataframe tbody tr th {\n",
       "        vertical-align: top;\n",
       "    }\n",
       "\n",
       "    .dataframe thead th {\n",
       "        text-align: right;\n",
       "    }\n",
       "</style>\n",
       "<table border=\"1\" class=\"dataframe\">\n",
       "  <thead>\n",
       "    <tr style=\"text-align: right;\">\n",
       "      <th></th>\n",
       "      <th>aqi</th>\n",
       "      <th>co</th>\n",
       "      <th>no2</th>\n",
       "      <th>o3</th>\n",
       "      <th>pm10</th>\n",
       "      <th>pm25</th>\n",
       "      <th>so2</th>\n",
       "      <th>timestamp_utc</th>\n",
       "      <th>ts</th>\n",
       "      <th>year</th>\n",
       "      <th>month</th>\n",
       "      <th>day</th>\n",
       "      <th>hour</th>\n",
       "    </tr>\n",
       "    <tr>\n",
       "      <th>timestamp_local</th>\n",
       "      <th></th>\n",
       "      <th></th>\n",
       "      <th></th>\n",
       "      <th></th>\n",
       "      <th></th>\n",
       "      <th></th>\n",
       "      <th></th>\n",
       "      <th></th>\n",
       "      <th></th>\n",
       "      <th></th>\n",
       "      <th></th>\n",
       "      <th></th>\n",
       "      <th></th>\n",
       "    </tr>\n",
       "  </thead>\n",
       "  <tbody>\n",
       "    <tr>\n",
       "      <th>2024-08-21 18:00:00</th>\n",
       "      <td>84</td>\n",
       "      <td>70.4</td>\n",
       "      <td>3.7</td>\n",
       "      <td>147.3</td>\n",
       "      <td>16.3</td>\n",
       "      <td>11.67</td>\n",
       "      <td>8.0</td>\n",
       "      <td>2024-08-21 16:00:00</td>\n",
       "      <td>1724256000</td>\n",
       "      <td>2024</td>\n",
       "      <td>8</td>\n",
       "      <td>21</td>\n",
       "      <td>18</td>\n",
       "    </tr>\n",
       "    <tr>\n",
       "      <th>2024-08-21 17:00:00</th>\n",
       "      <td>98</td>\n",
       "      <td>70.0</td>\n",
       "      <td>2.0</td>\n",
       "      <td>158.0</td>\n",
       "      <td>14.0</td>\n",
       "      <td>10.00</td>\n",
       "      <td>8.0</td>\n",
       "      <td>2024-08-21 15:00:00</td>\n",
       "      <td>1724252400</td>\n",
       "      <td>2024</td>\n",
       "      <td>8</td>\n",
       "      <td>21</td>\n",
       "      <td>17</td>\n",
       "    </tr>\n",
       "    <tr>\n",
       "      <th>2024-08-21 16:00:00</th>\n",
       "      <td>95</td>\n",
       "      <td>69.8</td>\n",
       "      <td>2.0</td>\n",
       "      <td>156.0</td>\n",
       "      <td>13.0</td>\n",
       "      <td>9.33</td>\n",
       "      <td>8.7</td>\n",
       "      <td>2024-08-21 14:00:00</td>\n",
       "      <td>1724248800</td>\n",
       "      <td>2024</td>\n",
       "      <td>8</td>\n",
       "      <td>21</td>\n",
       "      <td>16</td>\n",
       "    </tr>\n",
       "    <tr>\n",
       "      <th>2024-08-21 15:00:00</th>\n",
       "      <td>92</td>\n",
       "      <td>69.6</td>\n",
       "      <td>2.0</td>\n",
       "      <td>154.0</td>\n",
       "      <td>12.0</td>\n",
       "      <td>8.67</td>\n",
       "      <td>9.3</td>\n",
       "      <td>2024-08-21 13:00:00</td>\n",
       "      <td>1724245200</td>\n",
       "      <td>2024</td>\n",
       "      <td>8</td>\n",
       "      <td>21</td>\n",
       "      <td>15</td>\n",
       "    </tr>\n",
       "    <tr>\n",
       "      <th>2024-08-21 14:00:00</th>\n",
       "      <td>90</td>\n",
       "      <td>69.4</td>\n",
       "      <td>2.0</td>\n",
       "      <td>152.0</td>\n",
       "      <td>11.0</td>\n",
       "      <td>8.00</td>\n",
       "      <td>10.0</td>\n",
       "      <td>2024-08-21 12:00:00</td>\n",
       "      <td>1724241600</td>\n",
       "      <td>2024</td>\n",
       "      <td>8</td>\n",
       "      <td>21</td>\n",
       "      <td>14</td>\n",
       "    </tr>\n",
       "  </tbody>\n",
       "</table>\n",
       "</div>"
      ],
      "text/plain": [
       "                     aqi    co  no2     o3  pm10   pm25   so2  \\\n",
       "timestamp_local                                                 \n",
       "2024-08-21 18:00:00   84  70.4  3.7  147.3  16.3  11.67   8.0   \n",
       "2024-08-21 17:00:00   98  70.0  2.0  158.0  14.0  10.00   8.0   \n",
       "2024-08-21 16:00:00   95  69.8  2.0  156.0  13.0   9.33   8.7   \n",
       "2024-08-21 15:00:00   92  69.6  2.0  154.0  12.0   8.67   9.3   \n",
       "2024-08-21 14:00:00   90  69.4  2.0  152.0  11.0   8.00  10.0   \n",
       "\n",
       "                          timestamp_utc          ts  year  month  day  hour  \n",
       "timestamp_local                                                              \n",
       "2024-08-21 18:00:00 2024-08-21 16:00:00  1724256000  2024      8   21    18  \n",
       "2024-08-21 17:00:00 2024-08-21 15:00:00  1724252400  2024      8   21    17  \n",
       "2024-08-21 16:00:00 2024-08-21 14:00:00  1724248800  2024      8   21    16  \n",
       "2024-08-21 15:00:00 2024-08-21 13:00:00  1724245200  2024      8   21    15  \n",
       "2024-08-21 14:00:00 2024-08-21 12:00:00  1724241600  2024      8   21    14  "
      ]
     },
     "execution_count": 12,
     "metadata": {},
     "output_type": "execute_result"
    }
   ],
   "source": [
    "# Create Time Index\n",
    "\n",
    "df.set_index('timestamp_local', inplace=True)\n",
    "\n",
    "df.head()"
   ]
  },
  {
   "cell_type": "code",
   "execution_count": 21,
   "metadata": {},
   "outputs": [
    {
     "data": {
      "text/html": [
       "<div>\n",
       "<style scoped>\n",
       "    .dataframe tbody tr th:only-of-type {\n",
       "        vertical-align: middle;\n",
       "    }\n",
       "\n",
       "    .dataframe tbody tr th {\n",
       "        vertical-align: top;\n",
       "    }\n",
       "\n",
       "    .dataframe thead th {\n",
       "        text-align: right;\n",
       "    }\n",
       "</style>\n",
       "<table border=\"1\" class=\"dataframe\">\n",
       "  <thead>\n",
       "    <tr style=\"text-align: right;\">\n",
       "      <th></th>\n",
       "      <th>aqi</th>\n",
       "      <th>co</th>\n",
       "      <th>no2</th>\n",
       "      <th>o3</th>\n",
       "      <th>pm10</th>\n",
       "      <th>pm25</th>\n",
       "      <th>so2</th>\n",
       "      <th>pm10_pm25_ratio</th>\n",
       "      <th>no2_o3_ratio</th>\n",
       "      <th>co_so2_ratio</th>\n",
       "      <th>timestamp_utc</th>\n",
       "      <th>ts</th>\n",
       "      <th>year</th>\n",
       "      <th>month</th>\n",
       "      <th>day</th>\n",
       "      <th>hour</th>\n",
       "    </tr>\n",
       "    <tr>\n",
       "      <th>timestamp_local</th>\n",
       "      <th></th>\n",
       "      <th></th>\n",
       "      <th></th>\n",
       "      <th></th>\n",
       "      <th></th>\n",
       "      <th></th>\n",
       "      <th></th>\n",
       "      <th></th>\n",
       "      <th></th>\n",
       "      <th></th>\n",
       "      <th></th>\n",
       "      <th></th>\n",
       "      <th></th>\n",
       "      <th></th>\n",
       "      <th></th>\n",
       "      <th></th>\n",
       "    </tr>\n",
       "  </thead>\n",
       "  <tbody>\n",
       "    <tr>\n",
       "      <th>2024-08-21 18:00:00</th>\n",
       "      <td>84</td>\n",
       "      <td>70.4</td>\n",
       "      <td>3.7</td>\n",
       "      <td>147.3</td>\n",
       "      <td>16.3</td>\n",
       "      <td>11.67</td>\n",
       "      <td>8.0</td>\n",
       "      <td>1.40</td>\n",
       "      <td>0.03</td>\n",
       "      <td>8.80</td>\n",
       "      <td>2024-08-21 16:00:00</td>\n",
       "      <td>1724256000</td>\n",
       "      <td>2024</td>\n",
       "      <td>8</td>\n",
       "      <td>21</td>\n",
       "      <td>18</td>\n",
       "    </tr>\n",
       "    <tr>\n",
       "      <th>2024-08-21 17:00:00</th>\n",
       "      <td>98</td>\n",
       "      <td>70.0</td>\n",
       "      <td>2.0</td>\n",
       "      <td>158.0</td>\n",
       "      <td>14.0</td>\n",
       "      <td>10.00</td>\n",
       "      <td>8.0</td>\n",
       "      <td>1.40</td>\n",
       "      <td>0.01</td>\n",
       "      <td>8.75</td>\n",
       "      <td>2024-08-21 15:00:00</td>\n",
       "      <td>1724252400</td>\n",
       "      <td>2024</td>\n",
       "      <td>8</td>\n",
       "      <td>21</td>\n",
       "      <td>17</td>\n",
       "    </tr>\n",
       "    <tr>\n",
       "      <th>2024-08-21 16:00:00</th>\n",
       "      <td>95</td>\n",
       "      <td>69.8</td>\n",
       "      <td>2.0</td>\n",
       "      <td>156.0</td>\n",
       "      <td>13.0</td>\n",
       "      <td>9.33</td>\n",
       "      <td>8.7</td>\n",
       "      <td>1.39</td>\n",
       "      <td>0.01</td>\n",
       "      <td>8.02</td>\n",
       "      <td>2024-08-21 14:00:00</td>\n",
       "      <td>1724248800</td>\n",
       "      <td>2024</td>\n",
       "      <td>8</td>\n",
       "      <td>21</td>\n",
       "      <td>16</td>\n",
       "    </tr>\n",
       "    <tr>\n",
       "      <th>2024-08-21 15:00:00</th>\n",
       "      <td>92</td>\n",
       "      <td>69.6</td>\n",
       "      <td>2.0</td>\n",
       "      <td>154.0</td>\n",
       "      <td>12.0</td>\n",
       "      <td>8.67</td>\n",
       "      <td>9.3</td>\n",
       "      <td>1.38</td>\n",
       "      <td>0.01</td>\n",
       "      <td>7.48</td>\n",
       "      <td>2024-08-21 13:00:00</td>\n",
       "      <td>1724245200</td>\n",
       "      <td>2024</td>\n",
       "      <td>8</td>\n",
       "      <td>21</td>\n",
       "      <td>15</td>\n",
       "    </tr>\n",
       "    <tr>\n",
       "      <th>2024-08-21 14:00:00</th>\n",
       "      <td>90</td>\n",
       "      <td>69.4</td>\n",
       "      <td>2.0</td>\n",
       "      <td>152.0</td>\n",
       "      <td>11.0</td>\n",
       "      <td>8.00</td>\n",
       "      <td>10.0</td>\n",
       "      <td>1.38</td>\n",
       "      <td>0.01</td>\n",
       "      <td>6.94</td>\n",
       "      <td>2024-08-21 12:00:00</td>\n",
       "      <td>1724241600</td>\n",
       "      <td>2024</td>\n",
       "      <td>8</td>\n",
       "      <td>21</td>\n",
       "      <td>14</td>\n",
       "    </tr>\n",
       "  </tbody>\n",
       "</table>\n",
       "</div>"
      ],
      "text/plain": [
       "                     aqi    co  no2     o3  pm10   pm25   so2  \\\n",
       "timestamp_local                                                 \n",
       "2024-08-21 18:00:00   84  70.4  3.7  147.3  16.3  11.67   8.0   \n",
       "2024-08-21 17:00:00   98  70.0  2.0  158.0  14.0  10.00   8.0   \n",
       "2024-08-21 16:00:00   95  69.8  2.0  156.0  13.0   9.33   8.7   \n",
       "2024-08-21 15:00:00   92  69.6  2.0  154.0  12.0   8.67   9.3   \n",
       "2024-08-21 14:00:00   90  69.4  2.0  152.0  11.0   8.00  10.0   \n",
       "\n",
       "                     pm10_pm25_ratio  no2_o3_ratio  co_so2_ratio  \\\n",
       "timestamp_local                                                    \n",
       "2024-08-21 18:00:00             1.40          0.03          8.80   \n",
       "2024-08-21 17:00:00             1.40          0.01          8.75   \n",
       "2024-08-21 16:00:00             1.39          0.01          8.02   \n",
       "2024-08-21 15:00:00             1.38          0.01          7.48   \n",
       "2024-08-21 14:00:00             1.38          0.01          6.94   \n",
       "\n",
       "                          timestamp_utc          ts  year  month  day  hour  \n",
       "timestamp_local                                                              \n",
       "2024-08-21 18:00:00 2024-08-21 16:00:00  1724256000  2024      8   21    18  \n",
       "2024-08-21 17:00:00 2024-08-21 15:00:00  1724252400  2024      8   21    17  \n",
       "2024-08-21 16:00:00 2024-08-21 14:00:00  1724248800  2024      8   21    16  \n",
       "2024-08-21 15:00:00 2024-08-21 13:00:00  1724245200  2024      8   21    15  \n",
       "2024-08-21 14:00:00 2024-08-21 12:00:00  1724241600  2024      8   21    14  "
      ]
     },
     "execution_count": 21,
     "metadata": {},
     "output_type": "execute_result"
    }
   ],
   "source": [
    "# Another possible transformation for this dataset could be adding a derived feature: Pollutant Ratio Features\n",
    "\n",
    "df['pm10_pm25_ratio'] = round(df['pm10'] / df['pm25'], 2)\n",
    "df['no2_o3_ratio'] = round(df['no2'] / df['o3'],2)\n",
    "df['co_so2_ratio'] = round(df['co'] / df['so2'],2)\n",
    "\n",
    "df = df[['aqi', 'co', 'no2', 'o3', 'pm10', 'pm25', 'so2', 'pm10_pm25_ratio', 'no2_o3_ratio', 'co_so2_ratio', 'timestamp_utc', 'ts',\n",
    "       'year', 'month', 'day', 'hour']]\n",
    "\n",
    "df.head()"
   ]
  },
  {
   "cell_type": "markdown",
   "metadata": {},
   "source": [
    "## 5. Export Transformed Data"
   ]
  },
  {
   "cell_type": "code",
   "execution_count": null,
   "metadata": {},
   "outputs": [],
   "source": [
    "trasformed_file_path = 'Data/Milan_Air_Quality_Transformed.json'\n",
    "\n",
    "df.to_csv(trasformed_file_path)"
   ]
  }
 ],
 "metadata": {
  "kernelspec": {
   "display_name": ".venv",
   "language": "python",
   "name": "python3"
  },
  "language_info": {
   "codemirror_mode": {
    "name": "ipython",
    "version": 3
   },
   "file_extension": ".py",
   "mimetype": "text/x-python",
   "name": "python",
   "nbconvert_exporter": "python",
   "pygments_lexer": "ipython3",
   "version": "3.11.9"
  }
 },
 "nbformat": 4,
 "nbformat_minor": 2
}
